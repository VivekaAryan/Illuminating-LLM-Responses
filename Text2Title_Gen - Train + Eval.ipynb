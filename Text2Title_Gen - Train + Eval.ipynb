{
  "cells": [
    {
      "cell_type": "markdown",
      "metadata": {},
      "source": [
        "# Generating Title from the body of text"
      ]
    },
    {
      "cell_type": "markdown",
      "metadata": {},
      "source": [
        "### Importing Dependencies"
      ]
    },
    {
      "cell_type": "code",
      "execution_count": 69,
      "metadata": {
        "id": "Nh1aheI2Cu3h",
        "outputId": "2a972e80-49d6-4678-c9e3-0dcb7bbbfeb0"
      },
      "outputs": [],
      "source": [
        "import pandas as pd\n",
        "import numpy as np\n",
        "from bs4 import BeautifulSoup as bs\n",
        "import os\n",
        "import requests\n",
        "import json\n",
        "import transformers\n",
        "from transformers import AutoTokenizer, AutoModel, AdamW, get_linear_schedule_with_warmup\n",
        "from transformers import T5Tokenizer, T5ForConditionalGeneration\n",
        "from transformers.optimization import  Adafactor\n",
        "import torch\n",
        "import torch.nn.functional as F\n",
        "from torch.utils.data import Dataset, DataLoader\n",
        "from tqdm import tqdm, trange\n",
        "from transformers.trainer_utils import set_seed\n",
        "import time\n",
        "import torch.nn.functional as F\n",
        "from torch.utils.data import DataLoader\n",
        "from transformers import AutoTokenizer, AutoModelForSeq2SeqLM, DataCollatorForSeq2Seq, Seq2SeqTrainingArguments, Seq2SeqTrainer\n",
        "from datasets import load_from_disk\n",
        "import nltk\n",
        "from nltk.tokenize import sent_tokenize\n",
        "import pytorch_lightning as pl\n",
        "from pytorch_lightning.callbacks import ModelCheckpoint\n",
        "from pytorch_lightning.loggers import TensorBoardLogger\n",
        "import matplotlib.pyplot as plt\n",
        "import seaborn as sns\n",
        "\n",
        "import warnings\n",
        "warnings.filterwarnings(\"ignore\")"
      ]
    },
    {
      "cell_type": "code",
      "execution_count": 70,
      "metadata": {
        "id": "DB8Vm9LM9i9s",
        "outputId": "03962b78-3b59-433f-8137-ffad7538a38c"
      },
      "outputs": [
        {
          "name": "stdout",
          "output_type": "stream",
          "text": [
            "cuda:0\n"
          ]
        }
      ],
      "source": [
        "device = torch.device('cuda:0' if torch.cuda.is_available() else 'cpu')\n",
        "print(device)"
      ]
    },
    {
      "cell_type": "code",
      "execution_count": 71,
      "metadata": {
        "id": "Mrx9IdCj9i9s",
        "outputId": "126bbf30-94c7-42b4-e7a1-e9ce3f08c30f"
      },
      "outputs": [
        {
          "name": "stdout",
          "output_type": "stream",
          "text": [
            "Running on the GPU\n"
          ]
        }
      ],
      "source": [
        "#Checking for the GPU availability\n",
        "\n",
        "if torch.cuda.is_available():\n",
        "    dev = torch.device(\"cuda:0\")\n",
        "    print(\"Running on the GPU\")\n",
        "else:\n",
        "    dev = torch.device(\"cpu\")\n",
        "    print(\"Running on the CPU\")"
      ]
    },
    {
      "attachments": {},
      "cell_type": "markdown",
      "metadata": {
        "id": "8fa7JNhC9bqU"
      },
      "source": [
        "## Preparing the data"
      ]
    },
    {
      "attachments": {},
      "cell_type": "markdown",
      "metadata": {
        "id": "8eo78E369i9t"
      },
      "source": [
        "### 1. Legal Data"
      ]
    },
    {
      "cell_type": "code",
      "execution_count": 72,
      "metadata": {
        "id": "RYBxdqdUl45D"
      },
      "outputs": [],
      "source": [
        "# iterate over files in that directory\n",
        "def get_docs(directory):\n",
        "  docs = []\n",
        "  for filename in os.listdir(directory):\n",
        "      f = os.path.join(directory, filename)\n",
        "      # checking if it is a file\n",
        "      if os.path.isfile(f):\n",
        "        docs.append(f)\n",
        "  return docs\n",
        "\n",
        "def read_file(file):\n",
        "  content = []\n",
        "\n",
        "  # Read the XML file\n",
        "  with open(file, \"r\", encoding = 'utf-8', errors='ignore') as file:\n",
        "      # Read each line in the file, readlines() returns a list of lines\n",
        "      content = file.readlines()\n",
        "\n",
        "  # Combine the lines in the list into a string\n",
        "  content = \"\".join(content)\n",
        "  bs_content = bs(content, \"lxml\")\n",
        "  return bs_content\n",
        "\n",
        "# Function for parsing the data based on tags\n",
        "def get_data(doc,tag):\n",
        "  tag_data = doc.find_all(tag)\n",
        "  xlist = []\n",
        "  for text in tag_data:\n",
        "    xlist.append(text.get_text())\n",
        "\n",
        "  return xlist"
      ]
    },
    {
      "cell_type": "code",
      "execution_count": 73,
      "metadata": {
        "id": "SB7Up_e-9h2F"
      },
      "outputs": [],
      "source": [
        "docs = get_docs(r'C:\\aryan\\text_gen_bert\\data\\fulltext')"
      ]
    },
    {
      "cell_type": "code",
      "execution_count": 74,
      "metadata": {
        "id": "PNwozjy-DgJv"
      },
      "outputs": [],
      "source": [
        "df = pd.DataFrame(docs, columns=['docs'])\n",
        "df['raw_data'] = df['docs'].apply(read_file)\n",
        "df['name'] = df['raw_data'].apply(get_data, tag = \"name\").apply(lambda row: ' '.join(row))\n",
        "df['subject'] = df['raw_data'].apply(get_data, tag = \"catchphrases\").apply(lambda row: ' '.join(row))\n",
        "df['body'] = df['raw_data'].apply(get_data, tag = \"sentences\").apply(lambda row: ' '.join(row))\n",
        "df['filename'] = df['docs'].str.rsplit(\"\\\\\", n=1, expand=True)[1].to_list()\n",
        "# df.set_index('filename',inplace=True)\n",
        "# df.index.name = None\n",
        "df.drop(columns=['docs','raw_data'], inplace=True)"
      ]
    },
    {
      "cell_type": "code",
      "execution_count": 187,
      "metadata": {},
      "outputs": [
        {
          "data": {
            "text/html": [
              "<div>\n",
              "<style scoped>\n",
              "    .dataframe tbody tr th:only-of-type {\n",
              "        vertical-align: middle;\n",
              "    }\n",
              "\n",
              "    .dataframe tbody tr th {\n",
              "        vertical-align: top;\n",
              "    }\n",
              "\n",
              "    .dataframe thead th {\n",
              "        text-align: right;\n",
              "    }\n",
              "</style>\n",
              "<table border=\"1\" class=\"dataframe\">\n",
              "  <thead>\n",
              "    <tr style=\"text-align: right;\">\n",
              "      <th></th>\n",
              "      <th>name</th>\n",
              "      <th>subject</th>\n",
              "      <th>body</th>\n",
              "      <th>filename</th>\n",
              "    </tr>\n",
              "  </thead>\n",
              "  <tbody>\n",
              "    <tr>\n",
              "      <th>3907</th>\n",
              "      <td>Combined Gunggandji People v State of Queensla...</td>\n",
              "      <td>\\ndeed of grant of land in trust\\nwhether leas...</td>\n",
              "      <td>\\n\\n GENERAL \\n In these proceedings, Mr Les M...</td>\n",
              "      <td>09_979.xml</td>\n",
              "    </tr>\n",
              "    <tr>\n",
              "      <th>3908</th>\n",
              "      <td>Allphones Retail Pty Limited v Australian Comp...</td>\n",
              "      <td>\\npreliminary discovery\\nidentity discovery\\na...</td>\n",
              "      <td>\\n\\n INTRODUCTION \\n In these proceedings the ...</td>\n",
              "      <td>09_980.xml</td>\n",
              "    </tr>\n",
              "    <tr>\n",
              "      <th>3909</th>\n",
              "      <td>Purcell v APS Chemicals Superannuation Pty Ltd...</td>\n",
              "      <td>\\nappeal from superannuation complaints tribun...</td>\n",
              "      <td>\\n\\n Ms Susan Purcell claims an entitlement to...</td>\n",
              "      <td>09_981.xml</td>\n",
              "    </tr>\n",
              "    <tr>\n",
              "      <th>3910</th>\n",
              "      <td>Hneidi v Minister for Immigration &amp; Citizenshi...</td>\n",
              "      <td>\\nappeal from decision of administrative appea...</td>\n",
              "      <td>\\n\\n \\n 1 This is an appeal from a decision of...</td>\n",
              "      <td>09_983.xml</td>\n",
              "    </tr>\n",
              "    <tr>\n",
              "      <th>3911</th>\n",
              "      <td>Minister for Immigration and Citizenship v SZK...</td>\n",
              "      <td>\\ns 424 of migration act 1958 (cth)\\nhigh cour...</td>\n",
              "      <td>\\n\\n INTRODUCTION \\n The appellant (Minister) ...</td>\n",
              "      <td>09_984.xml</td>\n",
              "    </tr>\n",
              "    <tr>\n",
              "      <th>3912</th>\n",
              "      <td>Makucha v Fairbrook PMA Pty Ltd [2009] FCA 985...</td>\n",
              "      <td>\\napplication for extension of time to appeal ...</td>\n",
              "      <td>\\n\\n This is an application for an extension o...</td>\n",
              "      <td>09_985.xml</td>\n",
              "    </tr>\n",
              "    <tr>\n",
              "      <th>3913</th>\n",
              "      <td>SZMPT v Minister for Immigration and Citizensh...</td>\n",
              "      <td>\\ncourt may have regard to reasons of tribunal...</td>\n",
              "      <td>\\n\\n INTRODUCTION \\n This is an appeal from or...</td>\n",
              "      <td>09_99.xml</td>\n",
              "    </tr>\n",
              "    <tr>\n",
              "      <th>3914</th>\n",
              "      <td>Kowalski v Mitsubishi Motors Australia Ltd [20...</td>\n",
              "      <td>\\napplication for judgment, for dismissal of p...</td>\n",
              "      <td>\\n\\n Mr Kazimir Kowalski has brought a proceed...</td>\n",
              "      <td>09_991.xml</td>\n",
              "    </tr>\n",
              "    <tr>\n",
              "      <th>3915</th>\n",
              "      <td>Shu Uan Eao v Commissioner of Taxation of the ...</td>\n",
              "      <td>\\nprocedural fairness\\nwhether inadequate inte...</td>\n",
              "      <td>\\n\\n One of the principal determinative issues...</td>\n",
              "      <td>09_992.xml</td>\n",
              "    </tr>\n",
              "    <tr>\n",
              "      <th>3916</th>\n",
              "      <td>Mcjannett, in the matter of an application for...</td>\n",
              "      <td>\\napplication for leave to issue a subpoena to...</td>\n",
              "      <td>\\n\\n ISSUE \\n The issue for determination, the...</td>\n",
              "      <td>09_996.xml</td>\n",
              "    </tr>\n",
              "  </tbody>\n",
              "</table>\n",
              "</div>"
            ],
            "text/plain": [
              "                                                   name  \\\n",
              "3907  Combined Gunggandji People v State of Queensla...   \n",
              "3908  Allphones Retail Pty Limited v Australian Comp...   \n",
              "3909  Purcell v APS Chemicals Superannuation Pty Ltd...   \n",
              "3910  Hneidi v Minister for Immigration & Citizenshi...   \n",
              "3911  Minister for Immigration and Citizenship v SZK...   \n",
              "3912  Makucha v Fairbrook PMA Pty Ltd [2009] FCA 985...   \n",
              "3913  SZMPT v Minister for Immigration and Citizensh...   \n",
              "3914  Kowalski v Mitsubishi Motors Australia Ltd [20...   \n",
              "3915  Shu Uan Eao v Commissioner of Taxation of the ...   \n",
              "3916  Mcjannett, in the matter of an application for...   \n",
              "\n",
              "                                                subject  \\\n",
              "3907  \\ndeed of grant of land in trust\\nwhether leas...   \n",
              "3908  \\npreliminary discovery\\nidentity discovery\\na...   \n",
              "3909  \\nappeal from superannuation complaints tribun...   \n",
              "3910  \\nappeal from decision of administrative appea...   \n",
              "3911  \\ns 424 of migration act 1958 (cth)\\nhigh cour...   \n",
              "3912  \\napplication for extension of time to appeal ...   \n",
              "3913  \\ncourt may have regard to reasons of tribunal...   \n",
              "3914  \\napplication for judgment, for dismissal of p...   \n",
              "3915  \\nprocedural fairness\\nwhether inadequate inte...   \n",
              "3916  \\napplication for leave to issue a subpoena to...   \n",
              "\n",
              "                                                   body    filename  \n",
              "3907  \\n\\n GENERAL \\n In these proceedings, Mr Les M...  09_979.xml  \n",
              "3908  \\n\\n INTRODUCTION \\n In these proceedings the ...  09_980.xml  \n",
              "3909  \\n\\n Ms Susan Purcell claims an entitlement to...  09_981.xml  \n",
              "3910  \\n\\n \\n 1 This is an appeal from a decision of...  09_983.xml  \n",
              "3911  \\n\\n INTRODUCTION \\n The appellant (Minister) ...  09_984.xml  \n",
              "3912  \\n\\n This is an application for an extension o...  09_985.xml  \n",
              "3913  \\n\\n INTRODUCTION \\n This is an appeal from or...   09_99.xml  \n",
              "3914  \\n\\n Mr Kazimir Kowalski has brought a proceed...  09_991.xml  \n",
              "3915  \\n\\n One of the principal determinative issues...  09_992.xml  \n",
              "3916  \\n\\n ISSUE \\n The issue for determination, the...  09_996.xml  "
            ]
          },
          "execution_count": 187,
          "metadata": {},
          "output_type": "execute_result"
        }
      ],
      "source": [
        "df.tail(10)"
      ]
    },
    {
      "cell_type": "code",
      "execution_count": 75,
      "metadata": {},
      "outputs": [
        {
          "data": {
            "text/html": [
              "<div>\n",
              "<style scoped>\n",
              "    .dataframe tbody tr th:only-of-type {\n",
              "        vertical-align: middle;\n",
              "    }\n",
              "\n",
              "    .dataframe tbody tr th {\n",
              "        vertical-align: top;\n",
              "    }\n",
              "\n",
              "    .dataframe thead th {\n",
              "        text-align: right;\n",
              "    }\n",
              "</style>\n",
              "<table border=\"1\" class=\"dataframe\">\n",
              "  <thead>\n",
              "    <tr style=\"text-align: right;\">\n",
              "      <th></th>\n",
              "      <th>name</th>\n",
              "      <th>subject</th>\n",
              "      <th>body</th>\n",
              "      <th>filename</th>\n",
              "    </tr>\n",
              "  </thead>\n",
              "  <tbody>\n",
              "    <tr>\n",
              "      <th>0</th>\n",
              "      <td>Sharman Networks Ltd v Universal Music Austral...</td>\n",
              "      <td>\\napplication for leave to appeal\\nauthorisati...</td>\n",
              "      <td>\\n\\n Background to the current application \\n ...</td>\n",
              "      <td>06_1.xml</td>\n",
              "    </tr>\n",
              "    <tr>\n",
              "      <th>1</th>\n",
              "      <td>Lawrance v Human Rights and Equal Opportunity ...</td>\n",
              "      <td>\\nno point of principle\\nadministrative law an...</td>\n",
              "      <td>\\n\\n \\n 1 These are two applications for order...</td>\n",
              "      <td>06_100.xml</td>\n",
              "    </tr>\n",
              "    <tr>\n",
              "      <th>2</th>\n",
              "      <td>Citrus Queensland Pty Ltd v Sunstate Orchards ...</td>\n",
              "      <td>\\ndiscovery\\nwhether inclusion of a document a...</td>\n",
              "      <td>\\n\\n \\n 1 I have before me two notices of moti...</td>\n",
              "      <td>06_1001.xml</td>\n",
              "    </tr>\n",
              "    <tr>\n",
              "      <th>3</th>\n",
              "      <td>Martech International Pty Ltd v Energy World C...</td>\n",
              "      <td>\\nvariation\\ntermination\\ninterpretation\\nmana...</td>\n",
              "      <td>\\n\\n \\n Introduction \\n \\n1 In 1985 Mr Fletche...</td>\n",
              "      <td>06_1004.xml</td>\n",
              "    </tr>\n",
              "    <tr>\n",
              "      <th>4</th>\n",
              "      <td>Commissioner of Taxation v Milne (with Corrige...</td>\n",
              "      <td>\\ncontext of liability to income tax\\nreview o...</td>\n",
              "      <td>\\n\\n Context to the present application by way...</td>\n",
              "      <td>06_1005.xml</td>\n",
              "    </tr>\n",
              "  </tbody>\n",
              "</table>\n",
              "</div>"
            ],
            "text/plain": [
              "                                                name  \\\n",
              "0  Sharman Networks Ltd v Universal Music Austral...   \n",
              "1  Lawrance v Human Rights and Equal Opportunity ...   \n",
              "2  Citrus Queensland Pty Ltd v Sunstate Orchards ...   \n",
              "3  Martech International Pty Ltd v Energy World C...   \n",
              "4  Commissioner of Taxation v Milne (with Corrige...   \n",
              "\n",
              "                                             subject  \\\n",
              "0  \\napplication for leave to appeal\\nauthorisati...   \n",
              "1  \\nno point of principle\\nadministrative law an...   \n",
              "2  \\ndiscovery\\nwhether inclusion of a document a...   \n",
              "3  \\nvariation\\ntermination\\ninterpretation\\nmana...   \n",
              "4  \\ncontext of liability to income tax\\nreview o...   \n",
              "\n",
              "                                                body     filename  \n",
              "0  \\n\\n Background to the current application \\n ...     06_1.xml  \n",
              "1  \\n\\n \\n 1 These are two applications for order...   06_100.xml  \n",
              "2  \\n\\n \\n 1 I have before me two notices of moti...  06_1001.xml  \n",
              "3  \\n\\n \\n Introduction \\n \\n1 In 1985 Mr Fletche...  06_1004.xml  \n",
              "4  \\n\\n Context to the present application by way...  06_1005.xml  "
            ]
          },
          "execution_count": 75,
          "metadata": {},
          "output_type": "execute_result"
        }
      ],
      "source": [
        "df.head()"
      ]
    },
    {
      "cell_type": "code",
      "execution_count": 76,
      "metadata": {
        "id": "hnpDmYn09i9u",
        "outputId": "f771a66c-1488-448e-82dd-d1a3380b75c7"
      },
      "outputs": [
        {
          "data": {
            "text/html": [
              "<div>\n",
              "<style scoped>\n",
              "    .dataframe tbody tr th:only-of-type {\n",
              "        vertical-align: middle;\n",
              "    }\n",
              "\n",
              "    .dataframe tbody tr th {\n",
              "        vertical-align: top;\n",
              "    }\n",
              "\n",
              "    .dataframe thead th {\n",
              "        text-align: right;\n",
              "    }\n",
              "</style>\n",
              "<table border=\"1\" class=\"dataframe\">\n",
              "  <thead>\n",
              "    <tr style=\"text-align: right;\">\n",
              "      <th></th>\n",
              "      <th>title</th>\n",
              "      <th>body</th>\n",
              "    </tr>\n",
              "  </thead>\n",
              "  <tbody>\n",
              "    <tr>\n",
              "      <th>0</th>\n",
              "      <td>Sharman Networks Ltd v Universal Music Austral...</td>\n",
              "      <td>\\n\\n Background to the current application \\n ...</td>\n",
              "    </tr>\n",
              "    <tr>\n",
              "      <th>1</th>\n",
              "      <td>Lawrance v Human Rights and Equal Opportunity ...</td>\n",
              "      <td>\\n\\n \\n 1 These are two applications for order...</td>\n",
              "    </tr>\n",
              "    <tr>\n",
              "      <th>2</th>\n",
              "      <td>Citrus Queensland Pty Ltd v Sunstate Orchards ...</td>\n",
              "      <td>\\n\\n \\n 1 I have before me two notices of moti...</td>\n",
              "    </tr>\n",
              "    <tr>\n",
              "      <th>3</th>\n",
              "      <td>Martech International Pty Ltd v Energy World C...</td>\n",
              "      <td>\\n\\n \\n Introduction \\n \\n1 In 1985 Mr Fletche...</td>\n",
              "    </tr>\n",
              "    <tr>\n",
              "      <th>4</th>\n",
              "      <td>Commissioner of Taxation v Milne (with Corrige...</td>\n",
              "      <td>\\n\\n Context to the present application by way...</td>\n",
              "    </tr>\n",
              "  </tbody>\n",
              "</table>\n",
              "</div>"
            ],
            "text/plain": [
              "                                               title  \\\n",
              "0  Sharman Networks Ltd v Universal Music Austral...   \n",
              "1  Lawrance v Human Rights and Equal Opportunity ...   \n",
              "2  Citrus Queensland Pty Ltd v Sunstate Orchards ...   \n",
              "3  Martech International Pty Ltd v Energy World C...   \n",
              "4  Commissioner of Taxation v Milne (with Corrige...   \n",
              "\n",
              "                                                body  \n",
              "0  \\n\\n Background to the current application \\n ...  \n",
              "1  \\n\\n \\n 1 These are two applications for order...  \n",
              "2  \\n\\n \\n 1 I have before me two notices of moti...  \n",
              "3  \\n\\n \\n Introduction \\n \\n1 In 1985 Mr Fletche...  \n",
              "4  \\n\\n Context to the present application by way...  "
            ]
          },
          "execution_count": 76,
          "metadata": {},
          "output_type": "execute_result"
        }
      ],
      "source": [
        "legal_docs = df.copy()[['name','body']]\n",
        "legal_docs.columns = ['title', 'body']\n",
        "legal_docs.head()"
      ]
    },
    {
      "attachments": {},
      "cell_type": "markdown",
      "metadata": {
        "id": "lV2KmtH59i9u"
      },
      "source": [
        "### 2. Research Papers Data"
      ]
    },
    {
      "cell_type": "code",
      "execution_count": 77,
      "metadata": {
        "id": "P_1oMKYk9i9u"
      },
      "outputs": [],
      "source": [
        "data_file = 'C:/aryan/text_to_title_gen/data/arxiv-metadata-oai-snapshot.json'\n",
        "\n",
        "def get_metadata():\n",
        "    with open(data_file, 'r') as f:\n",
        "        for line in f:\n",
        "            yield line"
      ]
    },
    {
      "cell_type": "code",
      "execution_count": 78,
      "metadata": {
        "id": "NsoG6GTX9i9u",
        "outputId": "598e7be2-de7a-469e-8d20-c3531eddd9f7"
      },
      "outputs": [
        {
          "name": "stdout",
          "output_type": "stream",
          "text": [
            "Title: Calculation of prompt diphoton production cross sections at Tevatron and\n",
            "  LHC energies\n",
            "\n",
            "Abstract:   A fully differential calculation in perturbative quantum chromodynamics is\n",
            "presented for the production of massive photon pairs at hadron colliders. All\n",
            "next-to-leading order perturbative contributions from quark-antiquark,\n",
            "gluon-(anti)quark, and gluon-gluon subprocesses are included, as well as\n",
            "all-orders resummation of initial-state gluon radiation valid at\n",
            "next-to-next-to-leading logarithmic accuracy. The region of phase space is\n",
            "specified in which the calculation is most reliable. Good agreement is\n",
            "demonstrated with data from the Fermilab Tevatron, and predictions are made for\n",
            "more detailed tests with CDF and DO data. Predictions are shown for\n",
            "distributions of diphoton pairs produced at the energy of the Large Hadron\n",
            "Collider (LHC). Distributions of the diphoton pairs from the decay of a Higgs\n",
            "boson are contrasted with those produced from QCD processes at the LHC, showing\n",
            "that enhanced sensitivity to the signal can be obtained with judicious\n",
            "selection of events.\n",
            "\n",
            "Ref: Phys.Rev.D76:013009,2007\n"
          ]
        }
      ],
      "source": [
        "metadata = get_metadata()\n",
        "for paper in metadata:\n",
        "    paper_dict = json.loads(paper)\n",
        "    print('Title: {}\\n\\nAbstract: {}\\nRef: {}'.format(paper_dict.get('title'), paper_dict.get('abstract'), paper_dict.get('journal-ref')))\n",
        "#     print(paper)\n",
        "    break"
      ]
    },
    {
      "cell_type": "code",
      "execution_count": 79,
      "metadata": {
        "id": "sl_l8Kf69i9u",
        "outputId": "cd21fbef-3798-4873-9e4d-9cb17f981ab3"
      },
      "outputs": [
        {
          "data": {
            "text/plain": [
              "(155668, 155668, 155668)"
            ]
          },
          "execution_count": 79,
          "metadata": {},
          "output_type": "execute_result"
        }
      ],
      "source": [
        "titles = []\n",
        "abstracts = []\n",
        "years = []\n",
        "metadata = get_metadata()\n",
        "for paper in metadata:\n",
        "    paper_dict = json.loads(paper)\n",
        "    ref = paper_dict.get('journal-ref')\n",
        "    try:\n",
        "        year = int(ref[-4:])\n",
        "        if 2000 < year < 2023:\n",
        "            years.append(year)\n",
        "            titles.append(paper_dict.get('title'))\n",
        "            abstracts.append(paper_dict.get('abstract'))\n",
        "    except:\n",
        "        pass\n",
        "\n",
        "len(titles), len(abstracts), len(years)"
      ]
    },
    {
      "cell_type": "code",
      "execution_count": 80,
      "metadata": {
        "id": "S-HeFsQm9i9u",
        "outputId": "d871e529-7365-4193-9f99-15ec5d3a5a9a"
      },
      "outputs": [
        {
          "data": {
            "text/html": [
              "<div>\n",
              "<style scoped>\n",
              "    .dataframe tbody tr th:only-of-type {\n",
              "        vertical-align: middle;\n",
              "    }\n",
              "\n",
              "    .dataframe tbody tr th {\n",
              "        vertical-align: top;\n",
              "    }\n",
              "\n",
              "    .dataframe thead th {\n",
              "        text-align: right;\n",
              "    }\n",
              "</style>\n",
              "<table border=\"1\" class=\"dataframe\">\n",
              "  <thead>\n",
              "    <tr style=\"text-align: right;\">\n",
              "      <th></th>\n",
              "      <th>title</th>\n",
              "      <th>abstract</th>\n",
              "      <th>year</th>\n",
              "    </tr>\n",
              "  </thead>\n",
              "  <tbody>\n",
              "    <tr>\n",
              "      <th>0</th>\n",
              "      <td>Calculation of prompt diphoton production cros...</td>\n",
              "      <td>A fully differential calculation in perturba...</td>\n",
              "      <td>2007</td>\n",
              "    </tr>\n",
              "    <tr>\n",
              "      <th>1</th>\n",
              "      <td>Polymer Quantum Mechanics and its Continuum Limit</td>\n",
              "      <td>A rather non-standard quantum representation...</td>\n",
              "      <td>2007</td>\n",
              "    </tr>\n",
              "    <tr>\n",
              "      <th>2</th>\n",
              "      <td>The Spitzer c2d Survey of Large, Nearby, Inste...</td>\n",
              "      <td>We discuss the results from the combined IRA...</td>\n",
              "      <td>2007</td>\n",
              "    </tr>\n",
              "    <tr>\n",
              "      <th>3</th>\n",
              "      <td>Fermionic superstring loop amplitudes in the p...</td>\n",
              "      <td>The pure spinor formulation of the ten-dimen...</td>\n",
              "      <td>2007</td>\n",
              "    </tr>\n",
              "    <tr>\n",
              "      <th>4</th>\n",
              "      <td>Lifetime of doubly charmed baryons</td>\n",
              "      <td>In this work, we evaluate the lifetimes of t...</td>\n",
              "      <td>2008</td>\n",
              "    </tr>\n",
              "  </tbody>\n",
              "</table>\n",
              "</div>"
            ],
            "text/plain": [
              "                                               title  \\\n",
              "0  Calculation of prompt diphoton production cros...   \n",
              "1  Polymer Quantum Mechanics and its Continuum Limit   \n",
              "2  The Spitzer c2d Survey of Large, Nearby, Inste...   \n",
              "3  Fermionic superstring loop amplitudes in the p...   \n",
              "4                 Lifetime of doubly charmed baryons   \n",
              "\n",
              "                                            abstract  year  \n",
              "0    A fully differential calculation in perturba...  2007  \n",
              "1    A rather non-standard quantum representation...  2007  \n",
              "2    We discuss the results from the combined IRA...  2007  \n",
              "3    The pure spinor formulation of the ten-dimen...  2007  \n",
              "4    In this work, we evaluate the lifetimes of t...  2008  "
            ]
          },
          "execution_count": 80,
          "metadata": {},
          "output_type": "execute_result"
        }
      ],
      "source": [
        "papers = pd.DataFrame({'title': titles,'abstract': abstracts,'year': years})\n",
        "papers.head()"
      ]
    },
    {
      "cell_type": "code",
      "execution_count": 81,
      "metadata": {
        "id": "iENtTfCT9i9u",
        "outputId": "44cf882e-8d5c-4995-abde-897d2180a2e4"
      },
      "outputs": [
        {
          "data": {
            "text/html": [
              "<div>\n",
              "<style scoped>\n",
              "    .dataframe tbody tr th:only-of-type {\n",
              "        vertical-align: middle;\n",
              "    }\n",
              "\n",
              "    .dataframe tbody tr th {\n",
              "        vertical-align: top;\n",
              "    }\n",
              "\n",
              "    .dataframe thead th {\n",
              "        text-align: right;\n",
              "    }\n",
              "</style>\n",
              "<table border=\"1\" class=\"dataframe\">\n",
              "  <thead>\n",
              "    <tr style=\"text-align: right;\">\n",
              "      <th></th>\n",
              "      <th>title</th>\n",
              "      <th>body</th>\n",
              "    </tr>\n",
              "  </thead>\n",
              "  <tbody>\n",
              "    <tr>\n",
              "      <th>0</th>\n",
              "      <td>Calculation of prompt diphoton production cros...</td>\n",
              "      <td>A fully differential calculation in perturba...</td>\n",
              "    </tr>\n",
              "    <tr>\n",
              "      <th>1</th>\n",
              "      <td>Polymer Quantum Mechanics and its Continuum Limit</td>\n",
              "      <td>A rather non-standard quantum representation...</td>\n",
              "    </tr>\n",
              "    <tr>\n",
              "      <th>2</th>\n",
              "      <td>The Spitzer c2d Survey of Large, Nearby, Inste...</td>\n",
              "      <td>We discuss the results from the combined IRA...</td>\n",
              "    </tr>\n",
              "    <tr>\n",
              "      <th>3</th>\n",
              "      <td>Fermionic superstring loop amplitudes in the p...</td>\n",
              "      <td>The pure spinor formulation of the ten-dimen...</td>\n",
              "    </tr>\n",
              "    <tr>\n",
              "      <th>4</th>\n",
              "      <td>Lifetime of doubly charmed baryons</td>\n",
              "      <td>In this work, we evaluate the lifetimes of t...</td>\n",
              "    </tr>\n",
              "  </tbody>\n",
              "</table>\n",
              "</div>"
            ],
            "text/plain": [
              "                                               title  \\\n",
              "0  Calculation of prompt diphoton production cros...   \n",
              "1  Polymer Quantum Mechanics and its Continuum Limit   \n",
              "2  The Spitzer c2d Survey of Large, Nearby, Inste...   \n",
              "3  Fermionic superstring loop amplitudes in the p...   \n",
              "4                 Lifetime of doubly charmed baryons   \n",
              "\n",
              "                                                body  \n",
              "0    A fully differential calculation in perturba...  \n",
              "1    A rather non-standard quantum representation...  \n",
              "2    We discuss the results from the combined IRA...  \n",
              "3    The pure spinor formulation of the ten-dimen...  \n",
              "4    In this work, we evaluate the lifetimes of t...  "
            ]
          },
          "execution_count": 81,
          "metadata": {},
          "output_type": "execute_result"
        }
      ],
      "source": [
        "# Adding <input_text> and <target_text> columns\n",
        "papers = papers[['title','abstract']]\n",
        "papers.columns = ['title', 'body']\n",
        "papers.head()\n"
      ]
    },
    {
      "cell_type": "code",
      "execution_count": 82,
      "metadata": {},
      "outputs": [],
      "source": [
        "# Setting aside 500 research papers for testing and model evaluation\n",
        "papers_train = papers[:-500]\n",
        "papers_test = papers[-500:]"
      ]
    },
    {
      "cell_type": "code",
      "execution_count": 83,
      "metadata": {},
      "outputs": [],
      "source": [
        "# Setting aside 500 legal docs for testing and model evaluation\n",
        "legal_docs_train = legal_docs[:-500]\n",
        "legal_docs_test = legal_docs[-500:]"
      ]
    },
    {
      "cell_type": "code",
      "execution_count": 84,
      "metadata": {},
      "outputs": [
        {
          "name": "stdout",
          "output_type": "stream",
          "text": [
            "Legal Docs - train Shape: (3417, 2), \n",
            "Research Papers - train Shape: (155168, 2)\n",
            " \n",
            "Legal Docs - test Shape: (500, 2), \n",
            "Research Papers - test Shape: (500, 2)\n"
          ]
        }
      ],
      "source": [
        "print('Legal Docs - train Shape: {}, \\nResearch Papers - train Shape: {}'.format(legal_docs_train.shape, papers_train.shape))\n",
        "print(' ')\n",
        "print('Legal Docs - test Shape: {}, \\nResearch Papers - test Shape: {}'.format(legal_docs_test.shape, papers_test.shape))"
      ]
    },
    {
      "cell_type": "code",
      "execution_count": 85,
      "metadata": {
        "id": "FHDby9xK9i9u"
      },
      "outputs": [],
      "source": [
        "legal_docs_train = legal_docs_train.head(2000)\n",
        "papers_train = papers_train.head(10000)"
      ]
    },
    {
      "cell_type": "markdown",
      "metadata": {},
      "source": [
        "### 3. Merging the datasets"
      ]
    },
    {
      "cell_type": "code",
      "execution_count": 150,
      "metadata": {
        "id": "f2K38Wff9i9u",
        "outputId": "6647df92-c1b3-4d7b-cb51-a4093066f5c8"
      },
      "outputs": [
        {
          "data": {
            "text/plain": [
              "(12000, 2)"
            ]
          },
          "execution_count": 150,
          "metadata": {},
          "output_type": "execute_result"
        }
      ],
      "source": [
        "final_df = pd.concat([legal_docs_train, papers_train], axis=0, ignore_index=True)\n",
        "final_df.shape"
      ]
    },
    {
      "cell_type": "code",
      "execution_count": 151,
      "metadata": {},
      "outputs": [
        {
          "data": {
            "text/plain": [
              "(1000, 2)"
            ]
          },
          "execution_count": 151,
          "metadata": {},
          "output_type": "execute_result"
        }
      ],
      "source": [
        "final_test_df = pd.concat([legal_docs_test, papers_test], axis=0, ignore_index=True)\n",
        "final_test_df.columns = ['headline', 'article']\n",
        "final_test_df.shape"
      ]
    },
    {
      "cell_type": "code",
      "execution_count": 152,
      "metadata": {
        "id": "eMgv7Da-9i9u",
        "outputId": "c542d253-ae50-43b8-f4c6-2180ea148e36"
      },
      "outputs": [
        {
          "name": "stdout",
          "output_type": "stream",
          "text": [
            "<class 'pandas.core.frame.DataFrame'>\n",
            "RangeIndex: 12000 entries, 0 to 11999\n",
            "Data columns (total 2 columns):\n",
            " #   Column    Non-Null Count  Dtype \n",
            "---  ------    --------------  ----- \n",
            " 0   headline  12000 non-null  object\n",
            " 1   article   12000 non-null  object\n",
            "dtypes: object(2)\n",
            "memory usage: 187.6+ KB\n"
          ]
        }
      ],
      "source": [
        "final_df['title'] = final_df['title'].astype(str)\n",
        "final_df['body'] = final_df['body'].astype(str)\n",
        "final_df.columns = ['headline', 'article']\n",
        "\n",
        "final_df.info()"
      ]
    },
    {
      "cell_type": "markdown",
      "metadata": {},
      "source": [
        "### 4. Train-Test Split"
      ]
    },
    {
      "cell_type": "code",
      "execution_count": 153,
      "metadata": {
        "id": "TUP6NHlB9i9v",
        "outputId": "663f9d8d-b9a9-4304-8210-392284ffa726"
      },
      "outputs": [
        {
          "data": {
            "text/plain": [
              "((9600, 2), (1200, 2), (1200, 2))"
            ]
          },
          "execution_count": 153,
          "metadata": {},
          "output_type": "execute_result"
        }
      ],
      "source": [
        "from sklearn.model_selection import train_test_split\n",
        "train_df, rest_df = train_test_split(final_df, test_size=0.2)\n",
        "test_df, val_df = train_test_split(rest_df, test_size=0.5)\n",
        "\n",
        "# train_df = train_df.head()\n",
        "# test_df = test_df.head()\n",
        "# val_df = val_df.head()\n",
        "train_df.shape, test_df.shape, val_df.shape"
      ]
    },
    {
      "cell_type": "markdown",
      "metadata": {},
      "source": [
        "## Training the T5 LLM to generate the headline"
      ]
    },
    {
      "cell_type": "code",
      "execution_count": 154,
      "metadata": {
        "id": "E7NQR1o89i9v"
      },
      "outputs": [],
      "source": [
        "MODEL_NAME = \"t5-base\" #smallest t5 model\n",
        "\n",
        "tokenizer = T5Tokenizer.from_pretrained(MODEL_NAME, model_max_length = 1024) # , model_max_length=10000"
      ]
    },
    {
      "cell_type": "code",
      "execution_count": 155,
      "metadata": {
        "id": "g0aAX5b39i9v",
        "outputId": "077bf1ff-4ced-4d32-dcb3-a487a65bab39"
      },
      "outputs": [
        {
          "name": "stderr",
          "output_type": "stream",
          "text": [
            "Token indices sequence length is longer than the specified maximum sequence length for this model (10397 > 1024). Running this sequence through the model will result in indexing errors\n"
          ]
        }
      ],
      "source": [
        "article_token_counts, headline_token_counts = [], []\n",
        "\n",
        "for _, row in train_df.iterrows():\n",
        "    article_token_count = len(tokenizer.encode(row[\"article\"]))\n",
        "    article_token_counts.append(article_token_count)\n",
        "\n",
        "    headline_token_count = len(tokenizer.encode(row[\"headline\"]))\n",
        "    headline_token_counts.append(headline_token_count)"
      ]
    },
    {
      "cell_type": "code",
      "execution_count": 156,
      "metadata": {
        "id": "pkpEhQmd9i9v",
        "outputId": "1a377da5-e516-4738-8679-d02889d7fd65"
      },
      "outputs": [
        {
          "data": {
            "text/plain": [
              "(2551596, 398)"
            ]
          },
          "execution_count": 156,
          "metadata": {},
          "output_type": "execute_result"
        }
      ],
      "source": [
        "final_df[\"article\"].str.len().max(), final_df[\"headline\"].str.len().max()"
      ]
    },
    {
      "cell_type": "code",
      "execution_count": 93,
      "metadata": {
        "id": "asDyRozE9i9v"
      },
      "outputs": [],
      "source": [
        "class NewsHeadlineDataset(Dataset):\n",
        "\n",
        "    def __init__(\n",
        "        self,\n",
        "        data: pd.DataFrame,\n",
        "        tokenizer: T5Tokenizer,\n",
        "        article_max_token_len: int = 512,\n",
        "        headline_max_token_len: int = 128\n",
        "    ):\n",
        "\n",
        "        self.tokenizer = tokenizer\n",
        "        self.data = data\n",
        "        self.article_max_token_len = article_max_token_len\n",
        "        self.headline_max_token_len = headline_max_token_len\n",
        "\n",
        "    def __len__(self):\n",
        "        return len(self.data)\n",
        "\n",
        "    def __getitem__(self, index: int):\n",
        "        data_row = self.data.iloc[index]\n",
        "\n",
        "        article = data_row[\"article\"]\n",
        "\n",
        "        article_encoding = tokenizer(\n",
        "            article,\n",
        "            max_length=self.article_max_token_len,\n",
        "            padding=\"max_length\",\n",
        "            truncation=True,\n",
        "            return_attention_mask=True,\n",
        "            add_special_tokens=True,\n",
        "            return_tensors=\"pt\"\n",
        "        )\n",
        "\n",
        "        headline_encoding = tokenizer(\n",
        "            data_row[\"headline\"],\n",
        "            max_length=self.headline_max_token_len,\n",
        "            padding=\"max_length\",\n",
        "            truncation=True,\n",
        "            return_attention_mask=True,\n",
        "            add_special_tokens=True,\n",
        "            return_tensors=\"pt\"\n",
        "        )\n",
        "\n",
        "        labels = headline_encoding[\"input_ids\"]\n",
        "        # giving padding (encoded with 0s) value of -100 so that it doesn't get counted in loss func, from docs\n",
        "        labels[labels == 0] = -100\n",
        "\n",
        "        return dict(\n",
        "            article=article,\n",
        "            headline=data_row[\"headline\"],\n",
        "            article_input_ids=article_encoding[\"input_ids\"].flatten(),\n",
        "            article_attention_mask=article_encoding[\"attention_mask\"].flatten(),\n",
        "            labels=labels.flatten(),\n",
        "            labels_attention_mask=headline_encoding[\"attention_mask\"].flatten()\n",
        "        )"
      ]
    },
    {
      "cell_type": "code",
      "execution_count": 94,
      "metadata": {
        "id": "4-VN5p8F9i9v"
      },
      "outputs": [],
      "source": [
        "class NewsHeadlineDataModule(pl.LightningDataModule):\n",
        "\n",
        "    def __init__(\n",
        "        self,\n",
        "        train_df: pd.DataFrame,\n",
        "        test_df: pd.DataFrame,\n",
        "        val_df: pd.DataFrame,\n",
        "        tokenizer: T5Tokenizer,\n",
        "        batch_size: int = 4,\n",
        "        article_max_token_len: int = 512,\n",
        "        headline_max_token_len: int = 128\n",
        "    ):\n",
        "\n",
        "        super().__init__()\n",
        "\n",
        "        self.train_df = train_df\n",
        "        self.test_df = test_df\n",
        "        self.val_df = val_df\n",
        "\n",
        "        self.batch_size = batch_size\n",
        "        self.tokenizer = tokenizer\n",
        "        self.article_max_token_len = article_max_token_len\n",
        "        self.headline_max_token_len = headline_max_token_len\n",
        "\n",
        "    def setup(self, stage=None):\n",
        "        self.train_dataset = NewsHeadlineDataset(\n",
        "            self.train_df,\n",
        "            self.tokenizer,\n",
        "            self.article_max_token_len,\n",
        "            self.headline_max_token_len\n",
        "        )\n",
        "\n",
        "        self.test_dataset = NewsHeadlineDataset(\n",
        "            self.test_df,\n",
        "            self.tokenizer,\n",
        "            self.article_max_token_len,\n",
        "            self.headline_max_token_len\n",
        "        )\n",
        "\n",
        "        self.val_dataset = NewsHeadlineDataset(\n",
        "            self.val_df,\n",
        "            self.tokenizer,\n",
        "            self.article_max_token_len,\n",
        "            self.headline_max_token_len\n",
        "        )\n",
        "\n",
        "    def train_dataloader(self):\n",
        "        return DataLoader(\n",
        "            self.train_dataset,\n",
        "            batch_size=self.batch_size,\n",
        "            shuffle=True, # used for training\n",
        "            num_workers=0\n",
        "        )\n",
        "\n",
        "    def val_dataloader(self):\n",
        "        return DataLoader(\n",
        "            self.test_dataset,\n",
        "            batch_size=self.batch_size,\n",
        "            shuffle=False,\n",
        "            num_workers=0\n",
        "        )\n",
        "\n",
        "    def test_dataloader(self):\n",
        "        return DataLoader(\n",
        "            self.val_dataset,\n",
        "            batch_size=self.batch_size,\n",
        "            shuffle=False,\n",
        "            num_workers=0\n",
        "        )"
      ]
    },
    {
      "attachments": {},
      "cell_type": "markdown",
      "metadata": {
        "id": "wAfv0_fo9i9v"
      },
      "source": [
        "### Model Building"
      ]
    },
    {
      "cell_type": "code",
      "execution_count": 29,
      "metadata": {
        "id": "eGA-XMOS9i9v"
      },
      "outputs": [],
      "source": [
        "N_EPOCHS = 10\n",
        "BATCH_SIZE = 1\n",
        "\n",
        "data_module = NewsHeadlineDataModule(train_df, test_df, val_df, tokenizer, batch_size=BATCH_SIZE)"
      ]
    },
    {
      "cell_type": "code",
      "execution_count": 30,
      "metadata": {
        "id": "-9OgP5dN9i9v"
      },
      "outputs": [],
      "source": [
        "class NewsHeadlineModel(pl.LightningModule):\n",
        "\n",
        "    def __init__(self):\n",
        "        super().__init__()\n",
        "        self.model = T5ForConditionalGeneration.from_pretrained(MODEL_NAME, return_dict=True)\n",
        "        self.val_loss = []\n",
        "        self.val_loss_epoch = []\n",
        "\n",
        "    def forward(self, input_ids, attention_mask, decoder_attention_mask, labels=None):\n",
        "        # if we have labels we are going to have decoder_attenttion_mask which is calculated from the summary encoding and the labels\n",
        "\n",
        "        output = self.model(\n",
        "            input_ids,\n",
        "            attention_mask=attention_mask,\n",
        "            labels=labels,\n",
        "            decoder_attention_mask=decoder_attention_mask\n",
        "        )\n",
        "\n",
        "        return output.loss, output.logits\n",
        "\n",
        "    def training_step(self, batch, batch_idx):\n",
        "        input_ids = batch[\"article_input_ids\"]\n",
        "        attention_mask = batch[\"article_attention_mask\"]\n",
        "        labels = batch[\"labels\"]\n",
        "        labels_attention_mask = batch[\"labels_attention_mask\"]\n",
        "\n",
        "        loss, outputs = self(\n",
        "            input_ids=input_ids,\n",
        "            attention_mask=attention_mask,\n",
        "            decoder_attention_mask=labels_attention_mask,\n",
        "            labels=labels\n",
        "        )\n",
        "\n",
        "        self.log(\"train_loss\", loss, prog_bar=True, logger=True)\n",
        "        return loss\n",
        "\n",
        "    def validation_step(self, batch, batch_idx):\n",
        "        input_ids = batch[\"article_input_ids\"]\n",
        "        attention_mask = batch[\"article_attention_mask\"]\n",
        "        labels = batch[\"labels\"]\n",
        "        labels_attention_mask = batch[\"labels_attention_mask\"]\n",
        "\n",
        "        loss, outputs = self(\n",
        "            input_ids=input_ids,\n",
        "            attention_mask=attention_mask,\n",
        "            decoder_attention_mask=labels_attention_mask,\n",
        "            labels=labels\n",
        "        )\n",
        "\n",
        "        self.log(\"val_loss\", loss, prog_bar=True, logger=True)\n",
        "        self.val_loss.append(loss)\n",
        "        return loss\n",
        "\n",
        "    def on_validation_epoch_end(self):\n",
        "      avg = sum(self.val_loss)/len(self.val_loss)\n",
        "      self.val_loss_epoch.append(avg)\n",
        "      self.val_loss = []\n",
        "    #   avg_loss = torch.stack([x[\"val_loss\"] for x in outputs]).mean()\n",
        "    #   self.logger.experiment.add_scalar('loss',avg_loss, self.current_epoch)\n",
        "\n",
        "    def test_step(self, batch, batch_idx):\n",
        "        input_ids = batch[\"article_input_ids\"]\n",
        "        attention_mask = batch[\"article_attention_mask\"]\n",
        "        labels = batch[\"labels\"]\n",
        "        labels_attention_mask = batch[\"labels_attention_mask\"]\n",
        "\n",
        "        loss, outputs = self(\n",
        "            input_ids=input_ids,\n",
        "            attention_mask=attention_mask,\n",
        "            decoder_attention_mask=labels_attention_mask,\n",
        "            labels=labels\n",
        "        )\n",
        "\n",
        "        self.log(\"test_loss\", loss, prog_bar=True, logger=True)\n",
        "        return loss\n",
        "\n",
        "    def configure_optimizers(self):\n",
        "        return torch.optim.AdamW(self.parameters(), lr=0.0001)"
      ]
    },
    {
      "cell_type": "code",
      "execution_count": 31,
      "metadata": {
        "id": "x8MMevnO9i9v"
      },
      "outputs": [
        {
          "name": "stdout",
          "output_type": "stream",
          "text": [
            "CPU times: total: 406 ms\n",
            "Wall time: 1.07 s\n"
          ]
        }
      ],
      "source": [
        "%%time\n",
        "model = NewsHeadlineModel()"
      ]
    },
    {
      "cell_type": "code",
      "execution_count": 32,
      "metadata": {
        "id": "SrZ7ldx79i9v",
        "outputId": "705f89aa-01c5-48f8-ef45-a25da7bdfcc3"
      },
      "outputs": [
        {
          "name": "stderr",
          "output_type": "stream",
          "text": [
            "GPU available: True (cuda), used: True\n",
            "TPU available: False, using: 0 TPU cores\n",
            "IPU available: False, using: 0 IPUs\n",
            "HPU available: False, using: 0 HPUs\n"
          ]
        }
      ],
      "source": [
        "checkpoint_callback = ModelCheckpoint(\n",
        "    dirpath=\"checkpoints\",\n",
        "    filename=\"best-checkpoint\",\n",
        "    save_top_k=1,\n",
        "    verbose=True,\n",
        "    monitor=\"val_loss\",\n",
        "    mode=\"min\"\n",
        ")\n",
        "\n",
        "logger = TensorBoardLogger(\"lightning_logs\", name=\"news-headline\")\n",
        "\n",
        "trainer = pl.Trainer(\n",
        "    logger=logger,\n",
        "    callbacks=checkpoint_callback,\n",
        "    max_epochs=N_EPOCHS,\n",
        "    # gpus=1\n",
        "    accelerator='gpu'  # Use 'ddp' for single GPU\n",
        ")"
      ]
    },
    {
      "cell_type": "code",
      "execution_count": 33,
      "metadata": {
        "id": "JKOT9s3o9i9y",
        "outputId": "911661af-87cf-4b1d-b76e-77816130ce93"
      },
      "outputs": [
        {
          "name": "stderr",
          "output_type": "stream",
          "text": [
            "LOCAL_RANK: 0 - CUDA_VISIBLE_DEVICES: [0]\n",
            "\n",
            "  | Name  | Type                       | Params\n",
            "-----------------------------------------------------\n",
            "0 | model | T5ForConditionalGeneration | 222 M \n",
            "-----------------------------------------------------\n",
            "222 M     Trainable params\n",
            "0         Non-trainable params\n",
            "222 M     Total params\n",
            "891.614   Total estimated model params size (MB)\n"
          ]
        },
        {
          "name": "stdout",
          "output_type": "stream",
          "text": [
            "Epoch 0: 100%|██████████| 9600/9600 [20:01<00:00,  7.99it/s, v_num=6, train_loss=2.990, val_loss=1.750]"
          ]
        },
        {
          "name": "stderr",
          "output_type": "stream",
          "text": [
            "Epoch 0, global step 9600: 'val_loss' reached 1.75337 (best 1.75337), saving model to 'C:\\\\aryan\\\\text_to_title_gen\\\\checkpoints\\\\best-checkpoint.ckpt' as top 1\n"
          ]
        },
        {
          "name": "stdout",
          "output_type": "stream",
          "text": [
            "Epoch 1: 100%|██████████| 9600/9600 [21:23<00:00,  7.48it/s, v_num=6, train_loss=1.430, val_loss=1.730]  "
          ]
        },
        {
          "name": "stderr",
          "output_type": "stream",
          "text": [
            "Epoch 1, global step 19200: 'val_loss' reached 1.72529 (best 1.72529), saving model to 'C:\\\\aryan\\\\text_to_title_gen\\\\checkpoints\\\\best-checkpoint.ckpt' as top 1\n"
          ]
        },
        {
          "name": "stdout",
          "output_type": "stream",
          "text": [
            "Epoch 2: 100%|██████████| 9600/9600 [26:16<00:00,  6.09it/s, v_num=6, train_loss=0.659, val_loss=1.760]  "
          ]
        },
        {
          "name": "stderr",
          "output_type": "stream",
          "text": [
            "Epoch 2, global step 28800: 'val_loss' was not in top 1\n"
          ]
        },
        {
          "name": "stdout",
          "output_type": "stream",
          "text": [
            "Epoch 3: 100%|██████████| 9600/9600 [26:11<00:00,  6.11it/s, v_num=6, train_loss=0.670, val_loss=1.820]  "
          ]
        },
        {
          "name": "stderr",
          "output_type": "stream",
          "text": [
            "Epoch 3, global step 38400: 'val_loss' was not in top 1\n"
          ]
        },
        {
          "name": "stdout",
          "output_type": "stream",
          "text": [
            "Epoch 4: 100%|██████████| 9600/9600 [25:30<00:00,  6.27it/s, v_num=6, train_loss=0.0617, val_loss=1.930] "
          ]
        },
        {
          "name": "stderr",
          "output_type": "stream",
          "text": [
            "Epoch 4, global step 48000: 'val_loss' was not in top 1\n"
          ]
        },
        {
          "name": "stdout",
          "output_type": "stream",
          "text": [
            "Epoch 5: 100%|██████████| 9600/9600 [19:54<00:00,  8.04it/s, v_num=6, train_loss=0.733, val_loss=2.010]  "
          ]
        },
        {
          "name": "stderr",
          "output_type": "stream",
          "text": [
            "Epoch 5, global step 57600: 'val_loss' was not in top 1\n"
          ]
        },
        {
          "name": "stdout",
          "output_type": "stream",
          "text": [
            "Epoch 6: 100%|██████████| 9600/9600 [19:48<00:00,  8.08it/s, v_num=6, train_loss=1.080, val_loss=2.120]   "
          ]
        },
        {
          "name": "stderr",
          "output_type": "stream",
          "text": [
            "Epoch 6, global step 67200: 'val_loss' was not in top 1\n"
          ]
        },
        {
          "name": "stdout",
          "output_type": "stream",
          "text": [
            "Epoch 7: 100%|██████████| 9600/9600 [21:04<00:00,  7.59it/s, v_num=6, train_loss=0.718, val_loss=2.220]   "
          ]
        },
        {
          "name": "stderr",
          "output_type": "stream",
          "text": [
            "Epoch 7, global step 76800: 'val_loss' was not in top 1\n"
          ]
        },
        {
          "name": "stdout",
          "output_type": "stream",
          "text": [
            "Epoch 8: 100%|██████████| 9600/9600 [25:51<00:00,  6.19it/s, v_num=6, train_loss=0.640, val_loss=2.320]   "
          ]
        },
        {
          "name": "stderr",
          "output_type": "stream",
          "text": [
            "Epoch 8, global step 86400: 'val_loss' was not in top 1\n"
          ]
        },
        {
          "name": "stdout",
          "output_type": "stream",
          "text": [
            "Epoch 9: 100%|██████████| 9600/9600 [20:28<00:00,  7.81it/s, v_num=6, train_loss=0.341, val_loss=2.420]   "
          ]
        },
        {
          "name": "stderr",
          "output_type": "stream",
          "text": [
            "Epoch 9, global step 96000: 'val_loss' was not in top 1\n",
            "`Trainer.fit` stopped: `max_epochs=10` reached.\n"
          ]
        },
        {
          "name": "stdout",
          "output_type": "stream",
          "text": [
            "Epoch 9: 100%|██████████| 9600/9600 [20:28<00:00,  7.81it/s, v_num=6, train_loss=0.341, val_loss=2.420]\n"
          ]
        }
      ],
      "source": [
        "torch.set_float32_matmul_precision('high')\n",
        "\n",
        "def new_func():\n",
        "    trainer.fit(model, data_module)\n",
        "\n",
        "new_func()"
      ]
    },
    {
      "cell_type": "code",
      "execution_count": 34,
      "metadata": {
        "id": "gEJeIxHi9i9y",
        "outputId": "24fc0e22-0620-426a-d5a0-7b4af4264237"
      },
      "outputs": [
        {
          "data": {
            "image/png": "[encoded data removed]",
            "text/plain": [
              "<Figure size 640x480 with 1 Axes>"
            ]
          },
          "metadata": {},
          "output_type": "display_data"
        }
      ],
      "source": [
        "a = model.val_loss_epoch\n",
        "a = torch.Tensor(a).cpu()\n",
        "plt.plot([0,1,2,3,4,5,6,7,8,9,10], a)\n",
        "plt.xlabel(\"Epochs\")\n",
        "plt.ylabel(\"Val Loss\")\n",
        "plt.title(\"Epoch vs Val Loss (12000 Samples)\")\n",
        "plt.savefig('Epoch vs Val Loss (12000 Samples).png')\n",
        "plt.show()"
      ]
    },
    {
      "cell_type": "code",
      "execution_count": 138,
      "metadata": {
        "id": "dtIjao-o9i9y"
      },
      "outputs": [],
      "source": [
        "# Saving checkpoint\n",
        "custom_path = \"C:/aryan/text_to_title_gen/checkpoints/best-checkpoint_12000samples.ckpt\"\n",
        "\n",
        "trained_model = NewsHeadlineModel.load_from_checkpoint(custom_path)\n",
        "\n",
        "trained_model.freeze()"
      ]
    },
    {
      "cell_type": "code",
      "execution_count": 139,
      "metadata": {
        "id": "h6pjB6c69i9y"
      },
      "outputs": [],
      "source": [
        "# To generate the headline\n",
        "\n",
        "def generate_headline(text):\n",
        "  text_encoding = tokenizer(\n",
        "      text,\n",
        "      max_length=512,\n",
        "      padding=\"max_length\",\n",
        "      truncation=True,\n",
        "      return_attention_mask=True,\n",
        "      add_special_tokens=True,\n",
        "      return_tensors=\"pt\"\n",
        "  )\n",
        "\n",
        "  generated_ids = trained_model.model.generate(\n",
        "      input_ids=text_encoding[\"input_ids\"].to(device),\n",
        "      attention_mask=text_encoding[\"attention_mask\"].to(device),\n",
        "      max_length=150,\n",
        "      num_beams=2, # beam search\n",
        "      repetition_penalty=2.5,\n",
        "      length_penalty=1.0,\n",
        "      early_stopping=True # To speed up the process\n",
        "  )\n",
        "\n",
        "  preds = [\n",
        "      tokenizer.decode(gen_id, skip_special_tokens=True, clean_up_tokenization_spaces=True)\n",
        "      for gen_id in generated_ids\n",
        "  ]\n",
        "\n",
        "  return \"\".join(preds)"
      ]
    },
    {
      "attachments": {},
      "cell_type": "markdown",
      "metadata": {
        "id": "-n7W13lW9i9y"
      },
      "source": [
        "## Generating Headlines"
      ]
    },
    {
      "cell_type": "code",
      "execution_count": 157,
      "metadata": {
        "id": "pWJVWiTD9i9y"
      },
      "outputs": [],
      "source": [
        "def gen_test(text, row):\n",
        "    sample_row = text.iloc[row]\n",
        "    text = sample_row[\"article\"]\n",
        "    print(\"Lenth of the body:\", len(text.split()))\n",
        "    print(\"\\n\")\n",
        "    print(\"Text body:\", text)\n",
        "    print(\"\\n\")\n",
        "    print(\"Actual Headline:\", sample_row[\"headline\"])\n",
        "    print(\"\\n\")\n",
        "    print(\"Generated Headline:\", generate_headline(text))\n"
      ]
    },
    {
      "cell_type": "code",
      "execution_count": 158,
      "metadata": {
        "id": "Zcelsuk69i9y",
        "outputId": "8ef83c90-e90e-4782-8a1d-4b85e19d4498"
      },
      "outputs": [
        {
          "name": "stdout",
          "output_type": "stream",
          "text": [
            "Lenth of the body: 6806\n",
            "\n",
            "\n",
            "Text body: \n",
            "\n",
            " THE PRESENT APPLICATION \n",
            " On 4 November 2008, Cowdroy J delivered judgment in Rahman v Secretary, Department of Education, Employment and Workplace Relations [2008] FCA 1634.\n",
            "On that day, his Honour dismissed Mr Rahman's application with costs.\n",
            "On the same day, his Honour delivered his reasons for making those orders.\n",
            "The proceedings before his Honour concerned an application for Austudy payments made by the applicant which was rejected by a delegate of the respondent on the ground that the value of the applicant's net assets exceeded the upper limit for the value of assets allowable under the relevant legislation.\n",
            "The time within which the applicant might have appealed from his Honour's decision expired on 25 November 2008.\n",
            "The applicant did not file any Notice of Appeal by 25 November 2008.\n",
            "On 16 February 2009, the applicant filed an Application for Extension of Time to File and Serve a Notice of Appeal in order to enable him to appeal from the decision of Cowdroy J made on 4 November 2008 ( the present application).\n",
            "That is the application with which I am presently dealing.\n",
            "Par 4 of that Application is in the following terms: (Statement indicating whether the applicant wishes to have application dealt with without an oral hearing.\n",
            ")\n",
            " \n",
            " The applicant's Appeal 'for Leave to whole Appeal application' --- must be dealt with \"Oral Hearing\" to defend and established the legitimacy of the challenge for the unlawful and wrong decisions made by Hon Cowdroy J, on 4 November 2008, which emanated from discrimination and of ignorance of Constitutional interpretations of what constitutes \"Courts\" under Commonwealth of Australian Constitution Act: \"Chapter 111 Courts --- and not Tribunals as Courts\" as Cowdroy J and Dale Watson, Solicitor, perceived and with perverse Case Reference, with no evidences of orders as mentioned in the Grounds of Applications to void the Respondent's wrong and false instruments of claims and to validate the applicant's legitimate claims with the relevant enactments.\n",
            "\n",
            "\n",
            " \n",
            " Pursuant to Order 52 Rules 2Ac --- Summary of Argument, the applicant has submitted defence precisely with legal arguments exemplifying Cowdroy J, decisions are of unlawful, wrong being of without receiving evidence, determining questions of facts, to take into accounts the valid Acts, without proof, perverse of Case References and such failure to deal properly with facts will amount legal error and must be challenge under enactments to uphold-justice.\n",
            "\n",
            "\n",
            " I have quoted par 4 in full.\n",
            "As is clear from par 4 of his Application, the applicant sought an oral hearing of the present application.\n",
            "That hearing took place on Monday last (16 March 2009).\n",
            "At the conclusion of the hearing, I reserved my decision until 9.15 am today.\n",
            "The affidavit sworn by the applicant on 16 February 2009 in support of the present application is expressed in language which is difficult to follow, confusing and somewhat rambling.\n",
            "In some respects, the affidavit contains scandalous material.\n",
            "Doing the best I can to understand the contents of that affidavit, the applicant seems to be making the following assertions, namely that: \n",
            "(a) The applicant was not present in Court on 4 November 2008 when his Honour delivered his decision and his reasons therefor.\n",
            "The contention of the applicant is that, notwithstanding the fact that he was present during the entire hearing which took place on that day and was given every opportunity to present his case, he left the courtroom before his Honour delivered his reasons for judgment but after argument had concluded.\n",
            "The applicant says that he did this because his Honour had informed him that his Honour intended to reserve his decision.\n",
            "The applicant says that he was not made aware of his Honour's decision until some time later.\n",
            "These matters seem to be relied upon by the applicant as some explanation for his not filing his Notice of Appeal by 25 November 2008 rather than as a substantive ground of appeal; \n",
            " \n",
            "(b) It was not until 14 November 2008 that the applicant received a copy of his Honour's reasons for judgment;\n",
            " \n",
            "(c) On 14 December 2008 the applicant attempted to file a Notice of Appeal at the Sydney Registry of the Court.\n",
            "That document was not accepted for filing on 14 December 2008 because the time within which the applicant might appeal from his Honour's decision had by then expired; \n",
            " \n",
            "(d) On 17 December 2008 the applicant attempted to file a Notice of Motion.\n",
            "There is no evidence before me as to the subject matter of that Notice of Motion;\n",
            " \n",
            "(e) On 19 December 2008 the applicant was informed that a Registrar of this Court had refused to accept his Notice of Motion (presumably in the exercise of the power reposed in Registrars of this Court by O 46 r 7A of the Federal Court Rules ); \n",
            " \n",
            "(f) Thereafter the applicant attempted to overturn the Registrar's order rejecting his Notice of Motion by seeking a review of her decision pursuant to the Administrative Decisions (Judicial Review) Act 1977 (Cth) ( the ADJR Act ); and \n",
            " \n",
            "(g) The applicant's proceedings seeking a review of the Registrar's decision to reject his Notice of Motion were dismissed by Tamberlin J on 6 February 2009.\n",
            "The facts noted in subpars (b) to (g) of [9] above are not disputed for the purposes of the present application.\n",
            "However, the position in respect of the facts referred to in subpar (a) of [9] above is somewhat different.\n",
            "I was informed from the bar table by the solicitor for the respondent that: \n",
            "(a) The hearing before Cowdroy J had concluded by about 11.30 am on 4 November 2008; \n",
            " \n",
            "(b) At the conclusion of that hearing, his Honour announced that he would reserve his decision to 2.15 pm on that day (4 November 2008) at which time he proposed to give his decision and announce his reasons orally; and\n",
            " \n",
            "(c) His Honour then also informed the applicant that he need not wait until 2.15 pm if he did not wish to do so and that, once the oral reasons of his Honour were finalised and engrossed, a copy of the engrossed version of those reasons would be sent by mail to the applicant.\n",
            "The applicant did not challenge this account of what occurred on 4 November 2008.\n",
            "I accept that account of those events.\n",
            "With the exception of the facts noted in [9] above, the applicant's affidavit contains no explanation for his failure to file a Notice of Appeal by 25 November 2008.\n",
            "His delay in bringing the present application in the period after mid-December 2008 has not really been explained either.\n",
            "I infer that the applicant attempted to take steps to challenge the judgment of Cowdroy J given on 4 November 2008 when he lodged his Notice of Motion with the Registry on 17 December 2008.\n",
            "However, he became distracted from the task of challenging that judgment when he sought judicial review of the Registrar's decision not to accept his Notice of Motion.\n",
            "He did not file the present application until 16 February 2009.\n",
            "Later in these Reasons, I will deal with the draft Notice of Appeal annexed to the applicant's affidavit.\n",
            "As a threshold matter, the applicant submitted that the present application involves a matter arising under the Constitution or involving its interpretation and that therefore notices under s 78B of the Judiciary Act 1903 (Cth) ( the Judiciary Act ) must be given to the Attorney-General of each of the States.\n",
            "The applicant informed me that he had already given such notices and that he was awaiting responses from the Attorneys-General of the States.\n",
            "He then submitted that, because such notices were required to be given, I was not permitted to proceed to hear the present application until all of the State Attorneys-General had responded to the notices served by him or, alternatively, until a reasonable time had elapsed for those Attorneys-General to respond to the notices which he had given.\n",
            "I did not agree with these submissions.\n",
            "I rejected them on Monday last.\n",
            "I will now explain my reasons for that decision.\n",
            "THE SECTION 78B NOTICES \n",
            " The applicant submitted that his application involved a matter arising under the Constitution or involved the interpretation of the Constitution .\n",
            "He further submitted that, for this reason, the provisions of s 78B of the Judiciary Act were engaged so that notices under that section were required to be sent to the Attorneys-General of the States.\n",
            "No notice would be required to be sent to the Commonwealth Attorney-General because the Commonwealth was, in effect, a party to the action (see s 78B(3)(b) and Inglis v Commonwealth Trading Bank of Australia [1969] HCA 44 ; (1969) 119 CLR 334).\n",
            "As mentioned in [18] above, the applicant informed me that he had already sent notices pursuant to s 78B of the Judiciary Act to the relevant Attorneys-General.\n",
            "A copy of the form of Notice sent by the applicant appears to have been filed in this Court.\n",
            "The fact that the applicant has already sent a form of notice does not pre-empt proper consideration by me of the question whether s 78B has truly been engaged in the present case.\n",
            "In my view, no constitutional matter is involved in the present case.\n",
            "Section 78B of the Judiciary Act is not engaged.\n",
            "No notices pursuant to that section ought to have been given by the applicant.\n",
            "No such notices are required to be given.\n",
            "At the time that I made the ruling to which I have referred at [19] above, I indicated to the parties that I would publish my reasons for that ruling as part of these Reasons for Judgment.\n",
            "Section 78B of the Judiciary Act is in the following terms: \n",
            " 78B Notice to Attorneys-General\n",
            " (1) Where a cause pending in a federal court including the High Court or in a court of a State or Territory involves a matter arising under the Constitution or involving its interpretation, it is the duty of the court not to proceed in the cause unless and until the court is satisfied that notice of the cause, specifying the nature of the matter has been given to the Attorneys-General of the Commonwealth and of the States, and a reasonable time has elapsed since the giving of the notice for consideration by the Attorneys-General, of the question of intervention in the proceedings or removal of the cause to the High Court.\n",
            "(2) For the purposes of subsection (1), a court in which a cause referred to in that subsection is pending:\n",
            " (a) may adjourn the proceedings in the cause for such time as it thinks necessary and may make such order as to costs in relation to such an adjournment as it thinks fit;\n",
            " (b) may direct a party to give notice in accordance with that subsection; and\n",
            " (c) may continue to hear evidence and argument concerning matters severable from any matter arising under the Constitution or involving its interpretation.\n",
            "(3) For the purposes of subsection (1), a notice in respect of a cause:\n",
            " (a) shall be taken to have been given to an Attorney-General if steps have been taken that, in the opinion of the court, could reasonably be expected to cause the matters to be notified to be brought to the attention of that Attorney-General; and\n",
            " (b) is not required to be given to the Attorney-General of the Commonwealth if he or she or the Commonwealth is a party to the cause and is not required to be given to the Attorney-General of a State if he or she or the State is a party to the cause.\n",
            "(4) The Attorney-General may authorize the payment by the Commonwealth to a party of an amount in respect of costs arising out of the adjournment of a cause by reason of this section.\n",
            "(5) Nothing in subsection (1) prevents a court from proceeding without delay to hear and determine proceedings, so far as they relate to the grant of urgent relief of an interlocutory nature, where the court thinks it necessary in the interests of justice to do so.\n",
            "\n",
            "\n",
            " In a document dated 8 March 2009 and filed with the Court on 9 March 2009, the applicant attempted to identify several constitutional matters which he contended necessitated the issuing of s 78B notices.\n",
            "This document is difficult to understand.\n",
            "It seems to me that the applicant sought to raise the following matters as matters arising under the Constitution or involving its interpretation, namely: \n",
            "(a) The appellate jurisdiction in respect of an appeal from the judgment of a single judge of this Court must be exercised by a Full Court.\n",
            "A Full Court, in this context, means a bench comprising three or more judges (s 14 of the Federal Court of Australia Act 1976 (Cth) ( the Federal Court Act )).\n",
            "The present application, in substance, being ancillary to or part of the exercise of the Court's appellate jurisdiction, cannot be heard by a single judge but must be heard by a Full Court.\n",
            "The last proposition is somehow guaranteed by the Constitution ; and\n",
            " \n",
            "(b) The present application raises the validity of O 46 r 7A of the Federal Court Rules .\n",
            "The applicant submitted that, when a Registrar of this Court declined to accept his Notice of Motion lodged with the Registry of the Court on 17 December 2008, that Registrar was impermissibly purporting to exercise the judicial power of the Commonwealth and did so by relying upon Or 46 r 7A.\n",
            "On 13 March 2009, the applicant filed Written Submissions in support of his contention that s 78B of the Judiciary Act was engaged in the present case.\n",
            "In those submissions, the applicant advanced an additional contention that the Social Security Appeals Tribunal and the Administrative Appeals Tribunal \" have no authority for judicial reviews \" and thus that he had a right to bring and have determined the application which Cowdroy J had dismissed.\n",
            "The applicant further contended that the right which he had to invoke judicial review of the respondent's adverse decision concerning his Austudy claim included an entitlement to have his application heard and determined after a full hearing of his claims.\n",
            "He submitted that his application could not be rejected summarily on discretionary grounds.\n",
            "A summary rejection of his application on discretionary grounds was said to be unconstitutional.\n",
            "I did not detect any additional arguments advanced by the applicant in relation to s 78B during oral submissions.\n",
            "The matter noted at subpar (a) of [27] above is not, in my view, a matter which is covered by s 78B of the Judiciary Act .\n",
            "There is nothing in the Constitution or the Judiciary Act governing the way in which this Court should exercise its appellate jurisdiction.\n",
            "That subject matter is dealt with by Pt III , Div 2 of the Federal Court Act (especially s 24 and s 25).\n",
            "Section 25(2)(b) is in the following terms: \n",
            " 25 Exercise of appellate jurisdiction \n",
            " ...\n",
            " (2) Applications: \n",
            "\n",
            "...\n",
            " \n",
            "(b) for an extension of time within which to institute an appeal to the Court; or\n",
            " \n",
            "...\n",
            " \n",
            "may be heard and determined by a single Judge or by a Full Court.\n",
            "My power to deal with the present application derives from that subsection.\n",
            "The points raised by the applicant involve only the interpretation of the Federal Court Act.\n",
            "He did not argue that s 25(2)(b) of the Federal Court Act was invalid for some constitutional reason.\n",
            "The matter noted at subpar (b) of [27] above does not arise in the present application.\n",
            "At most, the only possible relevance which this matter could have to the present application is in relation to the question of delay and in relation to the applicant's explanation for that delay.\n",
            "The applicant does not challenge the Registrar's decision of 18 December 2008 in these proceedings.\n",
            "He has already done that in separate proceedings and failed.\n",
            "The final matter raised by the applicant which I have noted at [27] above does not involve any relevant constitutional question.\n",
            "Whilst he may have a right to seek judicial review of a decision of the type made by the respondent in the present case, that right does not extend so far as to exclude the exercise of a judicial discretion to decline relief summarily in appropriate circumstances (for example, for the reasons determined by Cowdroy J in the present case).\n",
            "For these reasons, I do not think that the present matter involves a matter arising under the Constitution or involves the interpretation of the Constitution .\n",
            "There was and is no warrant for s 78B notices to be issued.\n",
            "THE DECISION OF COWDROY J \n",
            " Before Cowdroy J, the applicant sought judicial review pursuant to s 5 of the ADJR Act and s 39B of the Judiciary Act of a decision made by Centrelink (an operational arm of the respondent) on 27 March 2008 to reject his application to receive payments under the Austudy scheme.\n",
            "Reasons for that decision were provided by the respondent to the applicant in a letter dated 4 April 2008 sent by the respondent to the applicant.\n",
            "Centrelink had rejected the applicant's claim for Austudy because the total value of his assessed assets exceeded the assets value limit prescribed for Austudy under the relevant legislative provisions.\n",
            "In Rahman [2008] FCA 1634 at [5] , his Honour said: The applicant has provided written submissions to the Court which, together with his application, raise numerous matters.\n",
            "The applicant claims that an ' unlawful act, transgress and abuse of power ' has occurred; that the rules of natural justice have been breached; that the respondent made the decision of 27 March 2008 ' based on forgery and false instruments ' relating to the applicant's financial assets; and that the decision of 27 March 2008 ' involves an error of law and must be void as the determination was affected by into [sic] corroboration of false instruments ' relating to the financial assets of the applicant.\n",
            "The applicant also submits that the respondent's decision constitutes an attempt to disadvantage the applicant's Austudy claim ' by making a statement known to be false or misleading \"in a material particular\" or made with reckless disregard as to whether it is '.\n",
            "At [11] of his Honour's reasons his Honour held: Under the Social Security (Administration) Act 1999 (Cth) ('the Social Security Act') the applicant has the option of seeking review by an Authorised Review Officer: see ss 129 and 135.\n",
            "If the review proves to be unfavourable to the applicant, he is entitled to appeal to the Social Security Appeals Tribunal: see s 142 of the Social Security Act.\n",
            "From that tribunal the applicant is entitled to seek review in the Administrative Appeals Tribunal: see s 179 of the Social Security Act.\n",
            "After reviewing the authorities of McGowan v Migration Agents Registration Authority [2003] FCA 482 ; (2003) 129 FCR 118 and Transport Workers' Union of New South Wales v Australian Industrial Relations Commission [2008] FCAFC 26 ; (2008) 166 FCR 108 , his Honour declined to entertain the applicant's Application and dismissed it summarily on discretionary grounds.\n",
            "His Honour did so in the exercise of this Court's undoubted discretion to decline to entertain such an application in circumstances where there were ample alternative avenues available to the applicant for a full merits review of the respondent's decision to reject his claim for Austudy and where the applicant had not yet pursued any of those avenues.\n",
            "THE APPLICANT'S DRAFT NOTICE OF APPEAL \n",
            " This document is also poorly expressed.\n",
            "It contains many irrelevant references and assertions.\n",
            "Doing the best I can to understand the document, the applicant seems to want to agitate five grounds of appeal, namely that: \n",
            "(a) His Honour's discretion miscarried because his Honour misunderstood and misapplied the principles articulated in McGowan [2003] FCA 482 ; 129 FCR 118 and in Transport Workers' Union of New South Wales [2008] FCAFC 26 ; 166 FCR 108 ; \n",
            " \n",
            "(b) The decision to reject his claim for Austudy was not made by the Secretary of the Department personally, as was required by the relevant legislative provisions;\n",
            " \n",
            "(c) The respondent had no power to investigate the applicant's claim for Austudy or to gather information from third party sources in respect of that claim;\n",
            " \n",
            "(d) His Honour erred in failing to require the respondent to answer more fully than it had a subpoena issued by the applicant; and\n",
            " \n",
            "(e) His Honour was actually biased against the applicant.\n",
            "As to the allegation of actual bias, it seems that the applicant wishes to contend that: \n",
            "(a) His Honour decided to find against the applicant because the applicant was not of the same social class or race as his Honour.\n",
            "By making this allegation, the applicant is suggesting that, at least to some extent, his Honour was prejudiced against the applicant by reason of the applicant's race;\n",
            " \n",
            "(b) His Honour did not even attempt to consider the applicant's case according to law (his Honour's decision, according to the applicant, being a \" sham and derision \"); and \n",
            " \n",
            "(c) His Honour was improperly influenced by some extraneous (but unidentified) factor or circumstance when making the decision which he did.\n",
            "These are very serious allegations indeed, especially when made (as here) against a sitting judge.\n",
            "In oral submissions made in support of the present application, the applicant gave inconsistent responses to direct questions from me designed to ascertain whether the discrimination allegations referred to in subpar (e) of [41] above and subpar (a) of [42] above would be pressed.\n",
            "In the circumstances, I must assume that those allegations will be pressed if the applicant is successful in the present application.\n",
            "As oral argument progressed, the applicant informed me that he wished to add to the allegations of bias already notified in his draft Notice of Appeal by raising the following additional grounds, namely, that: \n",
            "(a) His Honour was biased against him because:\n",
            " \n",
            "(i) He (the applicant) was representing himself and was not a qualified lawyer; and\n",
            " \n",
            "(ii) His Honour favoured the solicitor who represented the respondent before his Honour because his Honour knew that solicitor; and\n",
            " \n",
            "(b) His Honour did not give any or any proper consideration to the applicant's arguments.\n",
            "On the material before me, there is no prospect that any of these allegations would be made out at the hearing of any appeal.\n",
            "I will return to these allegations later in these Reasons.\n",
            "THE RELEVANT PRINCIPLES \n",
            " The decision of Cowdroy J was a final decision which determined the application before his Honour.\n",
            "Accordingly, the applicant had a right to appeal from that decision provided that he did so within the time limited by the Federal Court Rules for such an appeal.\n",
            "Order 52 r 15 of the Federal Court Rules is in the following terms: \n",
            " Time for filing and serving notice of appeal \n",
            " 15(1) The notice of appeal shall be filed and served:\n",
            " (a) within 21 days after:\n",
            " (i) the date when the judgment appealed from was pronounced;\n",
            " (ii) the date when leave to appeal was granted; or\n",
            " (iii) any later date fixed for that purpose by the court appealed from; or\n",
            " (b) within such further time as is allowed by the Court or a Judge upon application made by motion upon notice filed within the period of 21 days referred to in the last preceding paragraph.\n",
            "(2) Notwithstanding anything in the preceding subrule, the Court or a Judge for special reasons may at any time give leave to file and serve a notice of appeal.\n",
            "(3) An application for leave under subrule (2) must:\n",
            " (a) be in accordance with Form 54A; and\n",
            " (b) include a statement indicating whether the applicant wishes to have the application dealt with without an oral hearing; and\n",
            " (c) be accompanied by an affidavit setting out:\n",
            " (i) the nature of the matter; and\n",
            " (ii) the factual and legal issues in dispute; and\n",
            " (iii) the reasons why leave should be given.\n",
            "(4) If a respondent objects to an application being dealt with without an oral hearing, the respondent must:\n",
            " (a) file a notice to this effect; and\n",
            " (b) serve a copy of the notice on each other party to the application.\n",
            "\n",
            "\n",
            " It is clear that the applicant did not file a Notice of Appeal within the time limited for an appeal from Cowdroy J's decision viz by 25 November 2008.\n",
            "Accordingly, the applicant must satisfy the test for leave to file and serve a Notice of Appeal out of time embodied in O 52 r 15(2) of the Federal Court Rules .\n",
            "That subsection requires that \" special reasons \" must exist which justify the grant of such leave.\n",
            "In Parker v The Queen [2002] FCAFC 133 , at [6] in the reasons of the Court, a Full Court of this Court said: In the civil jurisdiction, Wilcox J discussed at some length the matters which, in his opinion, were deserving of consideration when considering an application for leave to extend the time within which to file a notice of appeal: see Hunter Valley Developments Pty Ltd v Cohen (1984) 3 FCR 344 , a decision under the Administrative Decisions (Judicial Review) Act 1977 (Cth).\n",
            "The matters which attracted his Honour's attention were set out at 348-349: applications for an extension of time are not to be granted unless it is proper to do so; the legislated time limits are not to be ignored.\n",
            "The applicant must show an \"acceptable explanation for the delay\"; it must be \"fair and equitable in the circumstances\" to extend time; action taken by the applicant, other than by way of making an application for review, is relevant to the consideration of the question whether an acceptable explanation for the delay has been furnished; any prejudice to the respondent in defending the proceedings that is caused by the delay is a material factor militating against the grant of an extension; however, the mere absence of prejudice is not enough to justify the grant of an extension; and the merits of the substantial application are to be taken into account in considering whether an extension of time should be granted.\n",
            "In the same case, their Honours reviewed a number of other authorities which explained the basis upon which the Court will exercise its discretion to extend time for a litigant to appeal from a judgment of a single judge of the Court.\n",
            "Their Honours made clear that the overriding consideration is the interests of justice.\n",
            "The prima facie strength of the proposed appeal needs to be considered.\n",
            "There must also be an acceptable explanation for the delay ( QAAH v Minister for Immigration and Multicultural and Indigenous Affairs [2004] FCAFC 9 at [7] ).\n",
            "Even where special reasons can be identified, the Court has a discretion to grant or refuse to grant the extension of time sought (per Branson J in Howard v Australian Electoral Commission [2000] FCA 1767 at [7] .\n",
            "In Howard [2000] FCA 1767 at [7] , Branson J also said: \n",
            " Factors to be taken into account in the exercise of the discretion include the importance of the question sought to be raised by the proposed appeal, the bona fides of the proposed appeal and the prima facie strength of the proposed ground of appeal ( Jess v Scott at 188).\n",
            "\n",
            "\n",
            " CONSIDERATION \n",
            " The applicant has not complied with O 52 r 15(3) of the Federal Court Rules .\n",
            "The affidavit sworn by him and filed in support of the present application does not address the matters required to be addressed by subrules (3)(c)(i) to (iii) of O 52 r 15.\n",
            "This non-compliance is a matter of substance not merely a matter of form.\n",
            "There are good reasons why the Court needs evidence going to the matters referred to in that subsection.\n",
            "Generally speaking, the Court should insist upon such evidence being tendered at the hearing of applications of this sort.\n",
            "There are suggestions in the affidavit filed by the applicant in support of the present application that, at least from 17 December 2008, he was endeavouring to make an application for leave to file a Notice of Appeal out of time but was having difficulty ascertaining precisely how to do this.\n",
            "It must be remembered that he did not make an appropriate application until the middle of February 2009.\n",
            "The evidence which might support such a conclusion is somewhat scant.\n",
            "In my view, it falls short of what would be required to make good such a contention.\n",
            "As I have already observed there is no explanation or no satisfactory or sufficient explanation for the delay between 25 November 2008 and 14 December 2008.\n",
            "It must also be remembered that the applicant chose to absent himself from Court at 2.15 pm on 4 November 2008 when Cowdroy J delivered his oral judgment.\n",
            "If the applicant had attended Court on that occasion, he would have known then and there that his application had been dismissed by his Honour and would also have been apprised of the reasons given by his Honour for the orders which he then made.\n",
            "The applicant's failure to attend at Court on that occasion contributed to his failure to lodge his Notice of Appeal within time.\n",
            "However, I will assume, for the moment, in favour of the applicant that, at all times since 14 December 2008, he has been genuinely and diligently trying to make application to the Court for leave to file a Notice of Appeal from the judgment of Cowdroy J out of time.\n",
            "He did not, in fact, file the necessary application until 16 February 2009.\n",
            "I will make the assumption to which I have referred in order to give full consideration to the remaining factors referred to in Parker [2002] FCAFC 133 and to the interests of justice in the present case.\n",
            "The delay might not weigh heavily against the applicant in the present case if the applicant were able to persuade me that his appeal had some prospect of success and that, to deny him his right of appeal, would be to cause him serious injustice.\n",
            "For the moment, I will also assume that the delay referred to has been satisfactorily explained or, alternatively, is not of such duration as to weigh heavily in the balance against the grant of the leave sought.\n",
            "I will now consider the strength of the appeal foreshadowed in the draft Notice of Appeal attached to the applicant's affidavit.\n",
            "I have noted at [41], [42] and [46] above the grounds of appeal which I have been able to distil from that draft Notice of Appeal and the additional matters raised by the applicant in oral argument.\n",
            "The first of these grounds involves the contention that his Honour's discretion miscarried when his Honour declined to entertain fully the applicant's application for judicial review.\n",
            "I think that his Honour correctly encapsulated the principles from McGowan [2003] FCA 482 ; 129 FCR 118 and Transport Workers' Union of New South Wales [2008] FCAFC 26 ; 166 FCR 108 and that it was plainly open to his Honour to exercise his discretion in the manner in which he did.\n",
            "Unless it could be established that his Honour applied the wrong principles or invoked the correct principles but applied them in an obviously incorrect way, his Honour's exercise of discretion could not be overturned on appeal.\n",
            "The decision which his Honour made was clearly open to him especially as the gravamen of the applicant's complaint against the respondent concerned the valuation of his assets made by the respondent.\n",
            "This was a matter apt for merits review.\n",
            "His Honour correctly identified the merits review pathways open to the applicant.\n",
            "Further, the approach which his Honour took was advocated to his Honour by the respondent both in the written submissions made on behalf of the respondent to his Honour and in oral submissions made during the hearing which took place before his Honour.\n",
            "Notice of that approach was fairly given to the applicant.\n",
            "For these reasons, in this case, the applicant has failed to demonstrate that he has any prospect of establishing that Cowdroy J committed error of the relevant kind.\n",
            "This ground is hopeless.\n",
            "As to the second ground of appeal (the contention that the decision under review before his Honour had not, in fact, been made by the Secretary of the relevant Department), given the approach which his Honour took to the application before him, his Honour was not called upon to decide this point and did not do so.\n",
            "His Honour was either right or wrong in the approach which he took.\n",
            "At [69] above, I have held that his Honour's decision was based upon a correct appreciation of the relevant principles and would not be disturbed on appeal.\n",
            "A consideration of the point now raised formed no part of his Honour's reasoning.\n",
            "If, contrary to these views, it is necessary to consider this ground of appeal for the purposes of the present application, I will now do so.\n",
            "The relevant decision was made by a delegate of the respondent and not by the respondent personally.\n",
            "As far as I can tell, the applicant tendered no evidence before his Honour that would support a submission that the person who actually made the relevant decision did not have the power to do so.\n",
            "In order for such a contention to have succeeded, the applicant would need to have proven that the relevant decision maker had no authority to make the decision which he or she made.\n",
            "There is no evidence at all to suggest that this was the case.\n",
            "Nor is there any substance in the applicant's contention that the relevant decision had to be made by the respondent personally and, therefore, that the power to make that decision in the present case could not be validly delegated.\n",
            "As to the third ground of appeal (no power in the respondent to investigate the applicant's claim), I do not think that this contention can possibly succeed.\n",
            "Section 192 of the Social Security (Administration) Act 1999 (Cth) gives ample power to the respondent to gather information for the purpose of considering whether a person who has made a claim for a social security payment is or was qualified for the payment.\n",
            "Further, the respondent is required to assess a claim for a social security payment and is not bound to accept such a claim on its face as being valid without investigation.\n",
            "This ground cannot be sustained.\n",
            "As to the fourth ground (the subpoena ground), it is very difficult to understand the applicant's complaint in relation to the subpoena issued by him.\n",
            "The applicant did issue a subpoena to the respondent.\n",
            "Technical objections were taken to it.\n",
            "Nonetheless, at a listing which took place before 4 November 2008, the respondent did his best to produce the documents called for by the subpoena.\n",
            "No further call under the subpoena was made during the hearing before Cowdroy J.\n",
            "No application was made to Cowdroy J in respect of the production provided by the respondent in answer to the subpoena.\n",
            "There is no substance in this ground.\n",
            "As to the final ground of appeal (actual bias), I am not prepared to regard that ground as having any substance whatsoever in the absence of some evidence tending to support the various assertions of bias made by the applicant.\n",
            "The assertions which underpin this broad ground of appeal constitute very serious allegations against a judge of this Court.\n",
            "They must be distinctly made and, even at this early stage, must be demonstrated to have some proper basis both in fact and in law.\n",
            "Such allegations ought not be made in a Notice of Appeal or in a draft Notice of Appeal as bare assertions unsupported by any evidence whatsoever.\n",
            "In SCAA v Minister for Immigration and Multicultural and Indigenous Affairs [2002] FCA 668 , after reviewing a number of relevant authorities, von Doussa J said (at [38]): \n",
            " In my opinion it will be a rare and exceptional case where actual bias can be demonstrated solely from the published reasons for decision.\n",
            "Reasons for decision reflect conclusions reached at the end of the decision making process, and if the decision is against the party complaining, the expression of adverse findings on credit and fact are an inevitable part of the expression of the reasons.\n",
            "The mere fact of adverse findings at the end of the matter give rise to no inference as to the state of mind of the decision maker before and whilst the matter was under consideration, nor of prejudgment of the issues that fell for decision.\n",
            "Even where it is possible to show that the adverse findings or some of them are contrary to the evidence or unreasonable, or that the reasoning process is hopelessly flawed, that without more is unlikely to demonstrate that the decision maker had embarked on the case with a closed mind, not open to persuasion.\n",
            "However, where the party alleging actual bias can point not only to an adverse judgment containing demonstrable error but also to conduct by the decision maker antithetical to that party's interests such as a hostile attitude throughout the hearing ( Sun Zhan Qui at 135 referring to Gooliah v Minister of Citizenship and Immigration (1967) 63 DLR (2d) 224) , or a failure to enquire into and to obtain readily available and important information relating to central matters for determination ( Sun Zhan Qui , and SBAN v Minister for Immigration & Multicultural & Indigenous Affairs [2002] FCA 591 at [26] - [27]) an inference of actual bias by prejudgment might then be more readily drawn.\n",
            "But even then the circumstances are likely to be rare and exceptional that the combination of factors and circumstances will clearly prove actual bias.\n",
            "\n",
            "\n",
            " I well appreciate that I am not presently dealing with an appeal from the judgment of Cowdroy J.\n",
            "I have under consideration the grant of an indulgence to the applicant, ie whether he should be permitted to file a Notice of Appeal out of time.\n",
            "A factor in my consideration of the present application, however, is the strength of the proposed appeal.\n",
            "In my view, in considering that aspect of the matter for the purposes of the present application, if allegations of this nature are to be made, I am entitled and, indeed, obliged, to require much more from the applicant than mere assertions made by him unsupported by any evidentiary material.\n",
            "In an application such as the present application, the Court will require admissible and probative evidence in support of such serious allegations before it will regard those allegations as having any substance at all.\n",
            "The nature and extent of that evidence will depend upon all of the circumstances of the case, including the seriousness of the allegations; the identity of the person against whom they are made; the circumstances in which they are made; and the time at which they are made.\n",
            "There is no evidence before me which would support the allegations of bias sought to be made by the applicant in the present case.\n",
            "In my view, no weight should be given to the bald assertion made by the applicant that his Honour was biased against him.\n",
            "This is particularly so when one of the reasons for this alleged actual bias is said to be racial prejudice.\n",
            "This Court should not permit allegations of that kind to be bandied about unless, even at this early stage, some proper basis for them is established to the satisfaction of the Court.\n",
            "In those circumstances, I do not think that the grounds of appeal foreshadowed in the draft Notice of Appeal have any prospects of success.\n",
            "To allow a Notice of Appeal to be filed in the form of the applicant's draft Notice of Appeal, would be to do no more than to allow unsubstantiated, unsupported and scandalous allegations to be made against a judge of this Court.\n",
            "I am not prepared to give the applicant free rein to conduct litigation in this way.\n",
            "In my view, no \" special reasons \" exist for the grant of leave sought in this case.\n",
            "The delay in filing the Notice of Appeal has not been satisfactorily explained; the requirements of the Rules of Court have been ignored; and there is no substance in the appeal in any event.\n",
            "The interests of justice are served by refusing the leave sought by the applicant.\n",
            "I propose to dismiss the Application with costs.\n",
            "I make the following orders: Order that the Application be dismissed.\n",
            "Order that the applicant pay the respondent's costs of and incidental to the Application.\n",
            "I certify that the preceding eighty-three (83) numbered paragraphs are a true copy of the Reasons for Judgment herein of the Honourable Justice Foster.\n",
            "Associate:\n",
            " \n",
            " \n",
            "Dated: 18 March 2009\n",
            " \n",
            " \n",
            " The Applicant appeared in person \n",
            " \n",
            " Solicitor for the Respondent: Ms DJ Watson of Australian Government Solicitor \n",
            " Date of Hearing: 16 March 2009 \n",
            " \n",
            " Date of Judgment: 18 March 2009 \n",
            " \n",
            "\n",
            " \n",
            " AustLII: Copyright Policy | Disclaimers | Privacy Policy | Feedback \n",
            " URL: http://www.austlii.edu.au/au/cases/cth/FCA/2009/239.html \n",
            " \n",
            " \n",
            "\n",
            "\n",
            "\n",
            "Actual Headline: Rahman v Secretary, Department of Education, Employment and Workplace Relations [2009] FCA 239 (18 March 2009)\n",
            "\n",
            "\n",
            "Generated Headline: Rahman v Secretary, Department of Education, Employment and Workplace Relations [2007] FCA 1634 (14 November 2007)\n"
          ]
        }
      ],
      "source": [
        "gen_test(final_test_df, 10)"
      ]
    },
    {
      "cell_type": "code",
      "execution_count": 159,
      "metadata": {
        "id": "8Mw2UGTs9i9y",
        "outputId": "6041d197-993c-4c0e-d0b8-a468ee356bfc"
      },
      "outputs": [
        {
          "name": "stdout",
          "output_type": "stream",
          "text": [
            "Lenth of the body: 9480\n",
            "\n",
            "\n",
            "Text body: \n",
            "\n",
            " On 10 February 2009 the Australian Securities and Investments Commission (\"the Commission\") filed an application seeking urgent interlocutory relief against two individuals and eight companies, the defendants in this proceeding.\n",
            "The relief sought was the preservation of the assets of all the defendants and a restraint on the disposition of any of those assets.\n",
            "The Commission further sought orders against the first and second defendants restraining them from applying for passports or leaving Australia.\n",
            "On 11 and 12 February 2009 I made orders operative for a very short time restraining the defendants from disposing of their assets and restraining the first and second defendants from leaving Australia.\n",
            "On 13 February 2009 I made further orders restraining the defendants from disposing of their assets and restraining the first and second defendants from leaving Australia pending further order.\n",
            "That order contained provisos allowing for the defendants to pay operating and living expenses up to a maximum amount per week.\n",
            "I also allowed for the payment of legal costs for the defendants.\n",
            "Those orders were continued in a modified form on 26 February 2009 and on 12 March 2009 until 4.00pm on 19 March 2009.\n",
            "On 12 February 2009 the Commission filed an amended originating process in which it applied pursuant to ss 459 and 464 of the Corporations Act 2001 (Cth) (\"the Corporations Act \") for an order to wind-up the tenth defendant, Elite Wealth Builders Pty Ltd and also applied for the appointment of a provisional liquidator of the tenth defendant.\n",
            "On 26 February 2009 the Commission filed a further amended originating process in which it applied to wind-up each of the third to tenth defendants and also applied for the appointment of a provisional liquidator of the third to tenth defendants.\n",
            "That application was made pursuant to ss 459 and 461 (k) of the Corporations Act .\n",
            "At the hearing on 12 March 2009: \n",
            "(a) counsel appeared for the first, second, third and seventh to tenth defendants and said that he was not making any submissions in respect of the first, third, eighth and ninth defendants and that he would be making submissions on behalf of the second, seventh and tenth defendants who would oppose the application for the appointment of a provisional liquidator to the seventh and tenth defendants;\n",
            " \n",
            " \n",
            "(b) counsel appeared for the fifth defendant who said that she was instructed that the fifth defendant had no opposition to the Commission's application;\n",
            " \n",
            " \n",
            "(c) a director of the fourth and sixth defendants appeared and announced that those defendants had no objection to the orders sought by the Commission.\n",
            "I heard submissions on behalf of the Commission that a provisional liquidator should be appointed to each of the third to tenth defendants and I heard submissions on behalf of the second, seventh and tenth defendants opposing the appointment of a provisional liquidator to the seventh and tenth defendants.\n",
            "I was satisfied on the material placed before me, having regard to the submissions of the Commission, that the grounds for the appointment of a provisional liquidator of the third, fourth, fifth, sixth, eighth and ninth defendants had been made out and that there was a reasonable prospect that a winding-up order would be made at the final hearing on the grounds relied upon by the Commission.\n",
            "Accordingly, I ordered that Simon Wallace-Smith be appointed provisional liquidator of each of those companies.\n",
            "I reserved my decision on the Commission's application to appoint a provisional liquidator of the seventh and tenth defendants and also reserved my decision on whether I should make further restraining orders in relation to the first and second defendants.\n",
            "The power to appoint a provisional liquidator of a company is derived from s 472(2) of the Corporations Act which provides that: \n",
            " \"The Court may appoint an official liquidator provisionally at any time after the filing of a winding up application and before the making of a winding up order or, if there is an appeal against a winding up order, before a decision in the appeal is made.\n",
            "\" \n",
            "\n",
            " \n",
            "It can be seen that the Court has a wide and unfettered discretion whether to appoint a provisional liquidator, the only jurisdictional precondition being that a winding-up application in relation to the company has been filed.\n",
            "The principles which apply where a court is considering whether to appoint a provisional liquidator are well established and the following propositions can be extracted from the authorities:\n",
            " \n",
            "(a) the applicant for the appointment must satisfy the Court that there is a reasonable prospect that a winding-up order will be made at the final hearing: Australian Securities Commission v Solomon (1996) 19 ACSR 73 at 80;\n",
            " \n",
            " \n",
            "(b) an applicant must establish that there is good reason for the Court intervening prior to the final hearing of the winding-up application on the basis that the appointment of a provisional liquidator is required in the public interest or to preserve the status quo or to protect the company's assets from dissipation: Allstate Explorations NL v Batepro Australia Pty Ltd [2004] NSWSC 261 at [30] ;\n",
            " \n",
            " \n",
            "(c) the appointment of a provisional liquidator pending the determination of a winding-up application is a drastic intrusion into the affairs of a company and should not be made if other measures are adequate to preserve the status quo: Zempilas v JN Taylor Holdings Limited (No 2) (1990) 55 SASR 103 at 107; Lubavitch Mazal Pty Ltd v Yeshiva Properties No 1 Pty Ltd [2003] NSWSC 535 ; (2003) 47 ACSR 197 at [217] .\n",
            "Although the power of the Court to appoint a provisional liquidator is unfettered by statute the factors which are often taken into account in determining whether to appoint a provisional liquidator typically include: \n",
            "(a) whether there is a real risk that the assets of the company will be dissipated prior to the time at which a winding-up order is to be made;\n",
            " \n",
            " \n",
            "(b) whether there is a prima facie case for a winding-up order to be made;\n",
            " \n",
            " \n",
            "(c) whether the company's affairs have been conducted in a manner without regard to legal requirements or accepted principles of corporate management: Montgomery Windsor (NSW) Pty Ltd v Ilopa Pty Ltd (1984) 2 ACLC 224 ; Australian Securities Commission v Solomon (supra) at 80;\n",
            " \n",
            " \n",
            "(d) whether in the public interest there is a need for an independent examination of the accounts and financial transactions of the company which are in disarray: Australian Securities Commission v Solomon (supra) at 80.\n",
            "I have had regard to these principles and authorities in preparing these reasons and reaching my conclusions.\n",
            "I consider that the approach to take on an application such as is made by the Commission in the circumstances of this case is usefully summarised by Tamberlin J in Australian Securities Commission v Solomon (supra) at 80: \n",
            " \"The relevant principles relating to the appointment of a provisional liquidator which require consideration include the following: \n",
            "\n",
            " \n",
            " (a) The court should only appoint a provisional liquidator where it is satisfied that there is a valid and duly authorised winding up application and that there is a reasonable prospect that a winding up order will be made: see Debelle J in Re J N Taylor Holdings Ltd; Zempilas v J N Taylor Holdings Ltd (1991) 3 ACSR 516 ; 9 ACLC 1 at 12-3.\n",
            "\n",
            "\n",
            " \n",
            " (b) The fact that the assets of the corporation may be at risk is a relevant consideration.\n",
            "\n",
            "\n",
            " \n",
            " (c) The provisional liquidator's primary duty is to preserve the status quo to ensure the least possible harm to all concerned and to enable the court to decide, after a further examination, whether the company should be wound up: Re Carapark Industries Pty Ltd (in liq) (1996) 9 FLR 297; 86 WN (Pt 1) (NSW) 165 at 171.\n",
            "\n",
            "\n",
            " \n",
            " (d) The court should consider the degree of urgency, the need established by the applicant creditor and the balance of convenience: Re Club Mediterranean Pty Ltd (1975) 11 SASR 481 at 484 per Bright J.\n",
            "The power is a broad one and circumstances will vary greatly.\n",
            "Commercial affairs are infinitely complex and various and it is inappropriate to limit the power by restricting its exercise to fixed categories or classes of circumstances or fact.\n",
            "\n",
            "\n",
            " \n",
            " (e) It may be appropriate to appoint a provisional liquidator in the public interest where there is a need for an independent examination of the state of accounts of the corporation by someone other than the directors: Tickle v Crest Insurance Co of Australia Ltd (1984) 2 ACLC 493.\n",
            "\n",
            "\n",
            " \n",
            " (f) Where the affairs of the company have been carried on casually and without due regard to legal requirements so as to leave the court with no confidence that the company's affairs would be properly conducted with due regard for the interests of shareholders, it may be appropriate to appoint a provisional liquidator: see Montgomery Windsor (NSW) Pty Ltd v Illopa Pty Ltd (1984) 2 ACLC 224.\n",
            "\" \n",
            "\n",
            " I was satisfied that it was appropriate, and in a number of respects necessary to appoint a provisional liquidator of the third, fourth, fifth, sixth, eighth and ninth defendants for a number of reasons which included prima facie evidence of insolvency of some of the defendants.\n",
            "There was also a considerable body of evidence led by the Commission that there were numerous instances of inter-company transactions and loans involving substantial sums of money which were not documented.\n",
            "As I observed in my earlier reasons for judgment on 13 February 2009 when I put in place a number of restraining orders, all the corporate defendants in this proceeding, at relevant times, were controlled, or had involved in their activities, one or both of the first defendant, Mr Clestus Weerappah, and the second defendant, Ms Andrea Hawkins: Australian Securities and Investments Commissions v Weerappah [2009] FCA 164.\n",
            "I set out in those reasons for judgment a summary of relevant parts of evidence which was given by Ms Hawkins and Mr Weerappah.\n",
            "In par [31] of those reasons for judgment I said: \n",
            " \"...I am particularly concerned about Ms Hawkins' seeming inability to identify the particular borrowers and lenders involved in a number of transactions which were the subject of evidence by her, and her inability to distinguish which company in the group of companies with which she was involved is entitled to receive, or obliged to pay moneys, or discharge liabilities of other companies in the group.\n",
            "\n",
            "\n",
            " \n",
            "Subsequent to the delivery of those reasons for judgment, Ms Hawkins swore two affidavits in which she explained a number of the financial transactions which are under investigation by the Commission.\n",
            "However, those affidavits, particularly in the light of other evidence relied upon by the Commission, still leave significant doubt and concern in my mind as to the credibility of Ms Hawkins' explanation for a number of those financial transactions, particularly those transactions which have not been documented properly or at all.\n",
            "The background to the commencement of this proceeding by the Commission is set out in my earlier reasons for judgment and I do not repeat that background.\n",
            "It should be read in conjunction with these reasons for judgment.\n",
            "I turn to the defendants in respect of which I have already appointed a provisional liquidator.\n",
            "The third defendant, Bennett Street Developments Pty Ltd was not the subject of any submissions although it was represented by counsel.\n",
            "The third defendant is the trustee of the Bennett Street Property Trust.\n",
            "Evidence led by the Commission discloses that although money was obtained from investors in that Trust, the moneys obtained were not deposited with the third defendant.\n",
            "Mr Andrew Price, a Senior Manager with the Commission, has sworn affidavits in which he sets out a number of matters which raise serious issues as to that the third defendant and Mr Weerappah may have misled investors in the Bennett Street Property Trust, that they failed to deal properly with the funds of unit holders in the Bennett Street Property Trust and that they may have misappropriated those funds.\n",
            "There is also material which demonstrates that the third defendant has failed to maintain properly or at all, appropriate financial and banking records.\n",
            "In those circumstances, I considered it necessary and appropriate that a provisional liquidator be appointed of the third defendant for the purpose of enabling an independent person to investigate its activities and records and also to ensure that no further funds of it are dissipated.\n",
            "The fourth defendant, Altitude Property No 1 Pty Ltd (Controller Appointed) did not oppose the appointment of a provisional liquidator.\n",
            "It is the trustee of the Bennett Street Unit Trust which it appears has raised money from the public.\n",
            "There is evidence that Westpac Banking Corporation has recently appointed itself as Controller of the fourth defendant pursuant to a mortgage over a property at 25 Bennett Street, Balwyn.\n",
            "On 2 February 2009 a director of the fourth defendant, Mr Stephen Lewis, sent an email to Mr Weerappah in which he said that there was no funding available to make payments due to Westpac Banking Corporation under the mortgage to it and that the property had to be sold.\n",
            "It would appear that the fourth defendant is insolvent and having regard to the manner in which it received funds from Bennett Street Property Developments Pty Ltd, it is desirable that a provisional liquidator be appointed to it to ensure that its affairs may be properly investigated.\n",
            "The fifth defendant, My Building No 1 Pty Ltd, was represented by counsel who announced that it had no opposition to the Commission's application.\n",
            "It is the registered proprietor of the property situated at 81 Lorimer Street, Port Melbourne.\n",
            "There is evidence that the mortgagee of the property either has repossessed, or is about to repossess, the property on the basis that there is default under the mortgage.\n",
            "There is therefore evidence that the fifth defendant is likely to be insolvent and also that its affairs have not been conducted in a proper manner.\n",
            "For example, on 16 January 2004 Mr Dale Robertson signed an ASIC form lodging a charge granted by the fifth defendant in favour of Dollarforce Financial Services Pty Ltd. Mr Robertson was not a director of the fifth defendant on that date.\n",
            "There is also considerable doubt about a Deed of Release dated 20 November 2003 between Alamanda Property Investments No 2 Pty Ltd (of which Mr Weerappah was the sole director) and the fifth defendant (of which Mr Weerappah was the sole director) whereby Alamanda Property Investments No 2 Pty Ltd forgave a debt owed to it by the fifth defendant of $2,479,235.12.\n",
            "There are a number of problems about this release.\n",
            "Mr Lewis, a director of Altitude Property Limited, said in the course of an examination under s 19 of the Australian Securities and Investments Commission Act 2001 (Cth) (\"the ASIC Act\") that the release occurred around 2006.\n",
            "Mr Price's searches of the Commission's records disclose that there was no company named Alamanda Property Investments No 2 Pty Ltd on 20 November 2003 and that that company only came into existence on 15 January 2004.\n",
            "There is also an issue about an event when the fifth defendant drew $1.4 million from a loan secured against the property at 81 Lorimer Street, Port Melbourne to pay Alamanda Property No 2 Pty Ltd in circumstances where it does not appear that that company is entitled to that payment.\n",
            "For all these reasons I considered it desirable and necessary that a provisional liquidator be appointed of the fifth defendant in order that its affairs may be properly investigated by an independent person.\n",
            "The sixth defendant, Altitude Property Limited, did not object to the appointment of a provisional liquidator.\n",
            "The Commission has led a considerable body of evidence which discloses a number of serious issues about the conduct of the affairs of the sixth defendant.\n",
            "It is a public company.\n",
            "It issued a prospectus to the public to subscribe for shares in it on 6 October 2006 which appears to have contained misleading information in relation to the purchase of all the outstanding units in the Darling Street Unit Trust which was on offer.\n",
            "The prospectus stated that that cost would be $1.8 million but it did not disclose that the sixth defendant had already agreed to pay further consideration to Alamanda Property Investments No 2 Pty Ltd. Mr Weerappah, in the course of cross-examination on 11 February 2009, agreed that the sixth defendant agreed to pay Alamanda Property Investments No 2 Pty Ltd incentive payments if the value of the property purchased from it increased and that there was no maximum amount of such incentive payments.\n",
            "Mr Weerappah agreed that there was no reference to the incentive payment agreement in the prospectus which he had signed.\n",
            "He said that he believed that all the material was given to the solicitors but he was \"very shocked\" if the matter of the incentive payments was omitted.\n",
            "According to evidence led by the Commission the last incentive payment of approximately $1.4 million was paid by the sixth defendant in or about July 2008.\n",
            "It appears that that payment was obtained from the drawdown of a loan facility the sixth defendant had with Australian Securities Limited.\n",
            "Two of the three directors of the sixth defendant have given evidence in s 19 of the ASIC Act examinations that they did not authorise or agree to the payment of $1.4 million.\n",
            "It will be recalled that all the shares in My Building No 1 Pty Ltd are owned by the sixth defendant and that My Building No 1 Pty Ltd acts as the trustee of the Darling Street Unit Trust, all of the units of which are owned by the sixth defendant.\n",
            "In the events which occurred the Commission has also led evidence that the books, records and financial accounts of the sixth defendant have a number of inconsistent entries in them which require further investigation.\n",
            "The Commission has obtained a document which appears to be a minute of a meeting of the sixth defendant's directors on 25 November 2008 in which two of the directors express their \"grief and disappointment\" that Mr Weerappah had not made them aware that entities owned and controlled by the sixth defendant were entering into arrangements without their consent or agreement.\n",
            "In a s 19 of the ASIC Act examination Mr Weerappah denied attending that meeting.\n",
            "I was therefore satisfied that it was appropriate and necessary to appoint a provisional liquidator of the sixth defendant in order that an independent person could properly investigate its affairs both in relation to financial and property matters.\n",
            "I consider the eighth defendant, Lewmac Investments Pty Ltd (\"Lewmac\"), and the ninth defendant, Ivory Property Group Pty Ltd, together.\n",
            "The necessity for the appointment of a provisional liquidator of each of these defendants arises out of an apparent transaction entered into on 26 September 2006.\n",
            "The ninth defendant is a trustee company and acts as trustee of the Ivory Property Trust.\n",
            "Members of the public subscribed for units in this Trust.\n",
            "According to Mr Weerappah, the ninth defendant entered into a contract to purchase the property at 107 Riversdale Road, Hawthorn from the eighth defendant on 26 September 2006.\n",
            "The purchase has not been completed and, curiously, caveats were not lodged in respect of the purchase until 28 January 2009, which is more than two years and four months after the agreement was said to have been entered into.\n",
            "The caveats claim an interest on behalf of the ninth defendant pursuant to an agreement dated 26 September 2006.\n",
            "The Commission has obtained a copy of that agreement which does not have any operative provisions.\n",
            "It purports to have been made between the eighth defendant as vendor and the ninth defendant as purchaser.\n",
            "It contains recitals which refer to four other or separate contracts of sale dated 5 July 2006 but after the words \"NOW THIS AGREEMENT WITNESSETH\" there is no further text.\n",
            "The Commission has also led evidence in relation to another purchase by the ninth defendant of a property from Dollarforce Financial Services Pty Ltd. That purchase remains uncompleted.\n",
            "A caveat was only lodged in relation to it on 28 January 2009 and, again, there is an agreement between Dollarforce Financial Services Pty Ltd and the ninth defendant which contains no operative provisions.\n",
            "Mr Price has produced financial accounts of the ninth defendant which disclose as a current asset, a receivable of $1,538,922 being an unsecured loan to Dollarforce Financial Services Pty Ltd.\n",
            "The Commission contends that this loan was a serious breach of trust by the ninth defendant.\n",
            "Having regard in particular to the property transactions to which I have referred, I considered that it was appropriate and necessary that a provisional liquidator be appointed to each of the eighth and ninth defendants to enable an independent person to investigate the affairs and transactions of each of those companies and if necessary, take preventative steps to protect and preserve any further interests they may have.\n",
            "I turn to the relief sought against the second, seventh and tenth defendants by the Commission.\n",
            "The Commission seeks the appointment of a provisional liquidator of the seventh and tenth defendants for the purpose of: \n",
            "(a) securing the assets of those companies and preserving the status quo pending the final hearing and determination of the winding-up application; and\n",
            " \n",
            " \n",
            "(b) charging an independent expert, an officer of the Court, with the task of investigating those companies' affairs and reporting back to the Court.\n",
            "For the reasons to which I shall refer I am satisfied that both those purposes are made out in relation to the seventh and tenth defendants and that there is a reasonable prospect that a winding-up order will be made in relation to the seventh and tenth defendants at the final hearing on the basis that it is just and equitable to do so and that Elite Wealth Builders Pty Ltd may well be insolvent and particularly if a number of the transactions to which I refer are impugned.\n",
            "The Commission also seeks the continuation of restraining orders against the second defendant, Ms Hawkins, in relation to disposal of assets and applying for a passport or leaving Australia.\n",
            "The Commission seeks the appointment of a provisional liquidator of the seventh defendant and the tenth defendant on the grounds, generally, that they have received funds to which they are not entitled, which funds have arguably been obtained from funds subscribed by investors in various of the entities, trust companies and projects under the previous control of Mr Weerappah or Ms Hawkins and that they have entered into transactions whereby they have received monies to which they are not entitled.\n",
            "The relevant amounts or transactions are as follows.\n",
            "Ms Hawkins received money to which she was not entitled being: \n",
            "(a) $62,000 from Dollarforce Financial Services Pty Ltd; and\n",
            "(b) $10,000 from Altitude Property No 1 Pty Ltd, the fourth defendant.\n",
            "The seventh defendant (\"Retail Treasury\") received $330,000 from Twentieth Green Pty Ltd to which it was not entitled.\n",
            "The tenth defendant (\"Elite Wealth Builders\") received money to which it was not entitled being:\n",
            "(a) $115,000 from Lewmac, the eighth defendant;\n",
            "(b) $33,000 from Alamanda Pty Ltd;\n",
            "(c) $32,000 from Elite Equities Pty Ltd;\n",
            "(d) $267,000 from My Building No 1 Pty Ltd, the fifth defendant; and\n",
            "(e) $35,000 from Elite Equities Pty Ltd.\n",
            " \n",
            " The Commission also contends that Elite Wealth Builders has received, and will continue to receive, money initially payable to Dollarforce Financial Services Pty Ltd by way of trailing commissions as a result of acquiring its business and clients.\n",
            "A Purchase Agreement dated 1 May 2008 has been produced upon which Ms Hawkins and Elite Builders rely but the Commission contends that such document has been backdated and is ineffective.\n",
            "Ms Hawkins has filed affidavits in which she explains how each of these transactions, and the receipt of such funds, arose and contends that Elite Wealth Builders, as well as herself, was entitled to receive those funds and that none of them fall into the category of either funds which belong to, or can be traced as belonging to, or being subscribed by, investors in other companies, trusts or entities.\n",
            "Elite Wealth Builders and Ms Hawkins acknowledge that the amounts referred to by the Commission have in fact been received by them but say that they are entitled to retain those amounts which were not received by them improperly.\n",
            "A significant asset now possessed by Elite Wealth Builders is the right to receive trailing commissions to which Dollarforce Financial Services Pty Ltd had been entitled in the past.\n",
            "The Commission has been conducting an investigation in relation to the activities of the defendants and, in particular, that Dollarforce Financial Services Pty Ltd may have operated an unregistered managed investment scheme.\n",
            "According to the Commission, a number of investors invested money with Dollarforce Financial Services Pty Ltd in circumstances where their funds appear to have been dissipated.\n",
            "As a result of Mr Price's investigations, he believes that Dollarforce Financial Services Pty Ltd and its related companies raised about $20 million from about 200 investors without complying with relevant provisions of the Corporations Act .\n",
            "Dollarforce Financial Services Pty Ltd was placed into liquidation pursuant to a creditor's voluntary winding-up on 16 December 2008.\n",
            "It appears that Dollarforce Financial Services Pty Ltd has substantial liabilities.\n",
            "Ms Hawkins has given evidence that on 1 May 2008 Elite Wealth Builders purchased from Dollarforce Financial Services Pty Ltd its loan book, that is to say its customer list and the rights to the trailing commissions to which Dollarforce Financial Services Pty Ltd had previously been entitled.\n",
            "Ms Hawkins relies upon a Contract of Sale which is dated 1 May 2008.\n",
            "That Contract of Sale provided for a purchase price of $150,000 payable by a deposit of $1,000 on the signing of the contract and the balance to be paid over the ensuing nine months but not to exceed 31 March 2009.\n",
            "Mr Price has been unable to identify from Elite Wealth Builders' bank account records at Westpac Banking Corporation covering the period 14 May 2008 to 14 January 2009 any payments from Elite Wealth Builders to Dollarforce Financial Services Pty Ltd recording the payment of monies payable under the contract.\n",
            "Ms Hawkins has given evidence that $1,000 was paid on the signing of the contract but there is no documentary evidence in support of that statement.\n",
            "Ms Hawkins has produced a \"Quickbooks extract\" which records a number of financial transactions said to have been carried out by Elite Wealth Builders.\n",
            "There is no evidence which verifies the manner in which that Quickbooks extract has been prepared.\n",
            "The Quickbooks extract purports to evidence, or identify money apparently paid to or on behalf of Dollarforce Financial Services Pty Ltd. Ms Hawkins says that it shows that since 1 May 2008 Elite Wealth Builders paid $140,822.93 to Dollarforce Financial Services Pty Ltd \"by way of paying DFS staff, rent, invoices, credit card payments and other expenses over a period of time\".\n",
            "Ms Hawkins says that the payments detailed in the Quickbooks extract are corroborated by entries in Westpac Banking Corporation account statements of Elite Wealth Builders which have been produced by Mr Price.\n",
            "However, the bank statements do not corroborate that a number of the payments were either made for or on behalf of Dollarforce Financial Services Pty Ltd or, more importantly, that any of them are referable to payments made under the Contract of Sale.\n",
            "The Commission now contends that the Contract of Sale was not in fact entered into or dated on 1 May 2008 but was rather backdated to that date around 11 December 2008.\n",
            "As a liquidator of Dollarforce Financial Services Pty Ltd was appointed on 16 December 2008, if the Contract of Sale was only executed within a few days before that date, the backdating will have a significant effect on claims the liquidator may have in relation to the assets of Dollarforce Financial Services Pty Ltd. Mr Price has given evidence that in the course of his investigation he used forensic software to analyse documents relating to Elite Wealth Builders.\n",
            "The use of this software generated reports in relation to documents stored on a hard drive.\n",
            "Mr Price produced a report relating to an email sent on 11 December 2008 from \"Clestus Weerappah\" to \"Ms Liz Clegg\".\n",
            "The email states: \n",
            " \"Liz, \n",
            " Can you run your eye over this please.\n",
            "Think it is generally ok. \n",
            " Thanks \n",
            " CW\".\n",
            "\n",
            "\n",
            " \n",
            "There was attached to this email a document entitled \"Contact of Sale of Business\".\n",
            "Mr Price said that: \n",
            "(a) the attached contract appeared to be the same document as he had earlier produced which was the contract to which Ms Hawkins had referred and upon which she relies;\n",
            " \n",
            " \n",
            "(b) the earlier contract purported to have been signed on 1 May 2008 by Ms Hawkins and Mr Weerappah;\n",
            " \n",
            " \n",
            "(c) the forensic software report for the email sent on 11 December 2008 from Mr Weerappah to Ms Clegg revealed that the email was created on 11 December 2008 at 12:32:35pm;\n",
            " \n",
            " \n",
            "(d) the forensic software report for the attached contract revealed that the document was created on Thursday 11 December 2008 at 12.31pm by an author with the identifier \"Clestus\".\n",
            "The Commission submitted that I should infer that the Contract of Sale dated 1 May 2008 was not in fact signed and executed on that date but was rather created on 11 December 2008 and falsely backdated.\n",
            "An examination of the contract attached to the email of 11 December 2008 shows that there are differences between it and the Contact of Sale dated 1 May 2008 upon which Ms Hawkins relies.\n",
            "These differences are as follows (and I refer to the contract attached to the 11 December 2008 first): \n",
            "(a) on the front sheet of the contract the \"VENDORS\" are shown as \"Clestus Weerappah --- Director\" whereas on the signed contract the \"VENDOR\" is shown as \"Clestus Weerappah, Director\";\n",
            " \n",
            " \n",
            "(b) on the front sheet of the contract the \"PURCHASERS\" are shown as \"Andrea Hawkins/and or Nominee\" whereas on the signed contract the \"PURCHASER\" is shown as \"Elite Wealth Builders Pty Ltd\";\n",
            " \n",
            " \n",
            "(c) on the front sheet of the contract the \"BUSINESS\" is shown as \"Dollarforce Financial Services and Alamanda Property Investments\" whereas on the signed contract the \"BUSINESS\" is shown as \"Dollarforce Financial Services\";\n",
            " \n",
            " \n",
            "(d) in the Particulars of Sale in the contract the purchasers are shown as \"Andrea Hawkins and/or Nominee\" whereas in the Particulars of Sale in the signed contract the purchasers are shown as \"Elite Wealth Builders Pty Ltd\".\n",
            "The type of business is changed from \"finance broking loans\" to \"finance broking --- residential loans\";\n",
            " \n",
            " \n",
            "(e) in the Particulars of Sale of the contract dated 1 May 2008 there is a section entitled \"EMPLOYEE ENTITLEMENTS\" which is not set out in the Particulars of Sale of the contract attached to the 11 December 2008 email; and\n",
            " \n",
            " \n",
            "(f) the Restraint of Trade provision in the Particulars of Sale in the contract is two years and ten kilometres whereas in the Restraint of Trade provision in the signed contract the period is one year and the distance is one kilometre.\n",
            "This comparison of the two documents suggests to me that there is a strong inference that the Contract of Sale dated 1 May 2008 was not in fact dated on that date but that the contract was only finally prepared and engrossed and signed on or shortly after 11 December 2008.\n",
            "Counsel for Ms Hawkins drew my attention to the fact that in the forensic software report relating to the email of 11 December 2008 and its attachment there is stated opposite the words \"last printed\" the words \"Monday, 27 October 2008 3:15:00 PM EST\".\n",
            "Counsel submitted that this entry demonstrated that the contract attached to the email of 11 December 2008 could not have been printed for the first time on that date but had certainly come into existence earlier, for example, on or before 27 October 2008.\n",
            "Counsel for the Commission was unable to explain that entry in relation to the date 27 October 2008.\n",
            "Counsel for Ms Hawkins submitted that the forensic software report was unreliable and could not provide an accurate report as to the date of creation of the Contract of Sale as it could not both be created in December 2008 and last printed in October 2008.\n",
            "I am not able to make a final determination as to whether the document upon which Ms Hawkins relies dated 1 May 2008 is genuine or has been backdated or is capable of being set aside by the liquidator of Dollarforce Financial Services Pty Ltd or as to what the reference to 27 October 2008 on the forensic software report means.\n",
            "One explanation for that date may be that the document attached to the 11 December 2008 email was last saved on that date but had earlier been printed on the last previous occasion on 27 October 2008.\n",
            "Even if I assume that the document had been printed on 27 October 2008 so that it did not come into existence for the first time on 11 December 2008, that still leaves open the inference that the Contract of Sale dated 1 May 2008 was in fact backdated because there was a draft of it in existence, not yet signed and indeed, not finalised as to its text or terms on 27 October 2008.\n",
            "Nevertheless, I consider that in all the circumstances there is a very strong inference that the Contract of Sale dated 1 May 2008 was backdated and only signed and executed within five days or so of a liquidator of Dollarforce Financial Services Pty Ltd being appointed.\n",
            "Certainly the inference I can draw from the email of 11 December 2008 is that Mr Weerappah was asking Ms Clegg to look at the draft contract and to consider whether it was alright for it to be executed.\n",
            "Counsel for Ms Hawkins submitted that there was nothing in relation to the documentation to support the proposition that whatever Ms Clegg was being asked to cast her eye over had anything to do with the contract dated 1 May 2008 as opposed to the draft document being used as \"a template for something else\".\n",
            "I do not consider that the terms of the email of 11 December 2008 are suggesting that the document be used for a template for anything other than the contract for the sale of the business referred to in it.\n",
            "Counsel for Ms Hawkins submitted that there was another inference which was equally open, given the content of the email, which was that the document was being \"bandied around for any number of purposes\".\n",
            "But no particular purpose was advanced by counsel.\n",
            "Counsel for Ms Hawkins submitted that there was evidence that Ms Hawkins or Elite Wealth Builders had made payments to Dollarforce Financial Services Pty Ltd after 1 May 2008 of the order of $143,000 and he posed the question --- why would someone be paying that money pursuant to a contact that had not been executed?\n",
            "There is a short answer to that question which is that the payments upon which Ms Hawkins relies are not identified in the Quickbooks extract as payments made pursuant to, or by reference to, the Contract of Sale dated 1 May 2008.\n",
            "Those payments consist of a considerable number of payments relating to Dollarforce Financial Services Pty Ltd.\n",
            "But they are not stated to be referable to, or payments in relation to, the contract dated 1 May 2008.\n",
            "I have already referred, in par [31] of my earlier reasons for judgment, to Ms Hawkins' inability to distinguish which company in the group of companies with which she was involved, is entitled to receive, or obliged to pay moneys, or discharge liabilities of other companies in the group.\n",
            "I am not satisfied that the amount of $140,822.93 shown in the Quickbooks extract upon which Ms Hawkins relies relates to moneys which at the time they were disbursed by Elite Wealth Builders were in reduction of, or were intended to be in reduction of, any amount payable as the purchase price under a contract of sale for the purchase of a business from Dollarforce Financial Services Pty Ltd.\n",
            "If those payments were so intended by Ms Hawkins or Elite Wealth Builders, why would the Quickbooks extract show a payment of $15,729.90 on 21 August 2008 in relation to Dollarforce Financial Services Pty Ltd recorded as \"Loan Dollarforce (to cover wages)\"?\n",
            "Why would the extract show a payment of $824.25 on 25 August 2008 recorded as \"Loan Dollarforce --- Telemarketing\"?\n",
            "I make similar observations in relation to the amounts of $6,087.15 on 16 October 2008 recorded as \"Loan Dollarforce --- Payment of DFS wages\", $2,202.00 on 20 October 2008 recorded as \"Loan --- DFS Sam Pays\" and $271.04 on 1 December 2008 recorded as \"Loan DFS - Corp Executive Office CEO\".\n",
            "The description of these payments as \"Loans to Dollarforce\" is quite inconsistent with Ms Hawkins' proposition that the component amounts of the $140,822.93 were in fact, or were intended to be, payments in reduction of an amount owing to Dollarforce Financial Services Pty Ltd by Elite Wealth Builders under the contract of sale of Dollarforce Financial Services Pty Ltd's business.\n",
            "The issues relating to the Contract of Sale are such that the benefits and the receipt of trailing commissions to which Elite Wealth Builders claims to be entitled, and which will continue to be paid should be under the control of an independent person until the Commission concludes its investigation and its application to wind-up Elite Wealth Builders is determined.\n",
            "It is important that those benefits and commissions not be dissipated and that they should be preserved and controlled by an independent person, someone other than Ms Hawkins whose track record in relation to the management of companies and the manner in which they enter into, and record, significant financial transactions is less than satisfactory.\n",
            "For that reason alone it is appropriate and necessary, consistently with the principles and authorities to which I have referred, to appoint a provisional liquidator of Elite Wealth Builders.\n",
            "I appreciate that such an appointment is a drastic step and that it will be a most significant intrusion into Elite Wealth Builders' commercial affairs.\n",
            "Nevertheless, I have weighed those considerations with the nature and consequences of the financial transactions to which I have referred in these reasons, with which Ms Hawkins has been involved.\n",
            "I am satisfied that the public interest and the necessity to protect the interests of investors in the companies controlled by Mr Weerappah and Ms Hawkins requires that control of Elite Wealth Builders be taken out of the hands of Ms Hawkins and placed in the hands of an independent person.\n",
            "According to Mr Price's investigations Elite Wealth Builders received the sum of $267,000 from My Building No 1 Pty Ltd, the fifth defendant, between 18 July 2008 and 28 August 2008.\n",
            "Ms Hawkins said that according to Elite Wealth Builders' Quickbooks books of account the amount received was $263,188.58.\n",
            "For present purposes, the difference between the two amounts is of no consequence.\n",
            "Ms Hawkins contends that she lent $200,000 to My Building No 1 Pty Ltd on 28 March 2006.\n",
            "She also contends that the amount of $263,188.58 was repayment of that loan together with interest.\n",
            "As with many of the transactions under consideration in this proceeding these financial transactions are not documented or corroborated in any way.\n",
            "There is evidence that $200,000 was deposited into the account of My Building No 1 Pty Ltd with Westpac Banking Corporation on 28 March 2006 but there is no documentation which records the source of that deposit.\n",
            "The Quickbooks extract relied upon by Ms Hawkins is dated 15 February 2009.\n",
            "Ms Hawkins has not produced any record of the initial making of the loan of $200,000 or of the terms of the loan.\n",
            "There is therefore considerable doubt as to whether Elite Wealth Builders is entitled to retain this amount.\n",
            "I therefore consider that this is another transaction which needs to be investigated by an independent person to determine whether the amount of $263,188.58 is the subject of a claim by My Building No 1 Pty Ltd.\n",
            "The desirability of preserving the assets of Elite Wealth Builders to ensure that they are not dissipated if such a claim is made is another reason to appoint a provisional liquidator of Elite Wealth Builders.\n",
            "Elite Wealth Builders received amounts totalling $115,000 from Lewmac on 12 and 17 June 2008, 10 July 2008 and 4 September 2008.\n",
            "Ms Hawkins contends that the amounts totalling $115,000 were received by Elite Wealth Builders in part satisfaction of an amount due in respect of a debt due by it to Mr Weerappah who assigned the debt to Ms Hawkins.\n",
            "This financial transaction, again not corroborated or documented in any way is said by Ms Hawkins to arise out of the development of a property at 107 Riversdale Road, Hawthorn by Lewmac.\n",
            "According to Ms Hawkins the following events occurred.\n",
            "Lewmac was using BuildRite Developments Pty Ltd (\"BuildRite\") to develop a property.\n",
            "BuildRite became financially unstable and Mr Weerappah borrowed $1 million of which he directed that the lender disburse $600,000 directly to BuildRite.\n",
            "Mr Weerappah made that payment on behalf of Lewmac in order to ensure that BuildRite completed the construction of the property at 107 Riversdale Road, Hawthorn.\n",
            "At this point a debt of $600,000 was owed to Mr Weerappah by Lewmac.\n",
            "Mr Weerappah assigned this debt to Ms Hawkins and she instructed Lewmac to pay the money to Elite Wealth Builders.\n",
            "No documentation has been produced by Mr Weerappah or Ms Hawkins in relation to the terms of the payment of the $600,000 or the assignment of the debt or the instruction to pay the money to Elite Wealth Builders.\n",
            "Mr Weerappah said that BuildRite approached him as a director of Lewmac and indicated it had underquoted on the contract for the construction of the property at 107 Riversdale Road, Hawthorn and that it would be unable to complete the development without an increase in the contract price.\n",
            "Mr Weerappah agreed to increase the amount payable to BuildRite by $600,000.\n",
            "No documentation was produced by Mr Weerappah in relation to this transaction.\n",
            "Ms Hawkins' explanation and Mr Weerappah's explanation for the payment by Lewmac to BuildRite is contradicted by Mr Robert Walpole, a Director of BuildRite, now in liquidation.\n",
            "According to Mr Walpole, in 2006 Mr Weerappah expressed an interest in investing in BuildRite and Legal Entity Developments Pty Ltd, another development company of which Mr Walpole and Mr David Hanna were directors.\n",
            "Mr Walpole and Mr Hanna discussed with Mr Weerappah an investment of $1.2 million.\n",
            "As a result of those discussions documentation was prepared to document the investment.\n",
            "The initial agreement was that Mr Weerappah's interests would purchase a one third interest in Mr Walpole's companies and business for $1.2 million.\n",
            "Mr Weerappah transferred $600,000 to BuildRite.\n",
            "Mr Walpole disputes what Mr Weerappah says was the reason for the payment of the $600,000.\n",
            "He says that the $600,000 was part payment of the $1.2 million that Mr Weerappah had agreed to pay for a 25% share in BuildRite and a 33% share in Legal Entity Developments Pty Ltd. (The amount of the interests agreed to be purchased apparently changed.\n",
            ") In April 2007 BuildRite received a further $200,000 from Mr Weerappah.\n",
            "BuildRite received a total of $2,261,513 from Lewmac in relation to the construction of the development.\n",
            "Mr Walpole's evidence is corroborated (and Mr Weerappah's and Ms Hawkins' evidence is contradicted) by an email sent by Mr Weerappah to Mr Hanna at 8:52am on Monday 22 January 2007 which stated: \n",
            " \"Hi David, \n",
            " Over the weekend we discussed the balance of the funding proposal.\n",
            "As agreed there was a price of $1.2million to be paid to gain a share of the following entities: \n",
            "\n",
            " \n",
            " Buildrite Developments --- 25% \n",
            " Legal Entity --- 33% \n",
            " The first tranche of funds is to be paid this week and the balance on completion of the funding proposal through the NAB.\n",
            "...\" \n",
            "\n",
            " I am not able on this interlocutory application in the absence of cross-examination of relevant witnesses to determine finally the evidence which I should accept and the evidence which I should reject in relation to this transaction involving the payment of $600,000 by Mr Weerappah to BuildRite.\n",
            "Nevertheless, there is a strong case made out, based on Mr Walpole's evidence and the email dated 22 January 2007 that the $115,000 Elite Wealth Builders received from Lewmac is recoverable by it from Elite Wealth Builders.\n",
            "There is also considerable doubt that there was any proper or effective assignment by Mr Weerappah to Ms Hawkins in respect of what he says is a debt due to him by Lewmac, if in fact that debt existed.\n",
            "Ms Hawkins produced a Quickbooks account extract for Lewmac as at 24 February 2009 which she says records that Lewmac owes her $635,979.41 which she contends is the outstanding part of the $600,000 paid by Mr Weerappah to BuildRite plus interest.\n",
            "Ms Kohary, a Financial Investigator in the financial accounting practice of the Commission, who has sworn affidavits in which she analyses records of the defendants obtained by the Commission, has examined the books and records of Lewmac including its general ledgers as at 30 June 2007, 30 June 2008 and 31 December 2008.\n",
            "Ms Kohary says there is no loan account in the general ledgers for Ms Hawkins, that is to say, there is no debt recorded in the general ledgers as being owed to Lewmac by Ms Hawkins.\n",
            "The characteristics of this transaction are such that it provides a further reason why a provisional liquidator should be appointed to Elite Wealth Builders in order to ensure that an independent person can investigate this and the other transactions and ensure that the assets and funds presently held by Elite Wealth Builders are not dissipated whilst this investigation is undertaken.\n",
            "I turn to the submission of the Commission that Retail Treasury, the seventh defendant, received $330,000 from Twentieth Green Pty Ltd to which it was not entitled.\n",
            "Retail Treasury was previously owned by Dollarforce Financial Services Pty Ltd and controlled by Mr Weerappah as its sole director.\n",
            "It appears that Retail Treasury owns units in the Twentieth Green Unit Trust and the Rose Anna Unit Trust which have valuable assets.\n",
            "Mr Ross Booth was engaged by Mr Weerappah in or about August 2008 and companies controlled by him to reconcile and put in order the financial accounts of the various entities which Mr Weerappah controlled.\n",
            "Mr Booth said that during one of his meetings with Mr Weerappah on or about 2 and 3 September 2008, Mr Weerappah told him that Retail Treasury was due to receive $1.2 million in the current financial year.\n",
            "The evidence is inconsistent as to the circumstances in which Ms Hawkins acquired the shares in, and control of, Retail Treasury.\n",
            "In the course of a s 19 of the ASIC Act examination on 6 February 2009, Ms Hawkins said that she did not buy the company but took it over from Mr Weerappah because he no longer wanted, or needed, the company and she did.\n",
            "In the course of Mr Weerappah's s 19 of the ASIC Act examination on 6 February 2009, Mr Weerappah said that he had no need for Retail Treasury from a few years ago and that Ms Hawkins was after an entity and \"we transferred it across at the time\".\n",
            "Mr Weerappah said that he did not believe that there was any consideration paid by Ms Hawkins for Retail Treasury.\n",
            "Ms Hawkins, in an affidavit sworn on 24 February 2009, said that when she said in the s 19 of the ASIC Act examination that she did not purchase Retail Treasury, she was referring to the period of time, that is, 2006.\n",
            "Even if I accept this explanation for her answer in the examination on 6 February 2009, it still remains that she said that she took over Retail Treasury from Mr Weerappah without saying that she paid for it.\n",
            "In her affidavit sworn on 24 February 2009, Ms Hawkins responded to a number of the issues and evidence raised by the Commission.\n",
            "In relation to her purchase of Retail Treasury she said the following.\n",
            "Mr Weerappah borrowed $1 million from Traditional Values Management Limited (pursuant to a Loan Facility Agreement dated 25 January 2007).\n",
            "Mr Weerappah used $600,000 of that loan to pay a debt owed to BuildRite by Lewmac (this characterisation of the payment is contested by the Commission) and agreed to lend Ms Hawkins the remaining $400,000 so that she could purchase Retail Treasury from Dollarforce Financial Services Pty Ltd. On 25 January 2007, $375,000 was deposited into Dollarforce Financial Services Pty Ltd's bank account.\n",
            "At the time Mr Weerappah and Ms Hawkins agreed that he would lend her $400,000, she had expressed an interest in purchasing all the shares in Retail Treasury from Dollarforce Financial Services Pty Ltd. She believed the value of those shares to be between $300,000 and $400,000.\n",
            "Eventually they settled on a figure of $330,000 for the purchase of all the issued shares in Retail Treasury from Dollarforce Financial Services Pty Ltd. Ms Hawkins then said \"the purchase price of $330,000 had already been (more than) deposited into the account of DFS by way of the $375,000 obtained from TVM\".\n",
            "None of these financial transactions referred to, and relied upon, by Ms Hawkins are documented in any way.\n",
            "In relevant material respects Ms Hawkins' evidence is not corroborated and, indeed, is inconsistent in relation to her purchase of the shares in Retail Treasury.\n",
            "Her evidence in the s 19 of the ASIC Act examination (and also Mr Weerappah's evidence in the s 19 of the ASIC Act examination) is quite inconsistent with her paying $330,000 for the purchase of the shares in Retail Treasury.\n",
            "At this point of time I am not prepared to accept Ms Hawkins' uncorroborated and undocumented evidence in relation to the financial transactions she relies upon in relation to the purchase of the shares in Retail Treasury.\n",
            "Again, I refer to her inability to identify the manner in which particular payments have been made to, for or on behalf of, or by various companies in the group of defendants with which she was involved with Mr Weerappah.\n",
            "There is therefore a significant issue to be determined, namely whether Ms Hawkins is entitled to be the owner of the shares in Retail Treasury and the identity of the person entitled to the benefit of the assets held by it in the two trusts.\n",
            "In these circumstances, I consider that it is appropriate and necessary that an independent person be appointed to investigate this issue and that steps be taken to ensure that the assets of Retail Treasury are not dissipated.\n",
            "Accordingly, I consider it appropriate to appoint a provisional liquidator of Retail Treasury.\n",
            "There is a further issue which, in my view, warrants the appointment of a provisional liquidator to Retail Treasury.\n",
            "Retail Treasury has no bank account and it is therefore, not easy to identify financial transactions which involve moneys coming to and being paid by it.\n",
            "According to the records analysed by Ms Kohary, units in the Twentieth Green Unit Trust and the Rose Anna Unit Trust were purchased by Retail Treasury not from money that came from it but rather from other companies in the Dollarforce group.\n",
            "Ms Kohary has identified that $94,500 for that purchase came from Ivory Property Group Pty Ltd, the ninth defendant.\n",
            "As that company was a trustee company it was not open to it to use its funds in this way.\n",
            "I should also point out that even if Ms Hawkins did pay Dollarforce Financial Services Pty Ltd $330,000 to acquire the shares in Retail Treasury and accordingly acquire the benefits of the two unit trusts held by that company, the commerciality and justification for the amount of that payment is in question.\n",
            "The relationship between Mr Weerappah and Ms Hawkins was such that the transaction was not an arms length transaction.\n",
            "The consideration of $330,000 appears to be totally inadequate.\n",
            "For example, in April 2008 amounts totalling $330,000 were deposited into the Dollarforce Financial Services Pty Ltd's bank account and in January 2009, amounts totalling $360,000 were deposited into Elite Wealth Builders' bank account.\n",
            "The consequence is that the liquidator of Dollarforce Financial Services Pty Ltd may be able to set aside that transaction on the basis that Mr Weerappah entered into that transaction as a director of Dollarforce Financial Services Pty Ltd in breach of his duty to Dollarforce Financial Services Pty Ltd and that Ms Hawkins was privy to and part of that breach of duty.\n",
            "I am satisfied that it is necessary that an independent person be appointed to investigate these transactions involving Retail Treasury and the unit trusts it owns and the payments paid to Elite Wealth Builders to determine whether there has been misappropriation of funds which should properly belong to Dollarforce Financial Services Pty Ltd or other companies or persons.\n",
            "I am also satisfied that a provisional liquidator should be appointed to Retail Treasury to ensure that its assets are not dissipated.\n",
            "The manner in which Ms Hawkins has been involved in the earlier financial transactions of Dollarforce Financial Services Pty Ltd and the other defendants and her explanations for those financial transactions which have not been documented properly or at all, lead me to the conclusion that she should not continue to be in control of Retail Treasury whilst its affairs are being investigated by the Commission and whilst there are live issues as to whether it is in possession or control of funds and assets which properly belong to other persons or which can be traced as belonging to other persons.\n",
            "There are also significant doubts as to whether Ms Hawkins was entitled to receive $62,000 from Dollarforce Financial Services Pty Ltd and $10,000 from Altitude Property No 1 Pty Ltd.\n",
            "There is also significant doubt as to whether Elite Wealth Builders was entitled to receive $33,000 from Alamanda Pty Ltd and $32,000 and $35,000 from Elite Equities Pty Ltd. Ms Hawkins says that Alamanda Pty Ltd entered into a contract with Elite Wealth Builders to provide various services to it including accounting and administration for a number of companies.\n",
            "Ms Hawkins says that the payment of $33,000 relates to an invoice for those services being rendered to Alamanda Pty Ltd. No invoice or document relating to that contract was produced.\n",
            "Ms Hawkins did produce a Quickbooks extract purporting to show the amounts owing by Alamanda Pty Ltd to Elite Wealth Builders.\n",
            "The amount of $30,000 is recorded as \"Start up capital\" and the amount of $3,000 is recorded as \"Loan --- Alama\".\n",
            "Ms Hawkins says that Elite Equities Pty Ltd entered into a contract with Elite Wealth Builders to provide various services for it.\n",
            "Ms Hawkins says that the payment of $32,000 relates to an invoice for those services being rendered to Elite Equities Pty Ltd. No invoice or document relating to that contract was produced.\n",
            "Ms Hawkins produced a Quickbooks extract purporting to show the amounts owing by Elite Equities Pty Ltd to Elite Wealth Builders.\n",
            "The amount of $20,000 is recorded as \"Transfer of F...\" and the amount of $12,000 is recorded as \"Transfer of F...\" It is not necessary, having regard to the findings I have made in relation to the other transactions to analyse these transactions further, other than to say they support the proposition that a provisional liquidator should be appointed to Elite Wealth Builders pending further investigation of the transactions involving Mr Weerappah, Ms Hawkins and Elite Wealth Builders.\n",
            "I therefore propose to make orders appointing a provisional liquidator of Elite Wealth Builders and Retail Treasury and orders restraining Ms Hawkins and Mr Weerappah from applying for passports or leaving the country.\n",
            "I will hear from the parties as to whether I should make any further and, if so, what orders restraining Mr Weerappah and Ms Hawkins from disposing of their assets.\n",
            "I certify that the preceding sixty-nine (69) numbered paragraphs are a true copy of the Reasons for Judgment herein of the Honourable Justice Goldberg.\n",
            "Associate:\n",
            " \n",
            " \n",
            "Dated: 19 March 2009\n",
            " \n",
            " Counsel for the Plaintiff: Mr J Moore \n",
            " \n",
            " Solicitor for the Plaintiff: Australian Securities and Investments Commission \n",
            " \n",
            " Counsel for the First, Second, Third, Seventh, Eighth, Ninth and Tenth Defendants: Mr N Hutton \n",
            " \n",
            " Solicitor for the First, Second, Third, Seventh, Eighth, Ninth and Tenth Defendants: MGA Lawyers \n",
            " \n",
            " Counsel for the Fifth Defendant: D Galbally \n",
            " \n",
            " Solicitor for the Fifth Defendant: Jones Newell \n",
            " \n",
            " Counsel for the applicants for leave to intervene: Mr D L Cook \n",
            " \n",
            " Solicitor for the applicants for leave to intervene: Slater & Gordon \n",
            " Date of Hearing: 12 March 2009 \n",
            " \n",
            " Date of Judgment: 19 March 2009 \n",
            " \n",
            "\n",
            " \n",
            " AustLII: Copyright Policy | Disclaimers | Privacy Policy | Feedback \n",
            " URL: http://www.austlii.edu.au/au/cases/cth/FCA/2009/249.html \n",
            " \n",
            " \n",
            "\n",
            "\n",
            "\n",
            "Actual Headline: Australian Securities and Investments Commission, in the matter of Bennett Street Developments Pty Ltd v Weerappah (No 2) [2009] FCA 249 (19 March 2009)\n",
            "\n",
            "\n",
            "Generated Headline: Australian Securities & Investments Commission v Elite Wealth Builders Pty Ltd [2007] FCA 1519 (13 November 2007)\n"
          ]
        }
      ],
      "source": [
        "gen_test(final_test_df, 20)"
      ]
    },
    {
      "cell_type": "code",
      "execution_count": 160,
      "metadata": {
        "id": "fPiboq9Y9i9y",
        "outputId": "b3357872-27ee-4092-89ff-506e9ff8cf97"
      },
      "outputs": [
        {
          "name": "stdout",
          "output_type": "stream",
          "text": [
            "Lenth of the body: 5100\n",
            "\n",
            "\n",
            "Text body: \n",
            "\n",
            " INTRODUCTION \n",
            " This matter relates to a challenge by the applicant of an assessment by the respondent under Part IVA of the Income Tax Assessment Act 1936 (Cth) (the ITAA 1936) that the applicant obtained a tax benefit of $82,950,090 in connection with a scheme to reduce income tax liability.\n",
            "The matter is listed for hearing, commencing on 13 July 2009.\n",
            "The applicant by notice of motion of 5 May 2009 now seeks further and better particulars of: \n",
            " 1.1 the events and transactions which the Respondent alleges would have occurred had the 'scheme' pleaded in paragraph 46 of the Respondent's Response to the Applicant's Statement of Grounds not been entered into; and \n",
            "\n",
            " \n",
            " 1.2 the essential terms on which it is alleged that those events and transactions would have been implemented, \n",
            "\n",
            " \n",
            " or such other particulars as the Court considers appropriate in the circumstances.\n",
            "\n",
            "\n",
            " BACKGROUND \n",
            " The history of this matter, and another related matter, are described in the judgment of Finn J in Futuris Corporation Limited (ACN 004 336 636) v Commissioner of Taxation [2006] FCA 1096 relevantly at [2]-[10].\n",
            "I respectfully adopt his Honour's description.\n",
            "I do not need to refer to those background facts further.\n",
            "For present purposes, it is sufficient to set out the pleadings and subsequent correspondence giving rise to the present application for particulars.\n",
            "On 15 December 2006, the applicant filed its Statement of Grounds.\n",
            "At paragraph 39 of the Statement of Grounds, the applicant set out the background to the applicant's tax return for the year of income ended 30 June 1998: On or about the 7 December 1998 Futuris, being a relevant entity within the meaning of Division 1B of Part VI of the ITAA 1936, furnished a return in respect of the year of income ended 30 June 1998 (\"the 1998 Return\").\n",
            "Futuris specified in the 1998 Return:\n",
            " \n",
            " 39.1 that it had a taxable income of: $86,088,045.00 \n",
            "\n",
            " \n",
            " 39.2 that tax payable on that taxable income was: $30,991,696.20 \n",
            "\n",
            " On 23 March 2007, the respondent filed its \"Response to the Applicant's Statement of Grounds\" (the Response).\n",
            "At paragraph 32 of the Response, the respondent pleaded: The Commissioner admits the allegations in paragraph 39 of the Applicant's Statement and says further that:-\n",
            " \n",
            " (a) the taxable income of $86,088,045 (\"the declared amount\") understated the taxable income for the 1998 year by $82,950,090 (\"the understated amount\") and the amount of $30,991,696.20 is the gross tax on the declared amount; \n",
            "\n",
            " \n",
            " (b) the understated amount was described in the 1998 return as \"Division 19A Value Shift\".\n",
            "\n",
            "\n",
            " At paragraphs 44 to 46 of the Response, the respondent pleaded: Further, and in answer to the [Statement of Grounds], the Commissioner says that the understated amount of $82,950,090 referred to in paragraph 32 herein is the tax benefit which Futuris obtained, or would have obtained, but for the operation of Part IVA in connection with a scheme to which Part IVA applies.\n",
            "The amount of the tax benefit would have been included, or might reasonably be expected to have been included, in the assessable income of Futuris in the 1998 year.\n",
            "Particulars \n",
            "\n",
            " \n",
            " (a) Futuris (before entering into or carrying out the scheme) had decided to dispose of the building products division of the Futuris group of companies through directly or indirectly wholly owned subsidiaries; in particular Bristile, Bristile Operations, Vockbay and Walshville.\n",
            "\n",
            "\n",
            " \n",
            " (b) The disposal of the building products division produced a capital gain for the purposes of the ITAA 1936.\n",
            "\n",
            "\n",
            " \n",
            " (c) Futuris increased the indexed cost base of its shareholding in Walshville under section 160ZZRH in Division 19A by entering into or carrying out the scheme and thereby reduced the capital gain upon the disposal.\n",
            "\n",
            "\n",
            " \n",
            " Scheme \n",
            "\n",
            " The tax benefit was obtained in connection with a scheme to which Part IVA applies.\n",
            "On or about 2 September 1997:\n",
            " \n",
            " (a) Bristile sold most of the net assets of the building products division to Bristile Operations for $210,000,000 and recorded an accounting profit of $146,000,000; \n",
            "\n",
            " \n",
            " (b) A dividend was declared by Bristile to Vockbay of $146,000,000 and was satisfied by the issue of Vockbay of 94,193,548 fully paid $0.50 shares at a premium of $1.05 per share; \n",
            "\n",
            " \n",
            " (c) A divided was declared by Vockbay to Futuris of $63,000,000 that was satisfied by the issue to Futuris of 630,000 fully paid $1 shares at a premium of $99 per share.\n",
            "\n",
            "\n",
            " Alternatively, on or about 2 September 1997:\n",
            " \n",
            " (a) Bristile sold most of the net assets of the building products division to Bristile Operations for $210,000,000 and recorded an accounting profit of $146,000,000; \n",
            "\n",
            " \n",
            " (b) A dividend was declared by Bristile to Vockbay of $146,000,000 and was satisfied by the issue of Vockbay of 94,193,548 fully paid $0.50 shares at a premium of $1.05 per share; \n",
            "\n",
            " \n",
            " (c) A divided was declared by Vockbay to Futuris of $63,000,000 that was satisfied by the issue to Futuris of 630,000 fully paid $1 shares at a premium of $99 per share.\n",
            "\n",
            "\n",
            " \n",
            " (d) Vockbay sold its shares in Bristile to Walshville at the price of $97,313,000 being the book value of the net assets of Bristile.\n",
            "\n",
            "\n",
            " By letter dated 4 May 2007, the applicant requested further particulars, inter alia, in relation to paragraphs 44 and 45 of the Response: \n",
            " 4.1 in so far as the Commissioner alleges that the amount of $82,950,090 was a tax benefit (within the meaning of s 177C(1)(a)) obtained by Futuris in connection with a scheme, then:- \n",
            "\n",
            " \n",
            " 4.1.1 what are the facts, matters and circumstances relied upon by the Commissioner in alleging that the amount of $82,950,090 would have been included, or might reasonably be expected to have been included, in the assessable income of Futuris if the scheme had not been entered into or carried out; \n",
            "\n",
            " \n",
            " 4.1.2 what are alleged to be the events or transactions which would have occurred and as a consequence of which the amount of $82,950,090 would have been included, or might reasonably be expected to have been included, in the assessable income of Futuris if the scheme had not been entered into or carried out.\n",
            "\n",
            "\n",
            " On 15 June 2007 the respondent filed a document, \"Respondent's Response to the Applicant's Request for Particulars Dated 4 May 2007\".\n",
            "In relation to the request for particulars of paragraphs 44 and 45 of the Response, at paragraph 4 the respondent submitted: \n",
            " This is a matter for evidence and submissions not particulars.\n",
            "\n",
            "\n",
            " Almost two years later, on 26 March 2009, the applicant reiterated its request for particulars by letter to the respondent, setting out some general propositions about the function and purpose of particulars, and then stating: It is plainly in the interests of the proper conduct of the litigation that the Commissioner identify that which he alleges would have occurred had the scheme not been entered into.\n",
            "It would be an inappropriate way of conducting this litigation not to disclose the Commissioner's contentions in this regard until closing submissions.\n",
            "That would not be consistent with the Commissioner's obligation to act as a model litigant.\n",
            "Such an approach would require Futuris to seek to prepare for each and every possible counterfactual or 'alternative postulate' the Commissioner might be able to put, when the counterfactual he intends to put is one which he can readily identify.\n",
            "That would involve unnecessary expense and delay.\n",
            "\n",
            " 6.\n",
            "We ask the Commissioner provide the following particulars: \n",
            "\n",
            " \n",
            " 6.1 what are alleged to be the events or transactions which would have occurred had the schemes pleaded in paragraph 46 of the Response not been entered into?\n",
            "\n",
            "\n",
            " \n",
            " 6.2 what are alleged to be the essential terms of those alleged transactions?\n",
            "\n",
            "\n",
            " \n",
            "In that letter, the applicant foreshadowed instructions to file a notice of motion seeking particulars if none were forthcoming.\n",
            "The applicant reiterated that request by letter on 6 April 2009.\n",
            "By letter dated 8 April 2009, the respondent replied: Our client does not agree with your position and contends that as your client has the onus of proving the assessment is excessive, it is for your client to put before the Court any evidence it wishes as to what would have occurred if the whole of the scheme identified by the Commissioner had not been entered into.\n",
            "It is for the Commissioner to respond to the objective evidence not speculate and opine in advance as to what Futuris would have done but for the scheme.\n",
            "The respondent referred to the applicant's Statement of Grounds in which the applicant claimed there is no amount which has not been included in the assessable income of Futuris for the year of income ended 30 June 1998 which amount would have been included or might reasonably be expected to have been included in the assessable income of Futuris of that year of income if the scheme had not been entered into or carried out, and referred to the onus of proof in s 14ZZO of the Taxation Administration Act 1953 (Cth) requiring the applicant to support that allegation with evidence.\n",
            "The respondent further noted: Consequently, the Commissioner will respond to the objective evidence before the Court.\n",
            "The Commissioner will make submissions to the Court as to the tax benefit obtained in connection with the scheme taking into account any \"alternative postulate\" (or counter factual) indicated by this evidence.\n",
            "The Commissioner will not provide an opinion or particulars speculating as to what events or transactions companies in the Futuris group would have engaged in lieu of the scheme.\n",
            "It would be embarrassing for the Commissioner to be required to provide such particulars when the existence of a tax benefit obtained in connection with a scheme does not turn on his opinion and he is not a party to any of the transactions and other conduct of Futuris relevant to the Part IVA inquiry before the Court.\n",
            "Our client is of the view that he has clearly stated for Futuris (and the Court upon hearing the taxation appeal), the basis upon which he concluded there was a tax benefit obtained in connection with a scheme and made the amended assessment giving effect to this Part IVA determination.\n",
            "\n",
            "The respondent referred the applicant to materials, including the Reasons for Decision and paragraphs 44 to 48 of the Response, and continued:\n",
            " \n",
            " Based on documentation made available to the Commissioner by Futuris during the taxation audit, the Commissioner based his assessment on the following alternative postulate:-\n",
            " \n",
            " 9.1 A decision had been made by the Futuris group to sell its building products division comprising a number of subsidiaries wholly owned by Futuris.\n",
            "This decision had been made before the scheme was entered into or carried out; \n",
            "\n",
            " \n",
            " 9.2 The market value of the shares in the building products division subsidiaries was unchanged by the scheme transactions, and the sale of the building products division without the scheme transactions would have also generated a gain of $150m to Futuris; \n",
            "\n",
            " \n",
            " 9.3 This $150m gain would have been reduced by the cost base of the shares held by Futuris in its wholly owned building products division subsidiaries.\n",
            "Without the scheme transactions this cost base was not inflated by $82,950,090; and \n",
            "\n",
            " \n",
            " 9.4 As a result an assessable gain of $92,739,340 and not $9,789,250 would have been included or might reasonably be expected to have been included in the assessable income of Futuris for the income year ended 30 June 1998 from the sale of its building products division.\n",
            "\n",
            "\n",
            " This contention is based on the Commissioner's understanding of the documents before him at the time he made his Part IVA determination and assessment.\n",
            "The Commissioner considers that his understanding at that time does not limit any contentions he will put to the Court on an \"alternative postulate\" apparent from the facts established by evidence at the hearing.\n",
            "\n",
            "On 5 May 2009, the applicant filed the present notice of motion seeking the particulars set out in [2] above.\n",
            "THE APPLICATION FOR PARTICULARS \n",
            " The issues in the proceeding will be whether the applicant obtained a \"tax benefit\", and if it did, whether it could be concluded that the relevant scheme was entered into or carried out for the dominant purpose of obtaining a tax benefit.\n",
            "The application for particulars relates to the first of those issues, whether a \"tax benefit\" was obtained.\n",
            "Section 177C(1) of Part IVA relevantly provides: \n",
            " Subject to this section, a reference in this Part to the obtaining by a taxpayer of a tax benefit in connection with a scheme shall be read as a reference to: \n",
            "\n",
            " \n",
            " (a) an amount not being included in the assessable income of the taxpayer of a year of income where that amount would have been included, or might reasonably be expected to have been included, in the assessable income of the taxpayer of that year of income if the scheme had not been entered into or carried out.\n",
            "\n",
            "\n",
            " The applicant contends that in order to make an assessment under Part IVA that the applicant obtained a \"tax benefit in connection with a scheme\", the Commissioner would be required to form a view, by reference to s 177C(1), that the relevant amount of the tax benefit \"would have been included, or might reasonably be expected to have been included\" in the assessable income had the scheme not been entered into or carried out.\n",
            "The applicant contends that forming that view would require the Commissioner to have some opinion, or \"alternative postulate\" as to what the applicant would have done, had the scheme not been entered into or carried out.\n",
            "In other words, the applicant seeks to get particulars of the transactions or arrangements the respondent says would have occurred, leading to the relevant amount of the tax benefit being included (or being reasonably expected to have been included) in the assessable income of the applicant.\n",
            "The applicant submitted that the definition of \"tax benefit\" requires one to undertake a process of notionally setting aside the relevant scheme, and then ascertaining what amount would have been included, or might reasonably have been expected to be included, in the taxpayer's assessable income, if the scheme had not been carried out.\n",
            "The applicant submitted that the particulars sought go to that matter, and drew a direct link between the language used in s 177C(1) and the particulars sought, being particulars of the events which the respondent alleges would have occurred had the scheme not been entered into.\n",
            "In support of its contentions, the applicant referred to Federal Commissioner of Taxation v Peabody [1994] HCA 43 ; (1994) 181 CLR 359 ( Peabody's Case ), in particular at 385 where the nature of a \"reasonable expectation\" for the purposes of s 177C was described by the High Court as follows:\n",
            " \n",
            " A reasonable expectation requires more than a possibility.\n",
            "It involves a prediction as to events which would have taken place if the relevant scheme had not been entered into or carried out and the prediction must be sufficiently reliable for it to be regarded as reasonable.\n",
            "\n",
            "\n",
            " \n",
            "The applicant placed emphasis on the requirement of a \"prediction\".\n",
            "The applicant also referred to Federal Commissioner of Taxation v Hart (2004) 217 CLR 216 where Gummow and Hayne JJ, when interpreting the similar provision s 177C(1)(b), said at [66]:\n",
            " \n",
            " \n",
            " In the present matters, the respondents would obtain a tax benefit if, in the terms of s 177C(1)(b), had the scheme not been entered into or carried out, the deductions \"might reasonably be expected not to have been allowable\".\n",
            "When that is read with s 177D(b) it becomes apparent that the inquiry directed by Pt IVA requires comparison between the scheme in question and an alternative postulate.\n",
            "To draw a conclusion about purpose from the eight matters identified in s 177D(b) will require consideration of what other possibilities existed.\n",
            "\n",
            "\n",
            " \n",
            "The applicant submitted that in order to make such a comparison, the Commissioner would have needed to identify an alternative postulate, and that identifying what would have occurred had the scheme not been entered into, ie the alternative postulate, is a critical element in contending whether a tax benefit arose.\n",
            "The applicant says that the importance of identifying the alternative postulate is made clear by Peabody's Case .\n",
            "In that case, the Commissioner's assessment depended on the proposition that a number of transactions would have taken place (such as the declaration of a dividend in favour of the taxpayer's family trust) for the tax benefit to accrue to the taxpayer in the relevant income year.\n",
            "The High Court ruled that, in the circumstances, there was no reasonable expectation that such transactions would have occurred in the absence of the relevant scheme.\n",
            "The Commissioner's alternative postulate was not accepted by the High Court because the arrangement was not one which had genuinely been contemplated by the taxpayer.\n",
            "The applicant submitted that, in most circumstances, it is unlikely that an issue will arise as to the alternative postulate, but submitted that the present circumstances are different because they involve a factually complicated arrangement leading up to the ultimate sale of the entity called Walshville, as described by Finn J in Futuris Corporation Limited (ACN 004 336 636) v Commissioner of Taxation [2006] FCA 1096 referred to above.\n",
            "The applicant also referred to Federal Commissioner of Taxation v Lenzo [2008] FCAFC 50 ; (2008) 167 FCR 255 ( Lenzo's Case ), where Sackville J noted at [120]:\n",
            " \n",
            " Since any tax benefit identified must be related to a scheme, as must any conclusion of a dominant tax avoidance purpose, the identification of the scheme and of the tax benefit is of central importance to the operation of Pt IVA: Federal Commissioner of Taxation v Hart (2004) 217 CLR 216 at 223.\n",
            "\n",
            "\n",
            " Further reference was made to Bailey v Federal Commissioner of Taxation [1977] HCA 11 ; (1977) 136 CLR 214 ( Bailey's Case ), where an application was made for particulars in the context of the predecessor of Part IVA , and the taxpayer requested particulars of the \"arrangement\" upon which the Commissioner's use of s 260 was based, but the Commissioner refused to supply them.\n",
            "It was held that the Supreme Court had power to order the Commissioner to give particulars of the \"arrangement\", and that such particulars should be given in the circumstances.\n",
            "The applicant relied on Bailey's Case , particularly at 230 where Aickin J referred with apparent approval to the decision in Tomlinson v Federal Commissioner of Taxation (1974) 23 FLR 314 where Jeffrey J concluded \n",
            " that in the exercise of its discretion the court will give paramountcy to the principle that the appellant should have the fullest particulars necessary to him to enable him to appraise the case which he has to disapprove and should have access to documents necessary for the proof by him of this case.\n",
            "With a general proposition expressed in those general terms I would respectfully agree.\n",
            "\n",
            "\n",
            " The applicant also referred to Mason J in Bailey's Case at 219 where his Honour said: \n",
            " The fact that the taxpayer bears the onus of proving that the assessment is excessive makes it all the more necessary that he should be given particulars of the basis of the assessment, \n",
            "\n",
            " \n",
            "and later at 221:\n",
            " \n",
            " Under s 190 the taxpayers bears the onus of showing that the Commissioner's assessment is excessive.\n",
            "Consequently the relevant facts in the appeal include the view of the facts on which the Commissioner has based his assessment, the manner in which he has arrived at his assessment.\n",
            "These facts are not within the knowledge of the taxpayer; they are within the knowledge of the Commissioner.\n",
            "\n",
            "\n",
            " The respondent accepts that there is a need for the parties to know the case at hand, but says that the parties do know, having regard to the onus of proof and the structure of Part IVA of the ITAA 1936, the nature of the case that has to be met.\n",
            "The respondent says that the applicant fully knows the case.\n",
            "It knows the amount the Commissioner says was not included in the assessable income that would have been or might reasonably be expected to have been included; knows the provisions upon which the Commissioner relies and knows the particular transactions that the Commissioner has referred to.\n",
            "The applicant is aware of what the Commissioner says the relevant scheme was, how that scheme operated to produce a tax benefit, and the amount of the benefit obtained.\n",
            "The respondent contends that the wording of s 177C(1)(a) provides that the alternative postulate is the amount which was not included in the taxpayer's assessable income, and that Sackville J's approach in Lenzo's Case reveals the nature of the exercise to be carried out, relevantly at [125]-[128] and particularly at [128]:\n",
            " \n",
            " The taxpayer can satisfy the onus of showing that he or she has not obtained a tax benefit in connection with a scheme if: \n",
            "\n",
            " he or she would have undertaken or might reasonably be expected to have undertaken a particular activity in lieu of the scheme; and \n",
            " the activity would or might reasonably be expected to have resulted in an allowable deduction of the same kind as the deduction claimed by the taxpayer in consequence of the scheme.\n",
            "The respondent says that, assuming there is a relevant scheme the dominant purpose of which is the avoidance of tax, then the next question is whether the applicant has been able to demonstrate, having regard to the onus of proof, that if those particular transactions constituting the scheme had not been entered into or carried out, that the applicant might reasonably have been expected to have entered intro transactions which would have had a similar tax benefit.\n",
            "The respondent says that the present application for particulars is, effectively, an application for particulars of the applicant's own case.\n",
            "The respondent says that it is for the applicant to identify transactions which it would have or might reasonably have been expected to enter into so that the benefit obtained by those transactions would have been available through something other than a \"scheme\", the dominant purpose of which was to produce a tax benefit.\n",
            "Further, the respondent noted that the decision of the High Court in relation to the challenge to the Commissioner's Part IVA determination was handed down on 31 July 2008: Commissioner of Taxation v Futuris Corporation Limited [2008] HCA 32.\n",
            "On the programming orders that have been made to date in this proceeding, the evidence is filed, save for any responding evidence of the applicant.\n",
            "The matter is set down for hearing in a little over five weeks.\n",
            "The respondent submitted that the proximity to hearing should be a factor considered in the exercise of the discretion whether to order further and better particulars.\n",
            "CONSIDERATION \n",
            " It is a fundamental principle that a party is entitled to be informed about the opponent's case with sufficient clarity and particularity to allow that party a fair opportunity to meet the case: Dare v Pulham [1982] HCA 70 ; (1982) 148 CLR 658 at 664.\n",
            "The object of requiring a party to give particulars is to limit any generality in the pleadings, so as to inform the party's opponent of the nature of the case which that party must meet, and to prevent the opponent from being taken by surprise at the trial.\n",
            "The provision of appropriate particulars also means that unnecessary expense to the parties is avoided either in pre-trial preparation or at the hearing.\n",
            "The Court has power to order the furnishing of further and better particulars, whether pursuant to its inherent jurisdiction, or pursuant to Order 12 rule 5 of the Federal Court Rules .\n",
            "The question is whether in the circumstances that power should be exercised.\n",
            "The issues in the proceeding will be whether the applicant obtained a \"tax benefit\", and if it did, whether it could be concluded that the relevant scheme was entered into or carried out for the dominant purpose of obtaining a tax benefit.\n",
            "In its Response, the respondent has set out in detail at paragraphs 44 to 46 (quoted in full at [6] above) the relevant amount that the Commissioner says was not included in the assessable income that would have been or might reasonably be expected to have been included; the provisions upon which the Commissioner relies; and the particular transactions which the Commissioner says gave rise to the relevant tax benefit.\n",
            "The Commissioner has pleaded the transactions that comprise the relevant scheme; how that scheme operated to produce a tax benefit; and the amount of the benefit obtained.\n",
            "That would indicate that the applicant is sufficiently informed about the Commissioner's case, with sufficient clarity and particularity to meet that case.\n",
            "In my view, the applicant is not entitled to the further and better particulars it seeks in relation to whether a \"tax benefit\" was obtained.\n",
            "The onus is on the applicant to establish that it would have undertaken or might reasonably be expected to have undertaken a particular activity in lieu of the relevant scheme, and that that activity would or might reasonably be expected to have resulted in a tax benefit similar to the tax benefit obtained by the taxpayer in consequence of the scheme.\n",
            "It is not for the respondent to provide particulars as to what the applicant might have done, had it not entered the scheme.\n",
            "It is not within the Commissioner's knowledge.\n",
            "That is matter for the applicant to prove.\n",
            "The applicant submitted that it should be entitled to take the \"rifle\" approach as opposed to the \"shot gun\" approach in relation to the alternative postulate.\n",
            "That is, the applicant should be entitled to know precisely what alternative postulate the Commissioner relies upon to say that the relevant amount of the tax benefit would have been included in the assessable income of the applicant.\n",
            "The applicant submitted that, without the provision of the requested particulars, the applicant would be required to lead evidence, in respect to each and every possible way in which the float could have been structured; whether it would have done it that way; what commercial or other consequences would have occurred if the transaction had been structured in that way; and the reasons why it did not undertake the float in that way.\n",
            "That would, it was submitted, extend the potential scope of the evidence dramatically because the applicant has to anticipate and rebut every alternative postulate which the respondent might, at trial, put forward.\n",
            "I think that submission is misconceived.\n",
            "It would be nonsensical for the Commissioner to \"suggest\" a possible series of transactions that the applicant might have undertaken which might have led to the relevant amount being included in the assessable income, because such suggestion could only be a matter of conjecture and, if disproved, would leave the Court no better informed and having come no further to answer the question of whether Part IVA of the ITAA 1936 applies.\n",
            "It is for the applicant, who bears the onus, to establish the series of transactions or arrangements which, it contends, would have or might reasonably be expected to have been entered into or carried out and which would have or might reasonably be expected to have resulted in the relevant amount being obtained as a tax benefit regardless of the scheme.\n",
            "In addition, as was acknowledged in the course of submissions, it is not enough for the applicant to disprove any alternative postulate put up by the respondent (assuming the scheme is shown to exist as asserted by the respondent).\n",
            "If it is to succeed on its application, it must also adduce evidence which satisfies the Court that it had an alternative postulate which it would have been able to implement and which would have resulted in the same taxable position as if the scheme which (arguendo) has been set aside had remained in place, or which would have resulted in some other taxable position.\n",
            "The fact that the respondent has some idea as to what the alternative postulate of the applicant might be (as its outline of submissions acknowledges) does not advance that task on the part of the applicant.\n",
            "Nor does it expose the applicant to the need for a \"shot gun\" evidentiary approach.\n",
            "The respondent has indicated what its case is, and the applicant has the task of answering it and then establishing (assuming it does not successfully answer it) what alternative postulate was available to it to arrive at the same, or a different, assessable income for the relevant year.\n",
            "I note that this approach was described by Sackville J in Lenzo's Case , and that an application for special leave to appeal to the High Court in that case was refused: Lenzo v Commissioner of Taxation [2008] HCATrans 371 (12 November 2008).\n",
            "In my view, the applicant is not entitled to further and better particulars of the respondent's case which it seeks.\n",
            "In any event, if the applicant were entitled to the sort of particulars that it seeks, the respondent has provided them.\n",
            "It has identified the amount of the tax benefit, and the detailed transactions by which it alleges the tax benefit was obtained.\n",
            "The respondent has provided all the particulars that it could sensibly be expected to provide in relation to the obtaining of a tax benefit.\n",
            "There is a further and independent ground why I would refuse to order further and better particulars in any event.\n",
            "It is that in the exercise of my discretion, I would refuse to do so.\n",
            "The pleadings have closed.\n",
            "Discovery and inspection have taken place to the extent required by the parties.\n",
            "More importantly, the evidence is all filed, save for any responding evidence of the applicant.\n",
            "The evidence of the respondent is thus defined and confined.\n",
            "The applicant from that evidence knows the case it has to meet.\n",
            "It was not argued, by reference to that evidence, that there is some gaping ambiguity which exposes it to the need to significantly increase its evidence in response beyond that which might otherwise have been adduced.\n",
            "I am not, therefore, persuaded in the particular circumstances that, in the interests of a fair and efficient trial, that further and better particulars of the nature sought are necessary.\n",
            "For these reasons, I decline to order that the particulars sought be provided by the respondent.\n",
            "The application is refused.\n",
            "The applicant should pay to the respondent costs of and incidental to the applicant's notice of motion.\n",
            "I certify that the preceding forty-one (41) numbered paragraphs are a true copy of the Reasons for Judgment herein of the Honourable Justice Mansfield.\n",
            "Associate:\n",
            " \n",
            " \n",
            "Dated: 4 June 2009\n",
            " \n",
            " Counsel for the Applicant: BJ Sullivan SC and TM Thawley \n",
            " \n",
            " Solicitor for the Applicant: Cosoff Cudmore Knox \n",
            " \n",
            " Counsel for the Respondent: JD Allanson SC and LB Price \n",
            " \n",
            " Solicitor for the Respondent: Australian Government Solicitor \n",
            " Date of Hearing: 28 May 2009 \n",
            " \n",
            " Date of Judgment: 4 June 2009 \n",
            " \n",
            "\n",
            " \n",
            " AustLII: Copyright Policy | Disclaimers | Privacy Policy | Feedback \n",
            " URL: http://www.austlii.edu.au/au/cases/cth/FCA/2009/600.html \n",
            " \n",
            " \n",
            "\n",
            "\n",
            "\n",
            "Actual Headline: Futuris Corporation Limited (ACN 004 336 636) v Commissioner of Taxation [2009] FCA 600 (4 June 2009)\n",
            "\n",
            "\n",
            "Generated Headline: Futuris Corporation Limited (ACN 004 336 636) v Commissioner of Taxation [2007] FCA 1096 (5 May 2007)\n"
          ]
        }
      ],
      "source": [
        "gen_test(final_test_df, 250)"
      ]
    },
    {
      "cell_type": "code",
      "execution_count": 161,
      "metadata": {
        "id": "PM6WTwwq9i9y",
        "outputId": "903aa955-f749-404d-f4d6-5c0ae78db24c"
      },
      "outputs": [
        {
          "name": "stdout",
          "output_type": "stream",
          "text": [
            "Lenth of the body: 81\n",
            "\n",
            "\n",
            "Text body:   We demonstrate complete characterization of a two-qubit entangling process -\n",
            "a linear optics controlled-NOT gate operating with coincident detection - by\n",
            "quantum process tomography. We use maximum-likelihood estimation to convert the\n",
            "experimental data into a physical process matrix. The process matrix allows\n",
            "accurate prediction of the operation of the gate for arbitrary input states,\n",
            "and calculation of gate performance measures such as the average gate fidelity,\n",
            "average purity and entangling capability of our gate, which are 0.90, 0.83 and\n",
            "0.73, respectively.\n",
            "\n",
            "\n",
            "\n",
            "Actual Headline: Quantum process tomography of a controlled-NOT gate\n",
            "\n",
            "\n",
            "Generated Headline: Quantum process tomography of a two-qubit entangling gate\n"
          ]
        }
      ],
      "source": [
        "gen_test(final_test_df, 510)"
      ]
    },
    {
      "cell_type": "code",
      "execution_count": 162,
      "metadata": {
        "id": "gT1B_7F-9i9y",
        "outputId": "3c036d25-67c9-4f0a-b0a0-8b6a1a8673d9"
      },
      "outputs": [
        {
          "name": "stdout",
          "output_type": "stream",
          "text": [
            "Lenth of the body: 75\n",
            "\n",
            "\n",
            "Text body:   We examine the execution of general U(1) transformations on programmable\n",
            "quantum processors. We show that, with only the minimal assumption of\n",
            "availability of copies of the one-qubit program state, that the apparent\n",
            "advantage of existing schemes proposed by G.Vidal it et al. [Phys. Rev. Lett.\n",
            "88, 047905 (2002)] and M.Hillery et al. [Phys. Rev. A. 65, 022301 (2003)] to\n",
            "execute a general U(1) transformation with greater probability using complex\n",
            "program states appears not to hold.\n",
            "\n",
            "\n",
            "\n",
            "Actual Headline: Probabilistic programmable quantum processors with multiple copies of\n",
            "  program state\n",
            "\n",
            "\n",
            "Generated Headline: General U(1) Transformations on Programmable Quantum Processors\n"
          ]
        }
      ],
      "source": [
        "gen_test(final_test_df, 650)"
      ]
    },
    {
      "cell_type": "code",
      "execution_count": 163,
      "metadata": {
        "id": "caiZmC5C9i9y",
        "outputId": "79438255-d45e-46c2-bc5f-917fb8a965bc"
      },
      "outputs": [
        {
          "name": "stdout",
          "output_type": "stream",
          "text": [
            "Lenth of the body: 132\n",
            "\n",
            "\n",
            "Text body:   On the basis of the non-commutative q-calculus, we investigate a\n",
            "q-deformation of the classical Poisson bracket in order to formulate a\n",
            "generalized q-deformed dynamics in the classical regime. The obtained\n",
            "q-deformed Poisson bracket appears invariant under the action of the\n",
            "q-symplectic group of transformations. In this framework we introduce the\n",
            "q-deformed Hamilton's equations and we derive the evolution equation for some\n",
            "simple q-deformed mechanical systems governed by a scalar potential dependent\n",
            "only on the coordinate variable. It appears that the q-deformed Hamiltonian,\n",
            "which is the generator of the equation of motion, is generally not conserved in\n",
            "time but, in correspondence, a new constant of motion is generated. Finally, by\n",
            "following the standard canonical quantization rule, we compare the well known\n",
            "q-deformed Heisenberg algebra with the algebra generated by the q-deformed\n",
            "Poisson bracket.\n",
            "\n",
            "\n",
            "\n",
            "Actual Headline: Classical and quantum q-deformed physical systems\n",
            "\n",
            "\n",
            "Generated Headline: q-deformation of the classical Poisson bracket\n"
          ]
        }
      ],
      "source": [
        "gen_test(final_test_df, 779)"
      ]
    },
    {
      "cell_type": "code",
      "execution_count": 164,
      "metadata": {
        "id": "WIPn7NQT9i9z",
        "outputId": "11df8beb-ab4e-4c5a-8e09-3222792bf0ef"
      },
      "outputs": [
        {
          "name": "stdout",
          "output_type": "stream",
          "text": [
            "Lenth of the body: 181\n",
            "\n",
            "\n",
            "Text body:   We have analyzed available optical data for Au in the mid-infrared range\n",
            "which is important for a precise prediction of the Casimir force. Significant\n",
            "variation of the data demonstrates genuine sample dependence of the dielectric\n",
            "function. We demonstrate that the Casimir force is largely determined by the\n",
            "material properties in the low frequency domain and argue that therefore the\n",
            "precise values of the Drude parameters are crucial for an accurate evaluation\n",
            "of the force. These parameters can be estimated by two different methods,\n",
            "either by fitting real and imaginary parts of the dielectric function at low\n",
            "frequencies, or via a Kramers-Kronig analysis based on the imaginary part of\n",
            "the dielectric function in the extended frequency range. Both methods lead to\n",
            "very similar results. We show that the variation of the Casimir force\n",
            "calculated with the use of different optical data can be as large as 5% and at\n",
            "any rate cannot be ignored. To have a reliable prediction of the force with a\n",
            "precision of 1%, one has to measure the optical properties of metallic films\n",
            "used for the force measurement.\n",
            "\n",
            "\n",
            "\n",
            "Actual Headline: Sample dependence of the Casimir forces\n",
            "\n",
            "\n",
            "Generated Headline: The Casimir force in the mid-infrared range\n"
          ]
        }
      ],
      "source": [
        "gen_test(final_test_df, 888)"
      ]
    },
    {
      "cell_type": "code",
      "execution_count": 165,
      "metadata": {},
      "outputs": [
        {
          "data": {
            "text/html": [
              "<div>\n",
              "<style scoped>\n",
              "    .dataframe tbody tr th:only-of-type {\n",
              "        vertical-align: middle;\n",
              "    }\n",
              "\n",
              "    .dataframe tbody tr th {\n",
              "        vertical-align: top;\n",
              "    }\n",
              "\n",
              "    .dataframe thead th {\n",
              "        text-align: right;\n",
              "    }\n",
              "</style>\n",
              "<table border=\"1\" class=\"dataframe\">\n",
              "  <thead>\n",
              "    <tr style=\"text-align: right;\">\n",
              "      <th></th>\n",
              "      <th>headline</th>\n",
              "      <th>article</th>\n",
              "    </tr>\n",
              "  </thead>\n",
              "  <tbody>\n",
              "    <tr>\n",
              "      <th>0</th>\n",
              "      <td>Williams v Construction, Forestry, Mining and ...</td>\n",
              "      <td>\\n\\n INTRODUCTION \\n This is an application by...</td>\n",
              "    </tr>\n",
              "    <tr>\n",
              "      <th>1</th>\n",
              "      <td>Alfred v Wakelin (No 3) [2009] FCA 224 (13 Mar...</td>\n",
              "      <td>\\n\\n By notice of motion filed on 18 February ...</td>\n",
              "    </tr>\n",
              "    <tr>\n",
              "      <th>2</th>\n",
              "      <td>Commonwealth Bank of Australia v Deputy Commis...</td>\n",
              "      <td>\\n\\n In this proceeding the Commonwealth Bank ...</td>\n",
              "    </tr>\n",
              "    <tr>\n",
              "      <th>3</th>\n",
              "      <td>Mortimer v Opes Prime Stockbroking Limited (AC...</td>\n",
              "      <td>\\n\\n INTRODUCTION \\n There are two application...</td>\n",
              "    </tr>\n",
              "    <tr>\n",
              "      <th>4</th>\n",
              "      <td>Habib v Commonwealth of Australia (No 2) [2009...</td>\n",
              "      <td>\\n\\n Introduction\\n Save where indicated, the ...</td>\n",
              "    </tr>\n",
              "  </tbody>\n",
              "</table>\n",
              "</div>"
            ],
            "text/plain": [
              "                                            headline  \\\n",
              "0  Williams v Construction, Forestry, Mining and ...   \n",
              "1  Alfred v Wakelin (No 3) [2009] FCA 224 (13 Mar...   \n",
              "2  Commonwealth Bank of Australia v Deputy Commis...   \n",
              "3  Mortimer v Opes Prime Stockbroking Limited (AC...   \n",
              "4  Habib v Commonwealth of Australia (No 2) [2009...   \n",
              "\n",
              "                                             article  \n",
              "0  \\n\\n INTRODUCTION \\n This is an application by...  \n",
              "1  \\n\\n By notice of motion filed on 18 February ...  \n",
              "2  \\n\\n In this proceeding the Commonwealth Bank ...  \n",
              "3  \\n\\n INTRODUCTION \\n There are two application...  \n",
              "4  \\n\\n Introduction\\n Save where indicated, the ...  "
            ]
          },
          "execution_count": 165,
          "metadata": {},
          "output_type": "execute_result"
        }
      ],
      "source": [
        "final_test_df.head()"
      ]
    },
    {
      "cell_type": "code",
      "execution_count": 170,
      "metadata": {},
      "outputs": [],
      "source": [
        "final_test_df['generated_headline'] = final_test_df['article'].apply(lambda row: generate_headline(row))"
      ]
    },
    {
      "attachments": {},
      "cell_type": "markdown",
      "metadata": {},
      "source": [
        "## Evaluation"
      ]
    },
    {
      "attachments": {},
      "cell_type": "markdown",
      "metadata": {},
      "source": [
        "### BLEU Score"
      ]
    },
    {
      "cell_type": "code",
      "execution_count": 174,
      "metadata": {},
      "outputs": [],
      "source": [
        "from nltk.translate.bleu_score import SmoothingFunction, corpus_bleu, sentence_bleu \n",
        "\n",
        "\n",
        "def bleu(ref, gen):\n",
        "    cc = SmoothingFunction()\n",
        "    score_bleu = sentence_bleu(ref.split(), gen.split(), weights=(1,0,0,0), smoothing_function=cc.method4) \n",
        "    return score_bleu"
      ]
    },
    {
      "cell_type": "code",
      "execution_count": 175,
      "metadata": {},
      "outputs": [
        {
          "name": "stdout",
          "output_type": "stream",
          "text": [
            "Total Pairs:  1000\n",
            "Average BLEU score for the dataset: 0.05074094370970452\n"
          ]
        }
      ],
      "source": [
        "dataset_references = list(final_test_df['headline']) # List of reference sentences for the dataset\n",
        "dataset_generated = list(final_test_df['generated_headline'])  # List of generated sentences for the dataset\n",
        "\n",
        "total_score = 0.0\n",
        "total_pairs = len(dataset_references)\n",
        "print(\"Total Pairs: \",total_pairs)\n",
        "\n",
        "for ref, gen in zip(dataset_references, dataset_generated):\n",
        "    # print(ref.lower().split())\n",
        "    # print(gen.lower().split())\n",
        "    score = bleu(ref.lower(), gen.lower())\n",
        "    # print(score)\n",
        "    total_score += score\n",
        "    # print(total_score)\n",
        "\n",
        "average_bleu = total_score / total_pairs\n",
        "\n",
        "print(\"Average BLEU score for the dataset:\", average_bleu)"
      ]
    },
    {
      "attachments": {},
      "cell_type": "markdown",
      "metadata": {},
      "source": [
        "### ROUGE Score"
      ]
    },
    {
      "cell_type": "code",
      "execution_count": 116,
      "metadata": {},
      "outputs": [],
      "source": [
        "# !pip install rouge\n"
      ]
    },
    {
      "cell_type": "code",
      "execution_count": 117,
      "metadata": {},
      "outputs": [],
      "source": [
        "from rouge import Rouge\n",
        "ROUGE = Rouge()"
      ]
    },
    {
      "cell_type": "code",
      "execution_count": 118,
      "metadata": {},
      "outputs": [],
      "source": [
        "sample_row = final_test_df.iloc[1]\n",
        "text = sample_row[\"article\"]\n",
        "reference = sample_row[\"headline\"]\n",
        "candidate = generate_headline(text)"
      ]
    },
    {
      "cell_type": "code",
      "execution_count": 119,
      "metadata": {},
      "outputs": [
        {
          "data": {
            "text/plain": [
              "{'rouge-1': {'r': 0.36363636363636365, 'p': 0.4, 'f': 0.3809523759637189},\n",
              " 'rouge-2': {'r': 0.2, 'p': 0.2, 'f': 0.19999999500000015},\n",
              " 'rouge-l': {'r': 0.36363636363636365, 'p': 0.4, 'f': 0.3809523759637189}}"
            ]
          },
          "execution_count": 119,
          "metadata": {},
          "output_type": "execute_result"
        }
      ],
      "source": [
        "x = ROUGE.get_scores(candidate, reference)\n",
        "x[0]"
      ]
    },
    {
      "cell_type": "code",
      "execution_count": 120,
      "metadata": {},
      "outputs": [
        {
          "data": {
            "text/plain": [
              "{'rouge-1': {'r': 0.33823290863978267,\n",
              "  'p': 0.34957997073290326,\n",
              "  'f': 0.3351774304691425},\n",
              " 'rouge-2': {'r': 0.1759030856674854,\n",
              "  'p': 0.18070533087931773,\n",
              "  'f': 0.17418235734108836},\n",
              " 'rouge-l': {'r': 0.32372040788841383,\n",
              "  'p': 0.33343060909522904,\n",
              "  'f': 0.32028253008439744}}"
            ]
          },
          "execution_count": 120,
          "metadata": {},
          "output_type": "execute_result"
        }
      ],
      "source": [
        "res = {}\n",
        "res['rouge-1'] = {}\n",
        "res['rouge-2'] = {}\n",
        "res['rouge-l'] = {}\n",
        "for key in res:\n",
        "  res[key]['r'] = 0\n",
        "  res[key]['p'] = 0\n",
        "  res[key]['f'] = 0\n",
        "for index in range(len(final_test_df.index)):\n",
        "  sample_row = final_test_df.iloc[index]\n",
        "  text = sample_row[\"article\"]\n",
        "  reference = sample_row[\"headline\"]\n",
        "  candidate = generate_headline(text)\n",
        "  score = ROUGE.get_scores(candidate, reference)\n",
        "  for key in res:\n",
        "    res[key]['r'] += score[0][key]['r']\n",
        "    res[key]['p'] += score[0][key]['p']\n",
        "    res[key]['f'] += score[0][key]['f']\n",
        "for key in res:\n",
        "  res[key]['r'] /= len(final_test_df.index)\n",
        "  res[key]['p'] /= len(final_test_df.index)\n",
        "  res[key]['f'] /= len(final_test_df.index)\n",
        "res"
      ]
    },
    {
      "attachments": {},
      "cell_type": "markdown",
      "metadata": {},
      "source": [
        "### Semantic Similarity"
      ]
    },
    {
      "cell_type": "code",
      "execution_count": 176,
      "metadata": {},
      "outputs": [],
      "source": [
        "# Creating a list of generated titles for the test df\n",
        "for index in range(len(final_test_df.index)):\n",
        "  sample_row = final_test_df.iloc[index]\n",
        "  text = sample_row[\"article\"]\n",
        "  reference = sample_row[\"headline\"]\n",
        "  candidate = generate_headline(text)\n",
        "  with open(\"predictions_12000samples.txt\",\"a+\") as f:\n",
        "    f.write(candidate+\"\\n\")"
      ]
    },
    {
      "attachments": {},
      "cell_type": "markdown",
      "metadata": {},
      "source": [
        "SentenceTransformers is a Python framework for state-of-the-art sentence, text and image embeddings. This framework can be used to compute sentence / text embeddings for more than 100 languages. These embeddings can then be compared e.g. with cosine-similarity to find sentences with a similar meaning. This can be useful for semantic textual similar, semantic search, or paraphrase mining.\n",
        "\n",
        "[Using Sentence Transformers at Hugging Face](https://huggingface.co/docs/hub/sentence-transformers#:~:text=sentence%2Dtransformers%20is%20a%20library,search%2C%20clustering%2C%20and%20retrieval.)"
      ]
    },
    {
      "cell_type": "code",
      "execution_count": 177,
      "metadata": {},
      "outputs": [],
      "source": [
        "# !pip install sentence-transformers"
      ]
    },
    {
      "cell_type": "code",
      "execution_count": 178,
      "metadata": {},
      "outputs": [],
      "source": [
        "from sentence_transformers import SentenceTransformer, util"
      ]
    },
    {
      "cell_type": "code",
      "execution_count": 179,
      "metadata": {},
      "outputs": [],
      "source": [
        "sentence_model = SentenceTransformer('all-MiniLM-L6-v2')"
      ]
    },
    {
      "cell_type": "code",
      "execution_count": 185,
      "metadata": {},
      "outputs": [
        {
          "name": "stdout",
          "output_type": "stream",
          "text": [
            "['Williams, an Australian Building and Construction Inspector appointed under s 57 of the Building and Construction Industry Improvement Act 2005 (Cth)', 'AWU', 'Commonwealth Savings Bank of Australia v Commissioner of Taxation [2003] FCA 1022 (11 August 2003)', 'ANZ v Opes Prime [2009] FCA 131 (11 August 2009)', 'Australian Security Intelligence Organisation (ASIO) v US Government [2001] FCA 1022 (9 October 2001)', 'Sydney Ferries Corporation Maritime Officers Enterprise Agreement 2006-2008', 'a delegate of the Minister refused to grant the applicant a Protection (Class XA) visa. on 11 March 2008 the Tribunal affirmed the decision not to grant the applicant a Protection (Class XA) visa', 'Williams v Automotive, Food, Metals, Engineering, Printing and Kindred Industries Union [2009] FCA 1016 (11 March 2009)', 'Wide Bay Conservation Council Inc v Burnett Water [2008] FCA 1900.', \"Minister for Immigration and Citizenship refused the applicant's application to transfer this proceeding to the Victorian Registry. Federal Magistrate Lindsay refused the application on 22 August 2008.\", 'Rahman v Secretary, Department of Education, Employment and Workplace Relations [2008] FCA 1634 [2008] FCA 1634 [2009] FCA 1634 [2010] FCA 1634 [2010] FCA 1634 [2010] FCA 1634 [2010] FCA 1634 [2010] FCA 1634 [2010] FCA 1634 [2010] FCA 1634 [2010] FCA 1634 [2010] FCA 1634 [2010] FCA 1634 [2010] FCA 1634', 'Euroz Securities Limited v Drummond [2008] FCA 1017 (11 August 2008)', 'Ms Cheung v Australia Post [2008] FCA 1022 (11 August 2008)', 'Haviv Holdings Pty Limited v Howards Storage World Pty Ltd (Franchise Agreement) [2008] FCA 1022 (11 August 2008)', 'The Construction, Forestry, Mining and Energy Union (\"the Union\") is an organisation of employees registered under the WR Act.', 'Khadpekar v Kowanyama Aboriginal Council [2008] FCA 1888', 'AFMA v Minister for Primary Industries and Energy (1994) 125 ALR 151 at 163', 'Federal Magistrate Cameron v Minister for Immigration & Anor [2008] FMCA 969 (11 August 2008)', 'Appellant is a 26 year old Israeli citizen. She came to Australia on a visitor visa on 26 November 2005.', 'Australian Securities and Investments Commission (\"the Commission\") v Elite Wealth Builders Pty Ltd [2009] FCA 1016 (11 February 2009)', 'Australian Securities and Investments Commission (\"the Commission\") v Elite Wealth Builders Pty Ltd [2009] FCA 1016 (11 February 2009)', 'Australian Securities and Investments Commission (\"the Commission\") v Elite Wealth Builders Pty Ltd [2009] FCA 1016 (11 February 2009)', 'Chamberlain v South Wagga Sports and Bowling Club Ltd (Administrator Appointed)', 'Sattvic Pty Ltd v Firepower Holdings Group Ltd [2006] FCA 1017 (11 August 2006)', 'WAD 170 of 2008 v Lefrasco Rural Pty Ltd.', 'Andrew Garrett v Macks [2008] FCA 1011 (11 August 2008)', 'Macks v Garrett [2008] FCA 1017 (11 August 2008)', 'Young & Rubicam Brands Holding Pty Limited ( YRB )', 'Deckers v Vaysman [2006] FCA 1022 (11 August 2006)', 'Bowesco Pty Ltd v Richstar Enterprises Pty Ltd [2008] FCA 100 (11 August 2008)', 'Lanepoint Enterprises Pty Ltd v ASIC [2009] FCA 257.', 'Watershed Premium Wines Ltd (the company) is a public unlisted company which carries on business as the manager of a managed investment scheme', 'Watershed Premium Wines Ltd (the company) is a public unlisted company which carries on business as the manager of a managed investment scheme', 'McBain v John Turner [2006] FCA 1022 (9 August 2006)', 'Federal Magistrate\\'s decision to allow cross-examination of bankrupt. Terry Donald Hill and his wife, as well as their lawyer, are being oppressed. Lloyd-Jones FM: \"the trusteeship is being used to oppress\"', \"First respondent v Poland seeking judicial review of second respondent's bail decision. first respondent was granted bail under the Extradition Act 1988 (Cth)\", 'George v Commonwealth of Australia [2009] FCA 69 (11 February 2009)', 'Metcash Trading Limited v Bunn [2006] FCA 16 (11 August 2006)', 'Fifth, sixth and seventh respondent in Alfred v Wakelin [2008] FCA 1543 (11 October 2008)', 'Veterans\\' Review Board (the \"Commission\") upheld that decision.', '5.3A of the Corporations Act 2001 (Cth) (the Act)', \"Veteran's Affairs Division of the Administrative Appeals Tribunal\", 'Trade Marks Act 1995 (Cth) [2006] FCA 100 (9 August 2006)', 'GE Finance Australasia Pty Ltd v John Holland Pty Limited [2009] FCA 1017 (11 March 2009)', 'Finance, BHPDRI and BHPTM', 'First Respondent v Ministerial Delegate [2008] FCA 1011 (11 August 2008)', 'True', 'Ascot Four [2008] FCA 1295 (11 August 2008)', \"Leonie's Travel Pty Ltd v Qantas Airways Limited [2006] FCA 1017 (11 August 2006)\", 'Danley Construction Products Pty Ltd (Danley) seeks interlocutory injunctions under section 52 of the Trade Practices Act 1974 (Cth)', 'Gregory Peter Phillips, 50, died of oesophageal cancer in 2003. respondent paid the applicant $466,667.', 'The applicant has appealed from a decision of the Commissioner of Taxation (\"the Commissioner\") on 17 November 2006 (the \"Tax Year\").', 'First Respondent v Tennant, [2008] FCA 1022 (9 August 2009)', 'Mirrar People v Commonwealth Government [2009] FCA 1022 (11 August 2009)', 'Sebel Furniture Limited v Reed Furniture Limited [2009] FCA 6 ( the principal judgment ).', 'Territory Realty Pty Ltd (Territory Realty), Excess Pty Ltd (Excess) and Bishop Estate Pty Ltd (Bishop Estate)', 'Storm Financial Limited (Receivers and Managers Appointed) for the winding up of Victorian Families Retirement and Investment Group Pty Ltd.', 'ASIC v Storm Financial Limited [2009] FCA 269 [2010] FCA 269 [2010] FCA 269 [2010] FCA 269 [2010] FCA 269 [2010] FCA 269 [2010] FCA 269 [2010] FCA 269 [2010] FCA 269 [2010] FCA 269 [2010] FCA 269 [2010] FCA 269 [2010] FCA 269 [2010] FCA 279 [2010] FCA 289 [', 'Union of Australia v Construction, Forestry, Mining and Energy [2008] FCA 1804 [2008] FCA 1801 [2008] FCA 1802 [2008] FCA 1803 [2008] FCA 1804 [2008] FCA 1804 [2008] FCA 1806 [2008] FCA 1808 [2008] FCA 1807 [2008] FCA 1804 [2008] FCA 1804 [2008] FCA 1804 [2008] FCA 1804 [2008] FCA 1804 [2008', \"Dragan Vasiljkovic or Captain Dragan, is a commander of a special unit of Serbian paramilitary troops in the Republic of Croatia. on 17 February 2006 Australia received an 'extradition request' to extradite the applicant to the Republic of Croatia.\", 'House v Defence Force Retirement and Death Benefits Authority [2008] AATA 38', 'Riva Properties Pty Limited ( Riva ) and Sakkara Properties Pty Limited ( Riva )', 'Veda Advantage Information Services and Solutions Limited (Veda) was at all material times a \"credit reporting agency\" and carried on a \"credit reporting business\"', 'Wilson FM v Minister for Immigration and Multicultural Affairs [2006] FCA 1017 (11 August 2006)', 'Jennings Ltd v Beaudesert Shire Council [2003] FCA 1017 (11 August 2006)', 'Singapore Airlines Limited v ACCC [2006] FCA 1017 (11 August 2006)', 'Wyeth Pharmaceuticals Limited v TGA [2008] FCA 1022 (11 August 2009)', 'Merim Pty Limited v Style Limited [2006] FCA 1017 (11 August 2006)', 'Federal Magistrates Court v Minister for Immigration and Multicultural Affairs [2006] FCA 1017 (11 August 2006)', 'Richard Campbell v Jervois Mining Limited [2009] FCA 1017 (11 August 2009)', 'The Commonwealth of India v Desai (26 March 2009) [2008] FCA 1022 (9 August 2009)', 'Fegan is President of Victoria No. 1 Branch of the Health Services Union. she seeks interim orders under ss 163 and/or 164 of Schedule 1 to the Workplace Relations Act 1996 (Cth)', 'Soh v Commonwealth of Australia [2008] FCA 517.', 'Soh v Commonwealth of Australia [2008] FCA 517.', 'Respondent v BlackBerry [2009] FCA 1017 (11 August 2009)', \"Appellant's case has an unusual history\", 'Combis v Lynari Pty Ltd [2009] FCA 1022 (11 August 2009)', 'John Holland Proprietary Limited v Ports Corporation of Queensland [2009] FCA 1022 (11 August 2009)', 'The Deputy District Registrar of the Native Title Act 1993 (Cth) (Native Title Act)', '109 of the Commonwealth Constitution', \"Sunnyfield Association (Sunnyfield) v Commissioner of Patents (Delegate's Decision) 25 January 2007\", 'Minister for the Environment, Heritage and the Arts [2008] FCA 588 (11 August 2008)', 'Screenex Pty Ltd (\"Screenex\"), Weatherford Australia Pty Ltd (\"Weatherford\"), and Johnson Screens (Australia) Pty Ltd (\"Jones Screens\") are the owners and exclusive licensees of the two patents in suit.', 'Roadshow v iiNet [2006] FCA 100 (11 August 2006)', 'Ann Street Mezzanine Pty Ltd (in liquidation) (Ann Street) was a company in the group. It raised in excess of $64 million through the issue of promissory notes.', 'Jacobson J v First to Fourth Respondents [2009] FCA 1022 (9 August 2009)', 'Commonwealth Bank of Australia v Horvath [2008] FCA 100 (11 August 2008)', 'Fegan v Victoria No. 1 Branch of the Health Services Union [2009] FCA 1008 (11 August 2009)', 's 792(1)(a) of the Workplace Relations Act 1996 (Cth) (WR Act)', 'Canberra Residential Developments Pty Limited ACN 098 326 375', 'Budd v Secretary, Department of Education, Employment and Workplace Relations [2008] FCA 1540', \"Mr Skalkos was made bankrupt on 25 June 2004 and discharged from bankruptcy on 3 March 2008. the present litigation arises from a reassessment made by Mr Nicols during Mr Skalkos' bankruptcy.\", 'Skiwing v Stockland [2006] FCA 100 (11 August 2006)', 'Suntory (Aust) Pty Ltd (Suntory) Pty Ltd) v Commissioner of Taxation (No 1) Bill 2009 (Cth)', 'APPEAL The second meeting of creditors of Babcock & Brown Limited ( BBL ) was held on 17 August 2009.', 'Croker v Commissioner of Taxation [2009] FCA 276 (11 March 2009)', 'Dr Toben v Adelaide Institute [2002] FCA 1022 (11 August 2002)', 'Federal Magistrates Court v Minister for Immigration and Multicultural Affairs [2008] FCA 1022 (11 August 2008)', 'Subs 21(1) of the Extradition Act 1988 (Cth)', 'Full Court of this Court in Molnar Engineering Pty Ltd v Burns [1984] FCA 232 ; (1984) 3 FCR 68', \"The appellant is a citizen of the People's Republic of China (China) who arrived in Australia on 8 June 1996.\", 'WorleyParsons v Bradken [2006] FCA 1022 (11 August 2006)', 'First Priority Developments Pty Ltd v Brisbane City Council [2008] FCA 1017 (11 August 2008)', 'APPLICATION FOR SUMMARY JUDGMENT', 'Thurlow v Master Ferries [2006] FCA 1219', 'Administrative Appeals Tribunal v Austrade', 'The Plaintiffs moved the Court for an order that they have leave to use the documents produced pursuant to subpoenas issued in this proceeding.', \"BACKGROUND This application is for a foreign proceeding to be recognised in Australia and for final orders to preserve the defendant's property in this jurisdiction.\", 'Mariana Crvenkovic v La Trobe University [2008] FCA 1531 (11 August 2008)', 'Boutcher v Jemella Australia Pty Ltd [2006] FCA 1017 (11 August 2006)', 'Midas Australia Pty Ltd and Midas Corporation Pty Ltd were placed into administration on 23 December 2008. Georges and McCluskey have been administrators of both companies since 2007.', 'Respondent v Australian Customs Service [2006] FCA 1022 (11 August 2006)', \"Furman v Earlsfield: Earlsfield and Furman are creditors of the first defendant. Furman v Earlsfield: final distribution of profits from sale of assets by gore. Furman: final distribution of profits was made in Earlsfield's bank account.\", 'Watts v Foster [2008] FCA 1017 (11 August 2008)', 'Zabusky v Brisbane Registry [2008] FCA 1017 (11 August 2008)', 'Fig Tree v Prime Limited [2007] FCA 1022 (9 August 2007)', 'Minister for Immigration and Citizenship [2008] FMCA 1035', 'Federal Court of Australia v The Sentry Corporation (1988) 19 FCR 155 at 161 --- 163', 'Calder v United Mexican States (2001) 209 CLR 165', 'Narnia Investments Pty Ltd and Simon Charles Clarke pleaded guilty to procuring the commission of an offence.', 'Hardel Investments Pty Ltd v Consolidated Byrnes Holdings Limited [2008] FCA 400', 'Clean Energy Council Limited v Szencorp Pty Ltd [2008] FCA 1022 (11 August 2008)', 'Hardel Investments Pty Limited v Alpha Asset Group Pty Ltd [2008] FCA 399', 'Richard Malcolm Campbell v Jervois Mining Ltd [2006] FCA 1022 (11 August 2006)', 'Swansea v Commissioner [2006] FCA 1022 (11 August 2006)', 's 31A of the Federal Court Act 1976 (\"the Copyright Act\") [2009] FCA 1022 (11 August 2009)', 'Adelaide Bank v BMG Poseidon Corp Pty Ltd ( 26 August 2007 )', 'Virgin Holdings SA v Commissioner of Taxation [2008] FCA 1503 ( Virgin Holdings ).', 'Victorian Families Retirement and Investment Group Pty Ltd (Provisional Liquidators Appointed) (hereafter Victorian Families)', 'Federal Magistrates Court [2008] FMCA 1576 (Cth)', 'Multiplex v Australian Securities and Investment Commission [2008] FCA 1017 (11 August 2008)', 'Scott v Commonwealth of Australia [2009] FCA 1022 (11 August 2009)', 'Altinova Nominees Pty Ltd v Leveraged Capital Pty Limited (2008) 66 ACSR 293', 'Telstra and Optus are engaged in the provision of telecommunications services in Australia.', 's 31A of the Federal Court of Australia Act 1976 (Cth)', 'Chamberlain v South Wagga Sports and Bowling Club Ltd [2009] FCA 25.', 'Bavaria NV, a family-owned company in The Netherlands, is seeking registration of the trade mark for beer.', 'Mr Tsekouras v Insolvency and Trustee Service Australia [2008] FCA 1022 (11 August 2008)', 'Phisci Pty Ltd v Green Frog Nominees Pty Ltd [2008] FCA 100 (11 August 2008)', 'Austcorp International Limited v Pacific International Hotels Pty Limited [2006] FCA 1022 (11 August 2006)', 'Harris Scarfe v Australian Competition and Consumer Commission [2009] FCA 54 (the primary judgment)', 'a Notice of Motion filed by the applicant on 17 December 2008', 'Stacey Brothers Plumbing Pty Ltd v Waterco Ltd [2009] FCA 1022 (11 February 2009)', 'Garnet International Resources Pty Ltd (GIRL) owns an alluvial garnet mine at Port Gregory, near Geraldton, Western Australia (the mine).', 'Mason v Australvic Property Management Pty Ltd (in liquidation)', 'Woolworths Limited (ACN 000 034 819) v Respondent [2006] FCA 1017 (11 August 2006)', 'Giuseppe de Simone and Serafino de Simone, investors in a proposed theatrical production called \"Jolson --- The Musical\"', 'ADMISSIONS The matter was adjourned on 9 April 2008 to allow mediation. the parties agreed that the deeds would be entered in favour of the applicant.', 'Geoffrey Harper v Reg-Air Pty Ltd (AirAg Aviation Services Pty Limited)', 'Legal professional privilege v Maurice Blackburn Pty Ltd [2006] FCA 1017 (11 August 2006)', 'Multiplex Limited and Brookfield Multiplex Funds Management Limited (together Multiplex)', 'The Registrar of the Federal Magistrates Court has now adjourned the proceedings in respect of each of the purported appeals', 'Citrus Queensland Pty Ltd v Sunstate Orchards Pty Ltd [2006] FCA 1017 (11 August 2006)', 'Graham J v Bentley-Smythe Pty Ltd (No 2) [2009] FCA 334', 'Federal Magistrates Court v Minister for Immigration and Citizenship [2008] FCA 795 at [9]', 'The nature and history of the proceeding', 'Minister for Immigration and Citizenship v Minister for Immigration and Citizenship [2009] FCA 1017 (11 August 2009)', 'Lawyers for Forests Inc. v Minister for Environment, Heritage and the Arts [2009] FCA 330 (11 April 2009)', 'ss 232, 233 and 1400 of the Corporations Act 2001 (Cth)', 'Carl and Carpe Diem v Farinhas [2008] FCA 1022 (11 August 2008)', 'Tran v The Commonwealth [2008] FCA 901 (11 August 2008)', 'Vanda Russell Gould v Australian Securities and Investments Commission [2004] FCA 1015 (11 August 2004)', 'WPS Motorsport Pty Limited (Administrator Appointed) (hereafter WPS Motorsport)', 'Dr Toben has sought costs on an indemnity basis.', 'Gaye Alexandra Luck v University of Southern Queensland [2008] FCA 1582.', 'IRCSA v Belinda Bourne [2008] SAIRC 13', 'Interville v Australian Federation Against Copyright Theft [2007] FCA 1022 (11 August 2007)', 'Scarborough Equities Limited [2009] FCA 24.', 'Commissioner of Income Tax v Perth [2008] FCA 1022 (11 August 2008)', 'Minister for Immigration and Citizenship [2009] FCA 175.', 'Australian Broadcasting Corporation v Lyne Federal Court of Disputed Returns [2008] FCA 1022 (11 August 2008)', 'Mason v Australvic Property Management Pty Ltd (in liquidation)', 'Central Aviation Pty Ltd (\"Central\") v Civil Aviation Safety Authority [2006] FCA 100 (11 August 2006)', 'Administrative Appeals Tribunal v Shane Heffernan [2006] FCA 1022 (11 August 2006)', 'Minister for Immigration and Citizenship v Minister for Immigration and Citizenship (2009) 106 ALD 211, [2009] AATA 44 ( the Questions of Law and the Grounds of Appeal )', 'Respondent v Sumitomo Mitsui Financial Group Pty Ltd [2009] FCA 300 (11 March 2009)', 'First Respondents v Sunstate Orchards Pty Ltd [2008] FCA 1364.', 'Adnunat v Reid Construction Systems Pty Ltd [2003] FCA 1920 at [6]', 'The First Respondent v Willowdene Constructions Pty Ltd [2006] FCA 1022 (11 August 2006)', 'Mellor v First Respondent [2006] FCA 100 (11 August 2006)', 'The issue in this appeal is whether patent application 2004203855 satisfies s 79B(1)(b) of the Patents Act 1990 (Cth)', 'Tramanco Pty Ltd (Tramanco) has today instituted proceedings against BPW Transpec Pty Ltd in respect of an alleged infringement of its patent', \"Anthony Roberts and Daniel Stutterd were aware of the First Respondent's Houses in 2006. the applicants have submitted 17 proposed interrogatories for consideration.\", 'ACCC v Singapore Airlines Cargo Pte Ltd [2008] FCA 100 (11 August 2008)', 'Ordinary Resolution Approval of new issue of securities', 'Silverglow Asset Pty Ltd (Silverglow or the company) was incorporated on 11 April 2005 for the purpose of purchasing land near Geraldton, WA and undertaking the Sunset Beach residential subdivision development', 'Section 494C of the Migration Act 1958 (Cth)', 'Village Life Ltd (now known as Fig Tree Developments Ltd) and a number of former or current officers', 'Federal Magistrates Court of Australia [2008] FCA 1022 (11 August 2008)', 'Lodge Partners Pty Ltd (Lodge) v Pegum [2006] FCA 1022 (9 August 2006)', 'Cahill v Construction, Forestry, Mining and Energy Union [2006] FCA 1017 (11 August 2006)', 'Gaye Luck v Primary Judge [2008] FCA 1022 (11 August 2009)', 'Jorge De Moya (Mr De Moya) embarked upon a bold, new project --- the establishment of an olive grove near Wallowa in the Mallee Country in Western Victoria', 'The primary issues for determination in this case are: (a) Yes. (b) No.', 'First respondent v Minister for Immigration and Citizenship [2009] FMCA 129 (11 August 2009)', 'Alejandro Toro Martinez v Minister for Immigration and Citizenship [2008] FCAFC 132 ; (2008) 171 FCR 56', 'a further amended statement of claim filed on 10 March 2009 is to be struck out. the third respondent in the proceeding seeks an order that those costs be paid forthwith.', 'Kowalski v MMAL Super [2008] FCA 691 (11 August 2008)', \"Immigration Minister's Delegate v Minister for Immigration and Nationality Affairs [2008] FCA 1022 (11 August 2008)\", 'Wingecarribee Shire Council v Lehman Brothers Australia Limited [2009] FCA 503.', 'Wagyl Kaip native title claim. the South West Aboriginal Land & Sea Council (SWALSC)', 'Apache v WA Government [2008] FCA 1022 (11 August 2009)', 'Federal Magistrate Nicholls dismissed the appeal on 25 August 2008. The appellants are two young children who were born in Australia in 1999.', 'Court of Appeal in Van Der Velde v Ng [2009] FCA 529 [2009] FCA 529 [2009] FCA 529 [2009] FCA 529 [2009] FCA 529 [2009] FCA 529 [2009] FCA 529 [2009] FCA 529 [2009] FCA 529 [2009] FCA 529 [2009] FCA 529 [2009] FCA 529 [2009] FCA 529 [2009] FCA 529 [2009]', 'Australian Communications and Media Authority v First to Seventh Respondents', 'ACCC v Harris Scarfe Australia Pty Ltd (Harris Scarfe) Inc.', 'Wide Bay Conservation Council Inc v Burnett Water Pty Ltd [2009] FCA 237', 'First Respondent v Minister for Immigration and Citizenship [2009] FMCA 51', 'Marshall J v Jemena Asset Management Pty Ltd [2009] FCA 327', 'a delegate of the Minister for Immigration and Citizenship refused to grant a protection visa to the appellants.', \"The Minister's Delegate v Minister for Immigration and Nationality Relations [2008] FCA 1022 (11 August 2008)\", 'a respondent to a proceeding involving a patent seeks revocation of the patent on the ground of invalidity.', \"Ministerial delegate refused to grant first appellant a UC-Temporary Business Entry (class 457) visa. Mr Bagwe's application for judicial review was dismissed on 19 March 2009.\", 'Williams v Construction, Forestry, Mining and Energy Union [2009] FCAFC 8', 'APPELLANT v Minister for Immigration and Citizenship [2008] FMCA 799', 'Australian Competition and Consumer Commission v Commissioner for Railways [2008] FCA 1920 [9]', 'ACC Motion to strike out the Further Amended Defence', 'The Respondent is a former employee and director of the applicant who carries on business hiring scaffolding in Australia and overseas', 'Immigration Act 1958 (Cth) [2008] FCA 1022 (11 August 2008)', 'Jarrett FM v Cairns [2008] FCA 1022 (11 August 2008)', 'Administrative Appeals Tribunal Act 1975 (Cth)', 'Pearson v Commissioner of Taxation [2006] FCAFC 111', 'Federal Magistrate v Minister for Immigration & Anor [2009] FMCA 254', 'Barrick v Qantas Flight Catering Limited [2007] FCA 835', 'Priestley v Minister for Justice and Parliamentary Service Merit Protection Commissioner [2007] FCA 1017 (11 August 2007)', 'Priestley v Commissioner of Merit Protection [2007] FCA 1015 (11 August 2007)', 'Davis v Family Court of Australia [ 2009] FCA 1017 (11 August 2009)', 'Appellant is a citizen of Nepal who arrived in Australia on 4 February 2008', 'Gilmour J v Fieldmont Holdings Pty Ltd [2008] FCA 1022 (11 August 2008)', 'ABB Grain Ltd v Rural Directions Pty Ltd [2008] FCA 1964.', 'a barrier element in the guardliner system was not \"mounted on\" the barrier element. the steel beam in the guardliner system was not \"mounted on\" the barrier element.', 'Respondent v Zdenek Simandl [2008] FCA 1016 (11 August 2008)', 'Olivaylle Pty Ltd v Flottweg AG [2009] FCA 522 (11 May 2009)', 'Contract Blinds Pty Ltd v Construction Forestry Mining and Energy Union [2008] FCA 1017 (11 August 2008)', 'The Collection v First Respondent [2008] FCA 1022 (11 August 2008)', 'Appellant is a citizen of Pakistan who arrived in Australia on 25 May 2006', 'Walmbaar Aboriginal Corporation v Gordon Charlie [2006] FCA 1408 (11 August 2006)', 'First Respondent v Etheridge Shire Council and Another (2008) 171 FCR 102 ; (2008) 250 ALR 485 ; 2008 175 IR 383.', 'Australian Crime Commission (the ACC) Act 2002 (Cth)', \"NSX and defendants have convened two general meetings. NSX contends that the directors validly convened the meeting for 27 May 2009. the defendants, on the other hand, contend that the defendants' meeting has been invalidly convened or at least should not be allowed to proceed.\", 'a primary judge in Branson v Toben [2002] FCA 1150', 'Federal Magistrate dismissed an appeal from a decision of the Migration Review Tribunal (the Tribunal)', 'Respondent v Roberta Jull [2006] FCA 1022 (11 August 2006)', 'Tracy v Western Australian Cricket Association [2009] FCAFC 498', 'B.M.W. Plastics Pty Ltd v Australian Standard Patent No 2001235262', 'a delegate of the Minister refusing to grant the appellant a protection visa', 'Van Efferen v CMA [2006] FCA 1022 (9 August 2006)', 'Jemella Australia Pty Ltd v Jemella Limited [2008] FCA 100 (11 August 2008)', 'Reed Furniture v Sebel Ltd ( 2006 )', 'Jarra Creek Central Packing Shed v Amcor Limited (2007) FCA 1559.', 'Futuris Corporation Limited v Commissioner of Taxation [2006] FCA 1096 (11 August 2009)', 'Respondent v Murphy [2008] FMCA 1638.', 'First Respondent v Monibrook Pty Ltd [2009] FCA 1022 (11 August 2009)', 'ACCC v AMV Holding Ltd [2008] FCA 1017 (11 August 2009)', 'Mars Australia Pty Ltd (\"Mars\") is an importer of confectionary products in Australia. the respondent has manufactured, distributed, marketed and sold Maltesers in this country since 1989.', 'Luxottica v First Respondent [2006] FCA 1022 (11 August 2006)', 'v Austal Ships Pty Ltd [2009] FCA 368 (11 August 2009)', 'Optiver Australia Pty Ltd v Tibra Trading Pty Ltd (2008) 169 FCR 435', 's 190F(6) of the Native Title Act 1993 (Cth) (the Act)', 'National Biofuels Group Pty Ltd v Elbow River Marketing Ltd Partnership [2008] FCA 1017 (11 September 2008)', \"Vincent Thomas O'Donoghue v Attorney General of the Commonwealth (1994) 52 FCR 386 at 389\", 'Sam Cassaniti and David Cassaniti have a problem.', 'Borcherdt v Tribunal for Release Discharge and Indemnity (27 November 2007)', 'Commissioner of Taxation v Kalos Metron Charitable Trust (2008) 236 CLR 204 (11 December 2008)', 'Immigration and Citizenship Minister v Minister for Immigration and Citizenship [2008] FCA 1022 (11 August 2007)', 'Liquidators of second plaintiff, Mad Canoe Advertising Pty Ltd (in liquidation)', 'Victorian Families Retirement and Investment Group Pty Ltd (In Liquidation)', 'Mark Reddy, by himself and, where applicable, his employees, agents or otherwise, be restrained until further or other order of this Honourable Court. Jason Walter Bettles (of Worrells Solvency and Forensic Accountants, Level 6, 50 Cavill Avenue, Surfers Paradise in the State of Queensland) be appointed Receiver', 'Carroll v Benson Communications Pty Limited [2006] FCA 1017 (11 August 2006)', 'Donna Marguerite Conquo v Health Services Union [2006] FCA 1017 (11 August 2006)', 'First and third plaintiffs in Austcorp Group v Tribunal for Corporations Act 2001 (Cth)', 'CPL Millar, an enlisted member of the Australian Army, in the course of the Australian Defence Force operation Catalyst 2', 'Chaloner v Respondent [2008] FCA 1022 (11 August 2008)', 'Minister for Immigration & Anor [2008] FMCA 1025.', 'BB v Board of the Australian Crime Commission [2009] FCA 1017 (11 May 2009)', 'Minister for Immigration and Citizenship [2009] FMCA 98.', 'Veolia Water Australia Pty Ltd (the Blue Water Joint Venture) and Sydney Desalination Plant Pty Limited (the Kurnell premises)', 'Qantas Airways Ltd v IATA [2009] FCA 288 (11 March 2009)', 'ATS All Trades and Services Pty Ltd (ATS), John Barry and Aaron Bell', 'CFMEU v Australian Building and Construction Commissioner [2009] FCA 194 (11 February 2009)', 'Howards Storage World v Haviv Holdings Pty Limited [2009] FCA 242 (11 August 2009)', 'Western Australia v Nyangumarta People for Native Title determination', 'Ms Yousif was employed by the Commonwealth Bank of Australia (the Bank) as a mobile lender in the Western Region', 'Commonwealth Bank of Australia v Yousif [2008] FCA 1017 (11 August 2008)', 'Tasmania v Minister for Transport and Regional Services [2008] FCA 1022 (11 August 2008)', 'Comcare v John Holland Rail Pty Ltd [2009] FCA 1022 (11 August 2009)', 'Zoia v Australian Government Solicitors Limited [2009] FCA 1022 (11 August 2009)', 'McGushin v Inspector-General [2008] FCA 1016 (11 August 2008)', \"Clarion Marketing Australia Pty Ltd v O'Neill (2006) 227 CLR 57 [2006] HCA 46 (11 June 2009)\", 'Private Frederick James Collett, Australian Army Service Corps, 2 nd Australian Imperial Force', '105-5(1) and 105-10 of Sch 1 to the Administration Act 2006 [2006] FCA 1022 (11 August 2006)', 'Cargill v Harbour City Real Estate Pty Ltd [2008] FCA 1382 (11 August 2008)', 'First Respondent v Minister for Immigration & Anor [2009] FMCA 207 [2008] FCA 1022 (11 August 2009)', 'Vranic v Minister for Education, Employment and Workplace Relations [2008] FCA 1068 (11 August 2008)', 'Allphones franchise business in Rundle Mall, Adelaide v respondent [2006] FCA 1017 (11 August 2006)', 'Forbes Asia v Teamsphere Ltd [2006] FCA 1017 (11 August 2006)', \"TRIBUNAL The delegate of the Minister refused the appellant's application for a Partner (Migrant) visa under s 65 of the Migration Act 1958 (Cth)\", 'Venturex v CMG Gold Limited [2009] FCA 1017 (11 August 2009)', 'Rural Export & Trading (WA) Pty Ltd v Hahnheuser [2007] FCA 1535 (2007) 243 ALR 356.', 'Federal Court of Australia convenes this morning, on country, at Portland Roads, Cape York', 'Food Channel Network Pty Ltd v Registrar of Trade Marks [2006] FCA 1017 (11 August 2006)', 'Ms Poniatowska v Hickinbotham Homes Pty Ltd (Homes) [2006] FCA 1022 (9 August 2006)', 'Alstom Power Limited v Eraring Energy [2004] FCA 706 [2004] FCA 709 (11 August 2004)', 'ACCC v Dukemaster Pty Ltd [2006] FCA 100 (11 August 2006)', 'A New Tax System (Goods and Services Tax) Regulations 1999 (Cth) ( the GST Regulations )', \"s 30C of the Veterans' Entitlements Act 1986 (Cth) [2006] FCA 1022 (11 August 2006)\", 'True', 'Monica Varas v Fairfield City Council [2006] FCA 1017 (11 August 2006)', 'NBKB v Minister for Immigration and Citizenship [2008] FMCA 1046', 'Markethaven Pty Ltd (subject to Deed of Company Arrangement) and the Commonwealth of Australia (the \"Commonwealth of Australia\").', 'Blaze Asset Pty Ltd v Target Energy Limited [2009] FCA 1017 (11 August 2009)', 'Eight proceedings before the Honourable Court.', 'Fringe Benefits Tax (Act) 2006 (Cth) [2008] FCA 1022 (11 August 2007)', 'Worrell v Commonwealth Bank of Australia [2009] FCA 1017 (11 August 2009)', 'Commonwealth of Australia v Comcare [19] FCA 1022 (11 August 2006)', 'Avzur Hotels Pty Ltd v Ivanhoe Entertainment Pty Ltd [2007] FCA 1022 (9 August 2007)', 'Jane Rutter v JFT (WA) Pty Limited (\"Brookland Valley\")', 'Windsor v SMS [2008] FCA 1022 (11 August 2008)', 'False', 'Pakula Tackle Australia Pty Ltd (Pakula Tackle) v Zacatak Lures Australia Pty Limited (Trade Marks Act 1995) (Trade Marks Act 1995)', 'Skins Compression Garments Pty Ltd, Mr Jaimie Royston Fuller and Mr Christopher Thomas Warhurst', 'Service of the motion', 'Federal Magistrate Smith v Minister for Immigration and Nationality Relations [2008] FCA 100 (11 August 2008)', 'Allcommercial Finance Australia Pty Limited (in liquidation)', 'Australian Amalgamated Terminals Pty Limited v Patrick Stevedores Holdings Pty Limited [2010] FCA 1017 (11 August 2010)', 'StoresOnline v ACCC [2008] FCA 1017 (11 August 2009)', 'Legrande Enterprises Pty Limited v Australian Securities and Investments Commission [2006] FCA 1017 (11 August 2006)', 'The Tribunal affirmed a decision of the Minister not to grant the appellant a protection visa.', 'Colorado Investments Pty Limited v Diakyne Pty Limited ( 30 November 2007 )', 'McDonald v Calderbank [1975] All ER at 333', 'First Respondent v Metropole Building [2006] FCA 1325 (11 August 2006)', 'Blue Star Pacific Pty Ltd terminated the employment of Craig Brown and David Coombs on 25 June 2009', 'Rafferty v Time 2000 West Pty Ltd [2008] FCA 1925', 'Optus v Telstra [2009] FCA 1017 (11 August 2009)', 'First Respondent v Federal Magistrates Court [2008] FCA 1017 (11 August 2009)', 'Minister for Immigration and Citizenship [2009] FCA 1022 (11 August 2009)', 'Registrar Christie directed the parties to file Points of Claim and Points of Defence.', 'Minister for Immigration and Citizenship v Minister for Immigration and Citizenship (2009) 107 ALD 678 [2009] FCAFC 160 at [4].', 'The Australian Municipal, Administrative, Clerical and Services Union v Western Power [2009] FCA 1022 (11 August 2009)', 'Pacific Technologies (Australia) Pty Limited v Victoria [ 2008] FCA 1022 (11 September 2008)', 'Beautree Pty Limited v Pazoluca Pty Limited (Pazoluca) [2009] FCA 1017 (11 August 2009)', 'Second Respondent v Bentley-Smythe Pty Ltd [2009] FCA 335 (11 May 2009)', 'Timbercorp Limited v Plantation Land Limited [2006] FCA 1015 (11 August 2006)', 'Vopak v Land Development Corporation (ABN 11 768 147 358) [2009] FCA 1022 (11 August 2009)', 'Hua v Commissioner of Taxation [2008] AATA 1033 ; (2008) ATC 10-058', 'Commissioner for Revenue v PAAN Investments Pty Ltd [2006] FCA 1017 (11 August 2006)', 'The Minister v Minister for Immigration and Nationality [2009] FCA 1017 (11 August 2009)', 'Lift v Hayes [2008] FCA 1022 (11 August 2008)', 'Blue Star Pacific Pty Ltd v Respondent [2006] FCA 1022 (11 August 2006)', 'First Respondent v First Respondent [2008] FCA 1022 (11 August 2008)', 'Radio 2UE Sydney Pty Ltd has been ordered to pay pecuniary penalties under s 205F(1) of the Broadcasting Services Act 1992 (Cth)', 's 444F of the Corporations Act 2001 (Cth) [2006] FCA 1017 (11 August 2006)', 'Federal Magistrates Court v Minister for Immigration & Citizenship [2009] FCA 1166 [12]-[14]', 'Second Respondent Abbreviation Proceeding NSD No LSS Agile Pty Ltd Primus Telecommunications Pty Limited Primus 78/2008 ACCC Arbitrator', 'Lex Wotton v Queensland [2007] FCA 280.', 'Australian Crime Commission Special Investigation Authorisation and Determination (Financial Crimes) 2008', 'SS v Australian Crime Commission [2009] FCA 580 [2009] FCA 581 (11 August 2009)', 'Hogan v Australian Crime Commission [2009] FCAFC 71 [2009] FCAFC 71', 's 32AB of the Federal Court of Australia Act 1976 (Cth)', \"IATA v Leonie's Travel Pty Ltd [2009] FCA 646 (11 August 2009)\", 'French J v First Respondent and Second Respondent [2008] FCA 34 ; (1984) 2 FCR 1 at 3 --- 4', 'ISSUE The respondent is a national business which owns and operates several facilities under the OHS Act', 'City Pacific Limited v Trilogy Funds Management Limited [2009] FCA 1016 (11 August 2009)', 'Lawrenson Light Metal Die Casting Pty Ltd v Graham [2009] FCA 303.', 'Austcorp International Limited v Rares J [2009] FCA 432 (11 August 2009)', 'Goyan v Motyka [2008] Aust Torts Reports p81-939', 'Respondent and applicant to substantive proceedings in bankruptcy', 'ASIC v Brookfield Multiplex Limited [2008] FCAFC 123 [2008] FCAFC 227', 'Defendant v Ralph [2009] FCA 721 (11 August 2009)', 'cl 136.213 of Sch 2 of the Migration Regulations 1994 (\"the Regulations\") [2006] FCA 1022 (9 August 2006)', 'Minister for Immigration v Minister for Immigration [2008] FMCA 1714 ( SZHEW No 3 ) [2006] FMCA 1750 ( SZHEW No 2 ) [2006] FMCA 1750 ( SZHEW No 2 )', 'City of Swan, Parkes Shire Council and Wingecarribee Shire Council v Lehman Brothers Australia Limited ( deed)', \"Workplace Expansion Agreement 2008 between John Holland Pty Ltd and the Australian Workers' Union\", 'Second Respondents v Bovis Lend Lease Pty Ltd [2006] FCA 1022 (11 August 2006)', 'The Federal Court of Australia convenes today at Aurukun to make and explain the reasons for making the Orders under s 87 of the Native Title Act 1993 (Cth)', 'Aporo was sentenced to two years imprisonment with a non-parole period of one year and six months.', 'Kazimir Kowalski v Repatriation Commission [2008] FCA 100 (11 August 2008)', 'The Court of Appeals for the District of Columbia [2006] FCA 1042 (11 August 2006)', 'Federal Magistrate v Minister for Immigration & Anor [2008] FMCA 1563', 'Greenwood J v Citrus Queensland Pty Ltd [2009] FCA 452 (11 August 2009)', 'Larrikin Music Publishing Pty Ltd v Marion Sinclair [2008] FCA 1022 (11 August 2009)', 'Miller v JLCS Pty Ltd [2007] FCA 867 (11 August 2007)', 'Elliott (Gurungu/Kulumintini) estate group', 'Douglas James Doelle v Social Security Administration [2008] FCA 1022 (11 May 2009)', '\"Without Prejudice Save as to Costs\" offer of compromise in shareholder fraud class action. plaintiffs alleged that a funded class action constituted a managed investment scheme.', 'Deputy District Registrar of the Federal Court of Australia', 'Commissioner of Taxation v Edgewater Estates Limited [2009] FCA 611 [2009] FCA 611.', 'Opes Prime Stockbroking Limited v Australian Securities and Investments Commission [2008] FCA 594 ; (2008) 66 ACSR 116', 'First Respondent v Minister for Immigration and Citizenship [2008] FCA 1022 (11 August 2008)', 'First Respondent v Minister for Immigration and Citizenship [2008] FCA 1017 (11 August 2008)', 'Cooley vs Cartan (Courtrail) [2009] FCA 1022 (9 August 2009)', 'Granitgard Proprietary Limited v Termicide Pest Control Proprietary Limited [2008] FCA 865 (11 August 2008)', 'First Respondent v Minister for Immigration and Citizenship [2008] FCA 1022 (11 August 2008)', \"Branch of the Victoria No. 1 Health Services Union has become dysfunctional for over a year. antagonism between two groups formed by members of Branch's Committee of Management and their supporters.\", 'Minister for Immigration & Anor [2008] FMCA 1219', 'Commissioner of Taxation seeks recovery of monies due by respondent. two notices issued under s 260-5 to Schedule 1 of the TAO on 22 June 2007.', 'Lucev FM v Devere Holdings Pty Ltd & Ors [2008] FMCA 1220 (11 August 2008)', 'Mr Fernando v Minister for Immigration and Nationality Affairs [2007] FCA 1022 (11 August 2007)', 'Native title in respect of an area of approximately 117,600 hectares along the Stuart Highway', 'Qenos Pty Limited v Minister for Trade and Industry [2008] FCA 100 (11 August 2008)', 'Siam Polyethylene Co Limited v Minister of State for Home Affairs [2009] FCA 837 ( the review judgment ).', 'Customs Act 1901 (Cth) [2006] FCA 1022 (11 August 2006)', 'Minister for Immigration and Citizenship [2008] FCA 1440', 'First Respondent v Minister for Immigration and Citizenship [2008] FCA 1008 (11 August 2008)', 'Appellant is a citizen of China who arrived in Australia on 2 August 2006', 'Federal Magistrate dismissed an application for judicial review of a decision of the Refugee Review Tribunal (the Tribunal) of 23 January 2009', 'The First Proceeding Barbara Rachel Shaw v Minister for Families, Housing, Community Services and Indigenous Affairs [2009] FCA 1022 (11 August 2009)', 'Michael John Spencer v Logan J [2009] FCA 1022 (11 February 2009)', 'Gould v Companies Auditors and Liquidators Disciplinary Board [2009] FCA 475 (Earlier Reasons)', 'APPLICATION FOR LEAVE TO APPEAL INTERLOCUTORY DECISION', 'Allphones Retail Pty Ltd v Minister for Immigration & Multicultural Affairs [2009] FCA 673 (11 August 2009)', 'Minister for Immigration & Anor [2008] FMCA 1379', 'Federal Magistrate v Minister for Immigration and Citizenship [2009] FMCA 408.', 'Owston Nominees No 2 Pty Ltd v Firepower Holdings Group Limited [2008] FCA 100 (11 August 2008)', 'Respondent v Western Australian Co-operative Group Limited [2008] FCA 1017 (11 August 2009)', 'Kezchek v Secretary, Department of Education, Employment and Workplace Relations (2009) 108 ALD 618; [2009] AATA 248', 'Opes Prime Stockbroking Limited [2009] FCA 813 (11 August 2009)', '760 of the Workplace Relations Act 1996 (Cth) (\"Act\") [2009] FCA 1022 (9 August 2009)', 'Bella Products Pty Ltd v Creative Designs International Ltd [2008] FCA 1022 (11 August 2009)', 'HID v Keycorp [2008] FCA 1022 (11 August 2008)', 'EMAS Offshore Pte Limited v T-D Joint Venture Pty Limited [2006] FCA 1017 (11 August 2006)', 'Forbes Engineering (Asia) Pte Limited v Forbes [2009] FCA 675', 'Queensland Alumina Limited (QAL) v Fitzroy River [2008] FCA 1017 (11 August 2008)', 'Respondent v Defence Force Retirement and Death Benefits Authority [2008] FCA 100 (11 August 2009)', 'Minister for Immigration and Citizenship [2009] FMCA 475.', 'Federal Magistrates Court v Minister for Immigration and Citizenship [2008] FMCA 1506', 'White Top Taxis Limited (WTT) v Transport Act 1987 (Vic)', 'Flavia Andrieri v White/White Partnership [2003] FCA 1016 (11 June 2003)', 'Minister for Immigration and Citizenship v MZXNQ [2009] FMCA 197', 'Minister for Immigration and Citizenship v SZMWY [2009] FMCA 226.', 'M3FS v Mawson Group Australia Limited [2008] FCA 1017 (11 August 2008)', 'Residential Investments Australia Pty Ltd v 122-136 Mason Street Pty Ltd [2009] FCA 1022 (11 August 2009)', 'Rinka v Minister for Immigration and Multicultural Affairs [2006] FCA 1022 (9 August 2006)', 'Minister for Immigration and Multicultural Affairs [2008] FMCA 1716.', 'Minister for Immigration & Anor [2008] FMCA 1372.', 'Plantronics v Telstra: Acoustic shock protection devices', 'Guylian is a Belgian manufacturer of boxed chocolates which are sold in over 132 countries around the world. the Madrid Protocol provides for international registration of trade marks in multiple countries.', 'Federal Magistrates Court v Minister for Immigration & Citizenship [2008] FMCA 1533 [2008] FCA 1022 (11 August 2007)', 'Australian Rail, Tram, Bus and Industry Union ( the Union ) are parties to the 2005 agreement.', 'Federal Magistrates Court v Minister for Immigration & Anor [2009] FMCA 469 (11 August 2009)', 'Scarlett FM v Tribunal for Refugees in China [2008] FCA 1022 (11 August 2008)', 'Timbercorp Limited (in liquidation) and Timbercorp Securities Limited (in liquidation)', 'Minister for Immigration & Anor [2009] FMCA 466', 'Australian Competition and Consumer Commission (ACCC) v Teracomm Ltd [2008] FCA 1022 (11 August 2009)', \"Federal Magistrate affirmed Minister for Immigration and Citizenship's decision to cancel a visa. the Tribunal had affirmed the cancellation of the appellant's visa.\", \"Applicants' father was a supporter of the SDL Party in Fiji. he supported the Reconciliation Bill in Fiji, a bill apparently opposed by the military.\", 'Federal Magistrates Court of Australia v Minister for Immigration and Citizenship [2009] FMCA 273', 'Federal Magistrate v Minister for Immigration and Multicultural Affairs [2004] FCA 1017 (11 August 2006)', 's 1323 of the Corporations Act 2001 (Cth) (Corporations Act)', 'Minister for Immigration and Refugees [2006] FCA 1022 (11 August 2006)', 'Uniline Australia Ltd v SBriggs Pty Ltd [2009] FCA 222; (2009) 81 IPR 42', 'Security for costs v Van Tol Tran [2009] FCA 1017 (11 August 2009)', 'Wang v (Australia) Co Pty Ltd (ACN 101 665 785) [2007] FCA 1022 (11 August 2007)', 'Zoia v Secretary, Department for Social Security (SSAT) [2008] FCA 1022 (11 August 2009)', 'Respondent to WAD79 of 2008 and WAD81 of 2008', 'Minister for Immigration and Citizenship [2007] FMCA 2073', 'ATO v Ivyside Pty Ltd [2006] FCA 1022 (11 August 2006)', 'ATO v Ivyside Pty Ltd [2006] FCA 1022 (11 August 2006)', 'Respondent v Australian Taxation Office (ADJR Act 1977) [2006] FCA 1022 (11 August 2007)', 'Respondent v Australian Taxation Office (ADJR Act 1977) [2006] FCA 1022 (11 August 2006)', 'Respondent v Australian Taxation Office (ADJR Act 1977)', 'Refugee Review Tribunal v Minister for Immigration and Citizenship [2009] FMCA 395.', 'Minister for Immigration and Citizenship v Minister for Immigration and Citizenship [2009] FMCA 263.', 's 190F(6) of the Native Title Act 1993 (Cth)', 'Section 190F(6) of the Native Title Act 1993 (Cth) (the NTA)', 'QCC v Australian Capital Territory [1992] HCA 51 (11 August 1992)', 'Wyeth Australia Pty Limited ( Wyeth Australia ) v Wyeth Australia Pty Limited ( Wyeth Australia )', 'Medrad Inc. v Alpine Medical Pty Ltd [2009] FCA 1017 (11 August 2009)', 'Federal Magistrates Court v Minister for Immigration and Citizenship [2008] FCA 1815 (11 August 2008)', 'Minister for Immigration & Anor [2008] FMCA 952 (11 August 2008)', 'Federal Magistrate Cameron v Minister for Immigration and Nationality Relations [2008] FCA 1017 (11 August 2008)', 's 80(1AA) of the Trade Practices Act 1974 (Cth)', 'Sylvania Resources Limited v Great Australian Resources Ltd (GAU) [2010] FCA 1022 (9 August 2010)', 'Respondents v Second Applicant [2009] FCA 1011 (11 August 2009)', 'Minister for Immigration and Refugees v Minister for Justice [2009] FCA 1022 (11 August 2009)', 'Federal Magistrate erred in law by not according natural justice to the Applicant, says dr. sanjay gupta. draft notice of appeal from two interlocutory decisions of a Federal Magistrate. gupta: \"the decision to vacate and adjourn the trial pending the outcome of this appeal\"', 'WA v Sons of Gwalia Ltd (Under external administration) (1988) 14 NSWLR 711 at 714', 'AAE, formerly known as Advanced Allergy Elimination Pty Ltd, operates clinics for the diagnosis and treatment of allergies.', 'Federal Magistrate v Amcor Limited [2009] FCA 959 [2009] FCA 959 (11 August 2009)', 'First Respondent v Minister for Immigration and Citizenship [2008] FCA 1017 (11 August 2008)', 'Centrelink v Fazio [2008] FCA 1022 (11 August 2008)', 'a delegate of the Minister for Immigration and Citizenship refusing an application by the visa applicant for a visa under s 65 of the Migration Act 1958 (Cth)', 'Vintage Gold Investments Pty Ltd v Deputy Commissioner of Taxation [2007] FCA 1022 (11 August 2007)', 'Immigration and Citizenship Tribunal v MIAC & Anor [2008] FMCA 372', 'MaxiTRANS Australia Pty Ltd v AMWU [2008] FCA 1017 (11 August 2008)', 's 65 of the Migration Act 1958 (Cth) [2006] FCA 1016 (9 August 2006)', 'Craftmatic Australia Pty Ltd ACN 108 312 983 (Craftmatic) in relation to alleged unconscionable conduct and misleading or deceptive conduct', 'MAS and PCH each carry on competing businesses in the scaffolding industry.', 'Immigration and Citizenship Tribunal v Minister for Immigration and Citizenship [2008] FCA 1022 (11 August 2008)', 'Minister for Immigration and Citizenship [ 2009] FCA 1017 (11 August 2009)', 'Yarrabah Aboriginal Shire Council (the \"Council\") v Gunggandji People [1986] FCA 1022 (9 August 2006)', 'Allphones v ACCC [2008] FCA 1017 (11 August 2008)', 'Purcell v APS Chemical Superannuation Pty Ltd [2008] FCA 1323 (11 August 2008)', 'Hneidi v Minister for Immigration and Citizenship (2008) 104 ALD 668', 'Minister for Immigration and Citizenship v Minister for Immigration & Anor [2008] FCAFC 876 ( SZKTI )', 'Makucha v Fairbrook PMA Pty Ltd [2009] FMCA 577', 'Driver FM v Minister for Refugees [2008] FCA 1017 (11 August 2008)', 'Mitsubishi Motors Australia Limited v South Australia [2008] FCA 1016 (11 December 2008)', 's 39 of the Administrative Appeals Tribunal Act 1975 (Cth)', 'Federal Court v Kavanagh [2008] WAIRComm 24 (23 February 2009) at [17]', 'Casimir force measurements between gold films', 'Retardation of Casimir-Polder force due to atomic motion', 'The interacting boson model', 'Quantum-classical dynamics and quantum matter', 'Ambainis and quantum one-way communication complexity', 'Quantum error prevention strategies', 'Phase space and quantum mechanics', 'eigenvalues and eigenfunctions for a symmetric double-well potential', 'Unambiguous state comparison', 'Quantum phase space in quantum optics', 'Quantum process tomography of an entangling process', 'Aharonov-Bohm effect in phase space', 'Quantum measurement is universal for quantum computation', 'Born probability rule in quantum theory', 'Toffoli gate quantum circuit', 'Quantum computing in optical systems', 'Standard scattering in quantum mechanics', 'Phys. Rev. A bf 60, 4083 (1999)] and Berry and myself [Phys. Rev. A bf 65, 043803 (2002)]', 'Localizing properties and entropy production of the Newtonian limit', 'Nonuniform quantum computations', 'Noncommutative Bayesian Inference from a Killing horizon', 'Quant-ph/0401060', \"Coherences'' and infinitesimal correlation\", 'atomic inversion and Wigner function in the Jaynes-Cummings model', 'Phermion and abnormal phermion algebras', 'Generalized quantum dynamics for the description of forward and backward time evolution within a physical system', 'Pure-state informationally complete POVMs', 'Ising model in one and two dimensions', 'Quantum nondemolition detection of monophotonic and vacuum states in a toroidal cavity', 'Degeneracy in adiabatically transported quantum systems', 'Theoretical trajectories of Bohmian mechanics', 'Wavelet solutions of nonlinear dynamical problems', 'Bosons and fermions in two-qubit system', 'Nonunitary symmetries in entanglement', 'Quantization of many-body systems in three dimensions in rotating coordinate frames', 'Chaos degree in dynamical systems', 'The numerical approach to detect eigenfrequencies of trapped modes in waveguides', 'Raman lasing', 'Anharmonic and Double Well Oscillators', \"Bell's theorem\", 'Limit stochastic Schrodinger equations for an open model', 'Entanglement in Valence-Bond-Solid state', 'Chaos in a 2-D Hamiltonian system', 'entanglement properties of pure density matrices', 'Probabilistic interpretation of relativistic quantum mechanics', 'Casimir energy and condensation', 'Quantum capacity of classical-quantum-classical channels', 'Ordinary approach to quantum algorithm', 'Towards a simplified model of the recognition process', 'Quantum Turing Machine', 'Quantum circuits for group-covariant POVMs', 'a one-shot method for preparing pure entangled states between a sender and a receiver', 'The Mirror Superposition Experiment', 'Quantum protocols often require the generation of specific quantum states', 'Bell, John S. (1986)] [Phys. Rep. 137, 49 (1986)]', 'Spin Network Simulator Model', 'Corrugations of asymmetric corrugations', 'Generalized coherent states for shape invariant potentials', 'hbar -> 0 in quantum electrodynamics', 'The rigged Hilbert space of the one-dimensional barrier potential', \"Brukner and Zeilinger's interpretation of quantum mechanics\", 'Down converted beams from the parametric down conversion', 'The second order generalized Dirac equation', 'Quantum Error Correction Scheme', 'Decoupling the interactions in spin networks governed by a pair-interaction Hamiltonian', 'EPR and the local causality assumption', 'Quantum calibration', 'Zero-point energy and free energy of electromagnetic waves in vacuum', 'Non-Hermitian Hamiltonian h with real spectrum', 'All-fibre source of amplitude squeezed solitons', 'Gibbs-type entropy and its dynamical behavior in case of non-equilibrium processes', 'QuFault, the authors software package generates test plans for arbitrary quantum circuits', 'Entropy of a Sub-System', 'The Hamiltonian Energy of a Quantum System', 'Quantum adversary method', 'Distinctness of Space-Time', 'Random subspaces in quantum information theory', 'Hamiltonians of the generalized Calogero, Wolfes and Morodinsky types', 'Bell inequalities and decoherence in particle physics', 'Quantum interactive proof systems', 'Grover operator of database search algorithm', 'Energy-Time Entanglement for plasmonic light transmission', 'Lower bounds on communication in EPR-type experiments', 'Quantum nonlocality without entanglement', 'Temperature dependence of the Casimir force between a real metallic plate and a metallic sphere', 'Deuterium dissociation rate at the Sudbury Neutrino Observatory', 'chirality in organic chemistry', 'QED analysis of polarization correlations', 'Mechanical motions at gigahertz frequencies', 'Error threshold for fault tolerant quantum computation with concatenated qubits', 'Non-deterministic approximating photon number resolving detectors using non-discriminating detectors', 'Quantum Jump Approach', 'PT-symmetric cubic anharmonic oscillator', 'Quantum process tomography', 'Anharmonic oscillator characterized by the cubic potential', 'Second Quantization for Fermi Oscillators', 'Deformation quantization of a single particle moving in one dimension', 'Aspects of adiabatic potentials in one-dimensional quantum physics', 'BB84 protocol with random privacy amplification', \"entanglement between register qubits in Shor's factoring algorithm\", 'QND measurements on qubit systems', 'The Four Models of Energy Decoherence', 'Casimir force acting on a micrometer-sphere', 'Quantum entanglement and the computational power of these states', 'Strong values for single photon polarization', 'Local realism (LR) in neutral meson systems', 'Quantum channels with two senders and one receiver', 'Quaternary QED in the Weak Coupling Regime', 'Four-level systems in quantum optics', 'Hermiticity of a Hamiltonian', 'Ultracold Plasma at Kelvin Temperature', 'Quantum teleportation', 'Quantum process validation of classical circuits', 'Majorization relations for the ground state of (1+1)-dimensional conformal fields', 'Strongest Preconditions in Quantum Computing', 'Chaos-like fidelity decay behavior in non-chaotic systems', 'entanglement cost of multipartite bound entangled states', \"Feynman's exponential of the action\", 'Maximum sets of MUBs with combinatorial structure', 'Quantum toboggans', 'NP-complete problems in the physical universe', 'Higher-order supersymmetric quantum mechanics', 'Large-N behaviour of fermions on a lattice', 'Unitary Evolution and the effects of dissipation and decoherence for a general three-level system', 'Quantum field theory of a damped vibrating string', 'Confluent second-order supersymmetric quantum mechanics', \"Feynman's laws of quantum dynamics\", 'Non-local correlations between the internal variables of two atoms in an antinodal region', 'n-qubit quantum state space', 'Compatibility and separability in quantum and classical systems', 'Generalized Coherent States for Linear Harmonic Oscillators', 'The Hidden Subgroup Problem (HSP)', 'Two-Photon Singlet State in Hong-Ou-Mandel Interfering', 'Noncommutative quantum mechanics', 'PT-Synthesis Breaking and Level Crossing', 'Partially Grover search algorithm can find a target item in a database faster than any classical algorithm', 'Analytic Construction of Positive Operator-Valued Measures', 'The Schrodinger equation for the filtered state of a system', 'General Quantum Gates', 'non-local boxes can simulate quantum correlations from any measurement. the magic square pseudo-telepathy game and the Mermin-GHZ pseudo-telepathy game are examples.', 'The stress tensor for the quantized electromagnetic field', 'Quantum algorithm for partial search', 'Entanglement measures in finite dimensional systems', 'General Integral Representation for Separable States', 'GHZ-rate and asymptotic entanglement', 'Quantum Key Distribution Protocol for d-level systems', 'Relaxation optimized methods for transfer of polarization along Ising spin chains', 'Casimir Pressure Calculation', 'Classical statistical particle mechanics', 'Self-organization effects related to light amplification in the collective atomic recoil laser system', 'General U(1) Transformations on programmable quantum processors', 'Theorem without inequalities', 'Quantum Gates and Information Complexity', 'Non-commutative System of SU(1,1)', 'Encoding operators in the Clifford group for a given stabilizer', 'Flow condition on open graph states', 'Mechanics of cavity quantum electrodynamics', 'a standing-wave dipole-force trap in the center of the cavity', 'Maxwell field in extra-dimensional space', 'Controlled-Z Gates', 'Topology of the closed-loop system', 'PT symmetric quantum mechanics', 'String theory, quantum geometry and loop quantum gravity', 'Wave packet broadening in quantum gravity', \"Clock speed'' and architecture of quantum computers\", 'Quant-ph/0403092 and quant-ph/0409026', 'General Trojan horse attacks on quantum key distribution systems', 'symmetrization of an incoming microstate with similar states in a sea of microstates', 'The effect of an environment on a composite quantum system', 'Quantum state estimation problems', 'Dirac equation in (1+1)-dimensional spacetime', 'Hawking radiation and sonic black holes', 'Quantum nondemolition (QND) measurements of the polarization of qubits', 'Quantum knowledge in distributed quantum computation', 'Qubit quantum computation', 'Deformation quantization', 'Hamiltonians with real eigenvalues', 'Complementarity relations between local and nonlocal measurements', 'Generalized Laplacian matrices of graphs', 'Mechanical Similarity (LMS) and monomial potentials', 'Free evolution of quantum particles in ultrametric space', 'Quantum theoretic representation of real and complex numbers', 'Hamiltonian with non-uniform couplings', 'Generalized Entanglement', 'Hamiltonian H=half p2+half mu2x2-lambda x4', 'Real-valued charged fields in quantum electrodynamics', 'The Casimir force acting on a conducting piston', 'Generalized angular spectrum representation for quantized light beams', 'Compatibility between output and environment', 'Dissipative and nondissipative decoherence of Rabi oscillations', 'Quantum computers can solve certain computational problems significantly faster than any classical computer', 'entanglement of unknown atomic entangled states via cavity decay', 'Boson normal ordering problem', 'Boson Normal Ordering Problem', 'Nonlinear couplings and external magnetic field on the thermal entanglement', 'Quantum tomography', 'Quantum algorithm can find target item in a database faster than any classical. Partial search is the most efficient way to find the exact address of the target item.', 'Quantization of a classical system where an angle phi is one of the basic canonical variables', 'Quantum nondeterminism and classical proofs', 'Casimir pressure varies with separation for three different temperatures T=1, 300, 350K', 'Lorentz transformations of spin density matrices', 'Treewidth determinism in quantum computation', 'Nonlocality of a bipartite measurement', 'Freedman et al., 1984, Jones polynomial at the fifth root of unity', 'Finitely generated uniform QCFs', 'Quantum key distribution protocol', 'Curvature in three-dimensional Darboux-spaces', 'Aladin2 is a first measurement of variations of Casimir energy in a rigid cavity', 'Geometric phases in quantum physics', 'Phase super-resolution in the absence of entangled states', 'entangling and disentangling power', 'Time-reversal and exchange of Alice and Bob', 'Thermalisation of the universe', 'QMAC capacity region calculation', 'Radiative heat transfer between two parallel metal surfaces at different temperatures', 'Relative entropy of two n-party quantum states', 'One-way Functions in Statistical Zero Knowledge', 'Quantum Shannon theory is loosely defined as a collection of coding theorems which characterize asymptotic properties of quantum and classical channels', 'Adiabatic passage techniques for a spectral or temporal characterization of single-photon sources', 'Unambiguous programmable discriminators for any n unknown quantum states', 'Non-perturbative Schrodinger equations', 'Covariance in quantum mechanics', 'Interferences between the position and momentum of a single free particle', 'ancilla squeezed single photon and superposition of coherent states', 'Four-Component Dirac equation', 'Fermions and Bosons in QED', 'Localization of a quantum sawtooth map in the perturbative regime', 'A relativistic quantum mechanics', 'Quantum mechanics has led to new physical theories', 'General Quantization Processes', 'Quantum network coding', 'Quantum fluctuations in the finite quantum field', 'Hamiltonian with $cPcT$ symmetry', 'Quantum circuits are secretly chosen from a finite set of unitary operations', \"Einstein's 1905 special relativity theory\", 'PT-symmetric but non-Hermitian Hamiltonians', \"Gauge transformation of Maxwell's equations\", 'Continuous variable quantum key distribution', 'Currents and the foliation of spacetime', 'Topological error correcting codes', 'Quantum hardcore functions for classical and quantum one-way functions', 'Non-hermitian Hamiltonian H_eff and Lindblad form of dissipator', 'Informal review of the research works carried out during three years of PhD', 'Current Densities on the Space of Klein-Gordon Fields', 'Quantum mechanics of first quantized Klein-Gordon fields', 'PT-symmetric and Hermitian/non-Hermitian forms of quantum systems', 'Non locality appearing in QFT during the free evolution of localized field states', 'Thermalization in highly excited quantum many-body systems', 'Zero-point energy of quantum electromagnetic fields', 'Ghirardi-Rimini-Weber theory and Bohmian mechanics vs. Ghirardi-Weber theory. both theories postulate additional variables besides the wave function.', 'Deformed Heisenberg algebra leading to minimal length', 'Macroscopic quantum tunneling', \"Kempf's quadratic commutation relation in one dimension\", 'Raman transitions between hyperfine states', 'Const ant $C$', 'The hyperbolic Scarf potential and the Schrodinger equation', 'Spatial dispersion on the thermal Casimir force between two metal half spaces', 'Partial search algorithm for finding the target block', 'The periodic solutions of biorthogonal systems', 'The collective production of electron-positron pairs by electrostatic waves in quantum plasmas', 'The exchange energy J for a system of two quantum dots', 'High dimensional entanglement of photons', 'Non-Hermitian formulation of excited bound states', 'Wave Functions in the Schroedinger equation', \"Generalization of Simon's problem to arbitrary groups\", 'Templates to optimize quantum circuits', 'Free and bound entanglement', 'EPR-type correlations in quantum mechanics', 'Quantum cryptography is the only approach to privacy ever proposed that allows two parties to communicate with provably perfect secrecy under the nose of an eavesdropper', \"Quantum phase flow induced under the Weyl's association rule\", 'Kempf generalizes Snyder algebra to a 1+1-dimensional space-time', 'Generalized MIC-Kepler system and four-dimensional singular oscillator', 'Quantum state tomography', 'Fast-light pulse propagation through adiabatic and adiabatic probes', 'The Pauli Hamiltonian and the Georgi-Glashow model', \"White's Density Matrix Renormalization Group\", 'Quantum computing of the ground-state energies', 'Theoretical and Experimental Corrections to the Casimir Effect', 'False', 'q-deformed Poisson bracket in the classical regime', 'Anyonic and fermionic excitations in a honeycomb lattice', 'Time as an observable, canonically conjugate to energy', 'Quantum teleportation and entanglement swapping', 'Lower and upper bounds on the parameters for stochastic state vector reduction', 'Using the entangled three qubit states classified by Acin and al.', \"'effective model' of quantum systems\", 'Theorems Characterizing the Existence of Homological Error Correction Codes', 'Area law scaling of the geometric entropy', 'The physics of interference between two stationary, rectilinear wave functions', 'Double slit problem', 'Quake Space State Functions', 'Gravitational wave entropy and spin negativity', 'Worldline numerical algorithms for Casimir interaction energies', 'Pati [3].', 'Permutation and its partial transpose in quantum information theory', 'Lowest order of perturbation theory', 'Aladin2 is a first measurement of variations of Casimir energy in a rigid body', 'a distributed secret key for generating Bell-inequality violations', 'Real Klein-Gordon (KG) fields with positive semi-definite norm', 'inverse kinetic theory for quantum hydrodynamic equations', 'Semi-spectral methods in quantum mechanical problems', 'rho_iotimes n, rho_j, rho_N,...', 'QD-cavity coupling and WGMs in a microdisk cavity', 'Entanglement in the ground state of the XY spin model on infinite chain', 'Quantum walks on certain graphs', 'Casimir forces in open geometries with edges', 'von Neumann entropy of a block of neighboring spins', 'a quantum Monte-Carlo method for the Ehrenfest evolution', 'Lower bounds on the probability of success p of identifying a pure state', 'Gaussian Channels', 'Maxwell and Neumann boundary conditions', 'Bohmian mechanics and spontaneous wave function collapse', 'Quantum arithmetic on a distributed quantum computer', 'Thermal and Quantum Fluctuations', 'Reversible Networks of Toffoli Gates', 'Spectra in the Hilbert space', 'Many-body Models', 'Quantum algorithm that efficiently approximates the colored Jones polynomial', 'Generalized Binomial State in High-Q Cavities', 'QIP and quantum simulators', 'Hawking radiation effects on an entangled pair near the event horizon', \"Nonlinear shifts in Schrodinger's equation\", 'Quantum chromatic number of a graph', 'Quantum search algorithms for finding \"marked\" elements in the state space of a Markov chain', 'Sums in quantum mechanics', 'The Rabi problem for the two-spin equation', 'Weighted graphs on circulant graphs', 'Fluctuations of the white-light supercontinuum produced by laser pulses in selfguided filaments', 'Feynman path integral technique for superintegrable potentials', 'Universality of ancilla states', 'Abelian gerbe over classical phase space', 'Fast Quantum Algorithm for Finding Target Items in a Database', 'Quantum fractals on n-dimensional spheres', 'Lame equations for arbitrary energy values', 'Quantum Computation and Mathematical Physics', 'Alice and Bob as adversaries in QKD', 'Quantum entanglement in non-inertial reference frames', 'Quasi-relativistic quantum mechanical problems', 'Self-adjoint Hamiltonians in the Coulomb field', 'Quantum mechanics and the measurement problem', 'The Hamiltonian and the supercharges of fractional supersymmetric quantum mechanics', 'Hermitian Hamiltonians H under which |psi_I> evolves into |psi_F>', 'General squeezed Gaussian states', 'The entanglement of one-dimensional harmonic chains', 'Path integral approach of superintegrable systems in Darboux spaces', 'Topologically protected qubit memory', 'Pauli and Klein-Gordon in scale relativity', 'Paul A. M. Dirac and Lorentz covariance in quantum mechanics', 'Theoretical Properties of Scale Relativity', 'QM myths and ambiguities', 'Quantum feedback in a finite-dimensional open quantum system', 'Coarse graining in quantum mechanics of closed systems', '-eigen- equations in phase space', 'Entanglement of seven qubits in N=8', 'ergodic classical-quantum channels with decaying input memory', 'bf first nontrivial example of the B-C-H expansion', 'Universal quantum computation', 'Casimir torque between two corrugated metallic plates', 'Parameter estimation of quantum channels', 'Semi-spectral Chebyshev method for solving numerically singular integral equations', 'General Lower bound on the bounded-error entanglement-assisted quantum communication complexity of Boolean functions', 'Lamei-Rashti and his collaborators', 'Nonlocal computation in quantum nonlocality', 'Memory errors in the quantum repeater scheme', \"Human languages contain excess baggage' that must be qualified, discarded, or otherwise reformed in the context of fundamental physics.\", 'Topological and algebraic structures underlying the quantum teleportation', 'Gauge invariance of geometric phases for mixed states', 'Exact Casimir interaction energy between two perfectly conducting, very long, eccentric cylindrical shells', 'Quantum cryptography and conjugate code pairs', 'Concatenating quantum error-correcting codes', 'Time-dependent scattering theory and time delay for an anisotropic quantum system', 'Generalized path-integral as a quantal measure $mu$', 'Unambiguous and minimum-error discrimination schemes', 'Classical coding in quantum information', 'Non-unitary quantum walks on the line and cycle', 'Entanglement in quantum information theory', 'Diosi and Penrose criterion for gravitationally induced state vector reduction', 'Casimir force in a planar cavity', 'Error Correcting Mechanism in the Quantum Interference Computer Approach', 'ADV+- lower bound on quantum query complexity', 'Conditional information of a classical probability distribution', 'Quantum mechanics in a one-parameter family of volcano potentials', 'The measurement problem in quantum mechanics', 'Reflection positivity and quantum vacuum', 'QKD system with fainted pulses', 'Generalized Coherent States in Phase Space', 'Quantum entanglement in Basic logic', 'Fields of quantum reference frames based on gauge transformations of rational string states', 'Drude parameters in the mid-infrared range', 'Anharmonic Potential and its eigenvalues', 'Bopp operators for spins', 'entanglement in particle systems', 'First correction beyond proximity force approximation for a cylindrical graphene sheet', 'Qubit generation in semiconductor quantum dots', 'Local realism and QM', 'Entanglement entropy and the computational difficulty of simulating Quantum Mechanics', 'Nuclear Polarization of 15N@C60 Nuclei', 'Quantum Computing and Cryptography', 'The Complete Universe', \"Richard Feynman's three papers on the rest of the universe''\", 'QM of the two phase spaces', 'Nonlocal quantu systems and higher-derivative models', \"Kempf's deformed algebra with minimal length\", 'q-deformed oscillators and their commutation', 'Correlation function in quantum field theory', 'Tunneling in an open system', 'Topological Model of Wave-Particle Duality', 'Achievable Rate Regions for Quantum Broadcast Channels', 'Phase estimation of photonic $N00N$ states propagating in an attenuating medium', 'Quantum gates for a non-Markovian model', 'Semantic space models in human practical reasoning', 'Verstraete et al.', 'Measurement in Quantum Computing', 'In quantum world, winning conditions of two party games', \"Asher Peres' EPR paper in 1935\", 'Quantum mechanics in phase space', 'Dynamical Reduction Program', \"Dirac's hole theory [1]\", 'Quantum Error Correction (QEC) on logical qubits', 'Quantum mechanics as a collection of classical subsystems', 'entanglement between modes of a free scalar field', 'Aharonov-Casher phase in two dimensions', 'Two-Particle Wave Function of Einstein-Podolsky-Rosen System', 'Quantum Logic as a propositional logic', 'Relativistic time-of-arrival theory for massive spin-1/2 particles', 'Matrix quasi exactly solvable operators', 'Towards a perturbative formalism of continuous-time histories', 'Non crossing property of Bohmian trajectories', 'Eigenvalues and corresponding eigenfunctions of Schrodinger equation', 'Simulating the Dirac equation in 3+1 dimensions', 'Wave-function simulations in cavity QED', 'Lorentz transformation of the helicity density matrix for a massive spin 1/2 particle', 'Extraspecial groups in quantum information theory', 'fidelity of a Mach-Zehnder quantum interferometer', 'Generalized Bell matrix', 'Theorem for the ergodic subspaces of the state spaces of closed quantum systems', 'Nonlocality and Bell inequalities', 'entanglement entropy for spin and helicity within the same inertial reference frame', 'The lateral Casimir force between corrugated surfaces', 'Krawtchouk matrices with nonnegative integer arguments', 'Selfadjoint Time Operator', 'Spin evolution in a slowly varying magnetic field', \"De Broglie's fusion model of photons\", 'Ansatz for the eigenfunction', 'The Klein-Gordon equation', 'Quantum dynamics is linear. How do we know? From theory or experiment?', 'Stationary states in the quantum world', 'QFT over ternary quantum digits', 'Quantum search of partially ordered sets', 'entanglement in quantum systems is a new resource as real as energy. Einstein, Podolsky, Rosen and Schr\"odinger recognized it over 70 years ago.', 'Monodromy and adiabatic separation of motion', \"Feynman's path integral framework\", 'Quantum bouncer states and quantum emission of gravitons', 'Non-associative quantum field theory', 'Non-local Correlation of B0 and B0bar with definite flavour', 'Relativistic bound states energies for the Woods-Saxon potential', 'Wave function and reduced action in the one-dimensional periodic potential', 'Topological Invariants of Links and 3-Manifolds in CSW', 'Entanglement in many-body systems', 'PL(S) and L(S)', 'Topos theory in quantum physics', 'Quantum Theory and the Local Languages', 'a new way of building a theory of physics', 'The exact master equation for two coupled quantum harmonic oscillators', 'Kramers-Kronig relations', 'The H-infinity controller synthesis problem', 'Second-order quantum phase transitions', 'Casimir free energy near T=0', 'Quantum synaptic effect', 'Bell-like inequalities in quantum mechanics', 'Topological-like features in the diagrammatical representation of quantum circuits', 'Drude dielectric function in perfect crystal lattices', 'Passage time in quantum brachistochrone', 'Practical realization of an abstract quantum circuit', 'Anharmonic Oscillator with x2M Potential', 'Deformed Heisenberg algebra leading to minimal length', 'Anhomomorphic Logic', 'Hu-Paz-Zhang master equation for quantum Brownian motion', 'Quantum relative entropy $D(sigma | rho)$', 'CR type bound of pure state models', 'Nonrelativistic quantum mechanics in the Fibre Bundle', 'Observables and the Hermitian bundle', 'Leptons as Kerr-Newman type Black Holes in Quantum Mechanical', 'Generalization of the results of Rasetti and Zanardi', 'Nonrelativistic quantum mechanics in a new form', 'On-Transition and On-Resonance Hamiltonians for the controlled-NOT gate', 'guiding of cold neutral atoms along current carrying wire', 'The monopole case in Fourier series theory', \"Quantum Cram'er-Rao bounds\", 'Decomposition of linear optical circuits', 'Quantum key distribution is the most well-known application of quantum cryptography.', 'Canonical transformations within wave mechanics', 'Unconcatenated CSS Codes and Local Operations', 'Quantum Fourier transform (QFT) implemented on a three bit NMR quantum computer', 'Absorption current density on a detector', 'Entanglement of distillation and formation', 'Probabilistic Representation for the Evolution of a Hubbard Model', 'Wave packet scattering off an attractive well', 'The Fredholm determinants of an isomonodromic family of covariant derivative operators K supported on the union of m curve segments', 'Laplacian growth problem in the limit of zero surface tension']\n",
            "Cosine Similarity: 0.583418023692444 \n",
            "Dot Product: 0.5834179893452675\n"
          ]
        }
      ],
      "source": [
        "cosine_similarity = 0\n",
        "dot_product = 0\n",
        "with open(\"predictions_120samples.txt\", \"r\") as f:\n",
        "  lines = f.readlines()\n",
        "  lines = [line.strip() for line in lines]\n",
        "  # print(lines)\n",
        "  for index, line in enumerate(lines):\n",
        "     sample_row = final_test_df.iloc[index]\n",
        "     reference = sample_row[\"headline\"]\n",
        "     en_1 = sentence_model.encode(reference)\n",
        "     en_2 = sentence_model.encode(line)\n",
        "     cosine_sim_result = util.cos_sim(en_1, en_2)\n",
        "     cosine_sim_result_float = cosine_sim_result.item()\n",
        "     dot_product_result = util.dot_score(en_1, en_2)\n",
        "     dot_product_result_float = dot_product_result.item()\n",
        "     cosine_similarity += cosine_sim_result_float\n",
        "     dot_product += dot_product_result_float\n",
        "  cosine_similarity /= len(final_test_df.index)\n",
        "  dot_product /= len(final_test_df.index)\n",
        "print(f'Cosine Similarity: {cosine_similarity} \\nDot Product: {dot_product}')"
      ]
    },
    {
      "cell_type": "code",
      "execution_count": 181,
      "metadata": {},
      "outputs": [
        {
          "name": "stdout",
          "output_type": "stream",
          "text": [
            "Cosine Similarity: 0.6696762194987387 \n",
            "Dot Product: 0.6696761835273355\n"
          ]
        }
      ],
      "source": [
        "cosine_similarity = 0\n",
        "dot_product = 0\n",
        "with open(\"predictions_2400samples.txt\", \"r\") as f:\n",
        "  lines = f.readlines()\n",
        "  lines = [line.strip() for line in lines]\n",
        "  for index, line in enumerate(lines):\n",
        "     sample_row = final_test_df.iloc[index]\n",
        "     reference = sample_row[\"headline\"]\n",
        "     en_1 = sentence_model.encode(reference)\n",
        "     en_2 = sentence_model.encode(line)\n",
        "     cosine_sim_result = util.cos_sim(en_1, en_2)\n",
        "     cosine_sim_result_float = cosine_sim_result.item()\n",
        "     dot_product_result = util.dot_score(en_1, en_2)\n",
        "     dot_product_result_float = dot_product_result.item()\n",
        "     cosine_similarity += cosine_sim_result_float\n",
        "     dot_product += dot_product_result_float\n",
        "  cosine_similarity /= len(final_test_df.index)\n",
        "  dot_product /= len(final_test_df.index)\n",
        "print(f'Cosine Similarity: {cosine_similarity} \\nDot Product: {dot_product}')"
      ]
    },
    {
      "cell_type": "code",
      "execution_count": 184,
      "metadata": {},
      "outputs": [
        {
          "name": "stdout",
          "output_type": "stream",
          "text": [
            "Cosine Similarity: 0.679211671102792 \n",
            "Dot Product: 0.679211633566767\n"
          ]
        }
      ],
      "source": [
        "cosine_similarity = 0\n",
        "dot_product = 0\n",
        "with open(\"predictions_6000samples.txt\", \"r\") as f:\n",
        "  lines = f.readlines()\n",
        "  # print(lines)\n",
        "  lines = [line.strip() for line in lines]\n",
        "  for index, line in enumerate(lines):\n",
        "     sample_row = final_test_df.iloc[index]\n",
        "     reference = sample_row[\"headline\"]\n",
        "     en_1 = sentence_model.encode(reference)\n",
        "     en_2 = sentence_model.encode(line)\n",
        "     cosine_sim_result = util.cos_sim(en_1, en_2)\n",
        "     cosine_sim_result_float = cosine_sim_result.item()\n",
        "     dot_product_result = util.dot_score(en_1, en_2)\n",
        "     dot_product_result_float = dot_product_result.item()\n",
        "     cosine_similarity += cosine_sim_result_float\n",
        "     dot_product += dot_product_result_float\n",
        "  cosine_similarity /= len(final_test_df.index)\n",
        "  dot_product /= len(final_test_df.index)\n",
        "print(f'Cosine Similarity: {cosine_similarity} \\nDot Product: {dot_product}')"
      ]
    },
    {
      "cell_type": "code",
      "execution_count": 183,
      "metadata": {},
      "outputs": [
        {
          "name": "stdout",
          "output_type": "stream",
          "text": [
            "Cosine Similarity: 0.6959643579442054 \n",
            "Dot Product: 0.6959643196407705\n"
          ]
        }
      ],
      "source": [
        "cosine_similarity = 0\n",
        "dot_product = 0\n",
        "with open(\"predictions_12000samples.txt\", \"r\") as f:\n",
        "  lines = f.readlines()\n",
        "  lines = [line.strip() for line in lines]\n",
        "  for index, line in enumerate(lines):\n",
        "     sample_row = final_test_df.iloc[index]\n",
        "     reference = sample_row[\"headline\"]\n",
        "     en_1 = sentence_model.encode(reference)\n",
        "     en_2 = sentence_model.encode(line)\n",
        "     cosine_sim_result = util.cos_sim(en_1, en_2)\n",
        "     cosine_sim_result_float = cosine_sim_result.item()\n",
        "     dot_product_result = util.dot_score(en_1, en_2)\n",
        "     dot_product_result_float = dot_product_result.item()\n",
        "     cosine_similarity += cosine_sim_result_float\n",
        "     dot_product += dot_product_result_float\n",
        "  cosine_similarity /= len(final_test_df.index)\n",
        "  dot_product /= len(final_test_df.index)\n",
        "print(f'Cosine Similarity: {cosine_similarity} \\nDot Product: {dot_product}')"
      ]
    }
  ],
  "metadata": {
    "accelerator": "TPU",
    "colab": {
      "provenance": []
    },
    "kernelspec": {
      "display_name": "Python 3",
      "name": "python3"
    },
    "language_info": {
      "codemirror_mode": {
        "name": "ipython",
        "version": 3
      },
      "file_extension": ".py",
      "mimetype": "text/x-python",
      "name": "python",
      "nbconvert_exporter": "python",
      "pygments_lexer": "ipython3",
      "version": "3.9.13"
    }
  },
  "nbformat": 4,
  "nbformat_minor": 0
}
